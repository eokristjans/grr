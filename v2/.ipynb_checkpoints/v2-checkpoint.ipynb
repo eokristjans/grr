{
 "cells": [
  {
   "cell_type": "markdown",
   "metadata": {},
   "source": [
    "#### Style Block\n",
    "<style>\n",
    "* { max-width = 800px; }\n",
    "</style>"
   ]
  },
  {
   "cell_type": "markdown",
   "metadata": {},
   "source": [
    "# Verkefni IIA\n",
    "## Samanburður á þremur útfærslum af lyklasöfnum\n",
    "### Höfundur: Erling Óskar Kristjánsson\n",
    "#### Námskeið: Greining Reiknirita\n",
    "#### Umsjónamaður: Hjálmtýr Hafsteinsson\n",
    "#### Stofnun: Háskóli Íslands\n",
    "#### Vor 2019\n",
    "<hr>"
   ]
  },
  {
   "cell_type": "markdown",
   "metadata": {},
   "source": [
    "## Lýsing\n",
    "\n",
    "Í þessu verkefni verða útfærðar og bornar saman þrjár gagnagrindur til að útfæra lyklasafn.\n",
    "Gagnagrindurnar eru:\n",
    "\n",
    "1. Tvíleitartré (Binary Search Tree)\n",
    "2. Hrúgutré (Treap)\n",
    "3. Skopplisti (Skip list)\n",
    "\n",
    "Gagnagrindurnar verða útfærðar í Python með aðgerðunum:\n",
    "\n",
    "- Innsetning\n",
    "- Uppfletting\n",
    "\n",
    "Smíðaðar verða gagnagrindur og gögn.\n",
    "\n",
    "Aðferðirnar verða svo tímamældar, niðurstöður birtar í línuritum, bornar saman og túlkaðar.\n",
    "\n",
    "Innsetningin verður tímamæld með bæði með $n_1=2000$ og svo með $n_2=5000$ lyklum þar sem gildi lyklana verður $1, 3, 5, ..., 2n-1$. Röðun lyklanna við innsetingu verður tvenns konar:\n",
    "\n",
    "- Lyklarnir eru í slembiröð.\n",
    "- Lyklarnir eru í hækkandi röð, burtséð frá $\\frac{n}{10}$ handahófskenndum víxlunum.\n",
    "\n",
    "Fyrir hvora gerð af innsetningu verða svo framkvæmdar tvær mismunandi tímamælingar á leit að $m_1=100.000$ og svo $m_2=200.000$ lyklum. Í öllum tilfellum verða allir lyklar jafnlíklegir til að verða fyrir leitinni, en ýmist verður\n",
    "\n",
    "- Einungis leitið að lyklum sem eru í gagnagrindinni, eða\n",
    "- Helmingur leitana eru að gildum sem eru ekki í gagnagrindinni.\n",
    "\n",
    "\n",
    "<hr>\n",
    "Því má summera tímamælingar á leit upp í:\n",
    "\n",
    "- Slembin innsetning, aðeins leitað að lyklum í gagnagrindinni\n",
    "- Slembin innsetning, helmingur leitana árangurslaus\n",
    "- Náröðuð innsetning, aðeins leitað að lyklum í gagnagrindinni\n",
    "- Náröðuð innsetning, helmingur leitana árangurslaus\n",
    "\n",
    "<hr>"
   ]
  },
  {
   "cell_type": "markdown",
   "metadata": {},
   "source": [
    "## Útfærsla á Gagnagrindum"
   ]
  },
  {
   "cell_type": "markdown",
   "metadata": {},
   "source": [
    "### Tvíleitartré"
   ]
  },
  {
   "cell_type": "code",
   "execution_count": 1,
   "metadata": {},
   "outputs": [
    {
     "name": "stdout",
     "output_type": "stream",
     "text": [
      "False\n",
      "True\n"
     ]
    }
   ],
   "source": [
    "# Tvíleitartré\n",
    "class Tree:\n",
    "\n",
    "    # Smiður\n",
    "    def __init__(self, data):\n",
    "        self.data = data\n",
    "        self.left = None\n",
    "        self.right = None\n",
    "\n",
    "    # Innseting\n",
    "    def insert(self, data):\n",
    "        if self.data:\n",
    "            if data < self.data:\n",
    "                if self.left is None:\n",
    "                    self.left = Tree(data)\n",
    "                else:\n",
    "                    self.left.insert(data)\n",
    "            elif data > self.data:\n",
    "                if self.right is None:\n",
    "                    self.right = Tree(data)\n",
    "                else:\n",
    "                    self.right.insert(data)\n",
    "        else:\n",
    "            self.data = data\n",
    "\n",
    "    # Uppfletting    \n",
    "    def contains(self, key):\n",
    "        if key < self.data:\n",
    "            if self.left is None:\n",
    "                return False\n",
    "            return self.left.contains(key)\n",
    "        elif key > self.data:\n",
    "            if self.right is None:\n",
    "                return False\n",
    "            return self.right.contains(key)\n",
    "        else:\n",
    "            return True\n",
    "\n",
    "root = Tree(12)\n",
    "root.insert(6)\n",
    "root.insert(14)\n",
    "root.insert(3)\n",
    "print(root.contains(7))\n",
    "print(root.contains(14))\n"
   ]
  },
  {
   "cell_type": "markdown",
   "metadata": {},
   "source": [
    "<hr>\n",
    "### Hrúgutré"
   ]
  },
  {
   "cell_type": "code",
   "execution_count": 12,
   "metadata": {},
   "outputs": [
    {
     "name": "stdout",
     "output_type": "stream",
     "text": [
      "-92 -39 15 39 \n"
     ]
    }
   ],
   "source": [
    "import random as random\n",
    "\n",
    "class TreapNode():\n",
    "    # Smiður\n",
    "    def __init__(self, data, parent = None):\n",
    "        self.data = data\n",
    "        self.priority = random.random()\n",
    "        self.parent = parent\n",
    "        self.left = None\n",
    "        self.right = None\n",
    "\n",
    "\n",
    "class Treap():\n",
    "    # Smiður\n",
    "    def __init__(self):\n",
    "        self.root = None\n",
    "\n",
    "    # Uppfletting    \n",
    "    def contains(self, data, r = None):\n",
    "        if r is None:\n",
    "            if self.root is None:\n",
    "                return False\n",
    "            r = self.root\n",
    "        if data < r.data:\n",
    "            if r.left is None:\n",
    "                return False\n",
    "            return self.contains(data, r.left)\n",
    "        elif data > r.data:\n",
    "            if r.right is None:\n",
    "                return False\n",
    "            return self.contains(data, r.right)\n",
    "        else:\n",
    "            return True\n",
    "\n",
    "    # Innsetning\n",
    "    def insert(self, data, r = None):\n",
    "        if r is None:\n",
    "            if self.root is None:\n",
    "                self.root = TreapNode(data)\n",
    "                return\n",
    "            else:\n",
    "                r = self.root\n",
    "        if data < r.data:\n",
    "            if r.left is None:\n",
    "                r.left = TreapNode(data, r)\n",
    "                self.balance(r.left)\n",
    "            else:\n",
    "                self.insert(data, r.left)\n",
    "        elif data > r.data:\n",
    "            if r.right is None:\n",
    "                r.right = TreapNode(data, r)\n",
    "                self.balance(r.right)\n",
    "            else:\n",
    "                self.insert(data, r.right)\n",
    "        else: # data == r.data\n",
    "            return\n",
    "\n",
    "    # Laga hrúguskilyrði\n",
    "    def balance(self, s):\n",
    "        while s.parent is not None and s.priority < s.parent.priority:\n",
    "            if s.data < s.parent.data:\n",
    "                self.rotate_right(s)\n",
    "            else: # self.data > self.parent.data\n",
    "                self.rotate_left(s)\n",
    "        if s.parent is None:\n",
    "            self.root = s\n",
    "         \n",
    "    def rotate_right(self, s):\n",
    "        p = s.parent\n",
    "        g = p.parent\n",
    "        if s.right is not None:\n",
    "            s.right.parent = p\n",
    "        if g is not None:\n",
    "            if p is g.left:\n",
    "                g.left = s\n",
    "            else: # p is g.right\n",
    "                g.right = s\n",
    "        p.left = s.right\n",
    "        s.parent = g\n",
    "        p.parent = s\n",
    "        s.right = p\n",
    "                       \n",
    "    def rotate_left(self, s):\n",
    "        p = s.parent\n",
    "        g = p.parent\n",
    "        if s.left is not None:\n",
    "            s.left.parent = p\n",
    "        if g is not None:\n",
    "            if p is g.left:\n",
    "                g.left = s\n",
    "            else: # p is g.right\n",
    "                g.right = s\n",
    "        p.right = s.left\n",
    "        s.parent = g\n",
    "        p.parent = s\n",
    "        s.left = p\n",
    "\n",
    "    \n",
    "treap = Treap()\n",
    "\n",
    "for i in range(5):\n",
    "    treap.insert(random.randint(-100,100))\n",
    "    \n",
    "s = ''\n",
    "for i in range(-100,100):\n",
    "    if treap.contains(i):\n",
    "        s = s + str(i) + ' '\n",
    "print(s)"
   ]
  },
  {
   "cell_type": "markdown",
   "metadata": {},
   "source": [
    "\n",
    "https://notendur.hi.is/~hh/kennsla/grr/verk02.html\n",
    "\n"
   ]
  },
  {
   "cell_type": "markdown",
   "metadata": {},
   "source": [
    "<hr>\n",
    "### Skip List"
   ]
  },
  {
   "cell_type": "code",
   "execution_count": null,
   "metadata": {},
   "outputs": [],
   "source": []
  }
 ],
 "metadata": {
  "kernelspec": {
   "display_name": "Python 3",
   "language": "python",
   "name": "python3"
  },
  "language_info": {
   "codemirror_mode": {
    "name": "ipython",
    "version": 3
   },
   "file_extension": ".py",
   "mimetype": "text/x-python",
   "name": "python",
   "nbconvert_exporter": "python",
   "pygments_lexer": "ipython3",
   "version": "3.6.5"
  }
 },
 "nbformat": 4,
 "nbformat_minor": 2
}
