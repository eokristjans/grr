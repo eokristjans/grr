{
 "cells": [
  {
   "cell_type": "markdown",
   "metadata": {},
   "source": [
    "#### Style Block\n",
    "<style>\n",
    "* { max-width = 800px; }\n",
    "    \n",
    ".column {\n",
    "  float: left;\n",
    "  width: 50%;\n",
    "}\n",
    "\n",
    "/* Clear floats after the columns */\n",
    ".row:after {\n",
    "  content: \"\";\n",
    "  display: table;\n",
    "  clear: both;\n",
    "}\n",
    "</style>"
   ]
  },
  {
   "cell_type": "markdown",
   "metadata": {},
   "source": [
    "# Verkefni IIA\n",
    "## Samanburður á tímaflækju aðgerða í þremur útfærslum af lyklasöfnum\n",
    "### Höfundur: Erling Óskar Kristjánsson\n",
    "<hr>\n",
    "#### Námskeið: Greining Reiknirita\n",
    "#### Umsjónarmaður: Hjálmtýr Hafsteinsson\n",
    "#### Stofnun: Háskóli Íslands\n",
    "#### Vor 2019\n",
    "<hr>"
   ]
  },
  {
   "cell_type": "markdown",
   "metadata": {},
   "source": [
    "## 1. Lýsing\n",
    "\n",
    "Í þessu verkefni verða útfærðar og bornar saman þrjár gagnagrindur til að útfæra lyklasafn.\n",
    "Gagnagrindurnar eru:\n",
    "\n",
    "1. Tvíleitartré (Binary Search Tree)\n",
    "2. Hrúgutré (Treap)\n",
    "3. Skopplisti (Skip list)\n",
    "\n",
    "Gagnagrindurnar verða útfærðar í Python með aðgerðunum:\n",
    "\n",
    "- Innsetning\n",
    "- Uppfletting\n",
    "\n",
    "Smíðaðar verða gagnagrindur og gögn.\n",
    "\n",
    "Aðferðirnar verða svo tímamældar.\n",
    "\n",
    "Innsetningin á $n_0=500$, $n_1=2500$ og $n_2=5000$ lyklum þar sem gildi lyklana verður $1, 3, 5, ..., 2n_i-1$ verður tímamæld. Röðun lyklanna við innsetingu verður tvenns konar:\n",
    "\n",
    "- Lyklarnir eru í slembiröð.\n",
    "- Lyklarnir eru í hækkandi röð, burtséð frá $\\frac{n_i}{10}$ handahófskenndum víxlunum (hér eftir: '~_hækkandi_ röð')\n",
    "\n",
    "Fyrir hvora gerð af innsetningu verða svo framkvæmdar tvær mismunandi tímamælingar á leit að $m_0=50.000$, $m_1=100.000$ og svo $m_2=200.000$ lyklum. Í öllum tilfellum verða allir lyklar jafnlíklegir til að verða fyrir leitinni, en ýmist verður...\n",
    "\n",
    "- Einungis leitið að lyklum sem eru í gagnagrindinni, eða\n",
    "- Helmingur leitana verða að gildum sem eru ekki í gagnagrindinni.\n",
    "\n",
    "Því má summa tímamælingar á leit upp í:\n",
    "\n",
    "- Slembin innsetning, aðeins leitað að lyklum í gagnagrindinni\n",
    "- Slembin innsetning, helmingur leitana árangurslaus\n",
    "- Náröðuð innsetning, aðeins leitað að lyklum í gagnagrindinni\n",
    "- Náröðuð innsetning, helmingur leitana árangurslaus\n",
    "\n",
    "\n",
    "Niðurstöður verða svo birtar í töflum og línuritum, og verða þær bornar saman og túlkaðar.\n",
    "<hr>"
   ]
  },
  {
   "cell_type": "markdown",
   "metadata": {},
   "source": [
    "<hr>\n",
    "## 2. Útfærsla á Gagnagrindum"
   ]
  },
  {
   "cell_type": "code",
   "execution_count": 3,
   "metadata": {},
   "outputs": [],
   "source": [
    "\"\"\"\"\"\"\"\"\" global imports \"\"\"\"\"\"\"\"\"\n",
    "import math, random, time\n",
    "import numpy as np\n",
    "import matplotlib.pyplot as plt"
   ]
  },
  {
   "cell_type": "markdown",
   "metadata": {},
   "source": [
    "<hr>\n",
    "### 2.1 Tvíleitartré\n",
    "Tvíleitartré er klassísk lyklasafn. Styrkleiki tvíleitartrésins er sá að útfærslan er auðveld. Það þarf ekki að hafa sérstakan klasa fyrir tré með rót, og annan fyrir nóður, því rótin breytist aldrei (nema henni sé eytt, en þessi útfærsla bíður ekki upp á eyðingar). Ef tréið er í jafnvægi þá er innsetningartími og leitartími fyrirsjáanlegur."
   ]
  },
  {
   "cell_type": "code",
   "execution_count": 4,
   "metadata": {},
   "outputs": [],
   "source": [
    "# Tvíleitartré\n",
    "class Tree:\n",
    "\n",
    "    # Smiður\n",
    "    def __init__(self, data):\n",
    "        self.data = data\n",
    "        self.left = None\n",
    "        self.right = None\n",
    "\n",
    "    # Innseting\n",
    "    def insert(self, data):\n",
    "        if self.data:\n",
    "            if data < self.data:\n",
    "                if self.left is None:\n",
    "                    self.left = Tree(data)\n",
    "                else:\n",
    "                    self.left.insert(data)\n",
    "            elif data > self.data:\n",
    "                if self.right is None:\n",
    "                    self.right = Tree(data)\n",
    "                else:\n",
    "                    self.right.insert(data)\n",
    "        else:\n",
    "            self.data = data\n",
    "\n",
    "    # Uppfletting    \n",
    "    def contains(self, key):\n",
    "        if key < self.data:\n",
    "            if self.left is None:\n",
    "                return False\n",
    "            return self.left.contains(key)\n",
    "        elif key > self.data:\n",
    "            if self.right is None:\n",
    "                return False\n",
    "            return self.right.contains(key)\n",
    "        else:\n",
    "            return True"
   ]
  },
  {
   "cell_type": "markdown",
   "metadata": {},
   "source": [
    "<hr>\n",
    "### 2.2 Hrúgutré\n",
    "Hrúgutréið hefur sér klasa fyrir tréið sjálft þar sem haldið er utan um hvaða nóða er rót. Aðgerðir eru framkvæmdar á tréið, sem geymir nóður.\n",
    "\n",
    "Hrúgutréið uppfyllir hrúguskilyrði þar sem nóður með hærri forgang (lægra gildi á _self.priority_) eru ofar í trénu. Útfærslan bíður ekki upp á að hægt sé að velja forgang á innsetta gildið, en í staðinn er framkölluð handahófskennd fleytitala á bilinu $[0,1)$ sem eru u.þ.b. $2^53$ ólík gildi, og líkurnar á að fá þá sömu tvisvar því gríðarlega litlar. Annars væri hægt að smíða forgangs-mengi (_Python set_) af tölum við smíði trésins og fjarlægja gildi úr því mengi og nota sem forgang. Þetta mengi þyrfti þó að að vera að endanlegri stærð, sem myndi takmarka stærð trésins.\n",
    "\n",
    "Leitin er mjög lík leitinni í tvíleitartré, fyrir utan að fyrst þarf að gá hvort hrúgutréið sé tómt, og ef ekki, þá skalhefja leit eins og í tvíleitartrénu út frá rótinni. Það lengir leitartíma örlítið, en hefur minni áhrif eftir því sem tréið verður stærra.\n",
    "\n",
    "Sama á svo við um innsetningu í hrúgutréið, nema að þar þarf einnig að laga hrúguskilyrðin eftir hverja innsetningu. Því er haldið fram í bókinni að snúningarnir taki bara fastan (nánast hunsanlega) tíma, en við munum sjá á tímamælingunum t.d. hvort innsetning á gildum með lyklum í slembinni röð sé þá raunverulega jafn snöggur í hrúgutréum og í tvíleitartréi."
   ]
  },
  {
   "cell_type": "code",
   "execution_count": 5,
   "metadata": {},
   "outputs": [],
   "source": [
    "class TreapNode():\n",
    "    # Smiður\n",
    "    def __init__(self, data, parent = None):\n",
    "        self.data = data\n",
    "        self.priority = random.random()\n",
    "        self.parent = parent\n",
    "        self.left = None\n",
    "        self.right = None\n",
    "\n",
    "\n",
    "class Treap():\n",
    "    # Smiður\n",
    "    def __init__(self):\n",
    "        self.root = None\n",
    "\n",
    "    # Uppfletting\n",
    "    def contains(self, data):\n",
    "        if self.root is None:\n",
    "            return False\n",
    "        self.__contains__(data, self.root)\n",
    "    \n",
    "    def __contains__(self, data, r):\n",
    "        if data < r.data:\n",
    "            if r.left is None:\n",
    "                return False\n",
    "            return self.__contains__(data, r.left)\n",
    "        elif data > r.data:\n",
    "            if r.right is None:\n",
    "                return False\n",
    "            return self.__contains__(data, r.right)\n",
    "        else:\n",
    "            return True\n",
    "\n",
    "    # Innsetning\n",
    "    def insert(self, data):\n",
    "        if self.root is None:\n",
    "            self.root = TreapNode(data)\n",
    "            return\n",
    "        self.__insert__(data, self.root)\n",
    "        \n",
    "    def __insert__(self, data, r):\n",
    "        if data < r.data:\n",
    "            if r.left is None:\n",
    "                r.left = TreapNode(data, r)\n",
    "                self.balance(r.left)\n",
    "            else:\n",
    "                self.__insert__(data, r.left)\n",
    "        elif data > r.data:\n",
    "            if r.right is None:\n",
    "                r.right = TreapNode(data, r)\n",
    "                self.balance(r.right)\n",
    "            else:\n",
    "                self.__insert__(data, r.right)\n",
    "        else: # data == r.data\n",
    "            return\n",
    "\n",
    "    # laga hrúguskilyrði\n",
    "    def balance(self, s):\n",
    "        while s.parent is not None and s.priority < s.parent.priority:\n",
    "            if s.data < s.parent.data:\n",
    "                self.rotate_right(s)\n",
    "            else: # self.data > self.parent.data\n",
    "                self.rotate_left(s)\n",
    "        if s.parent is None:\n",
    "            self.root = s\n",
    "         \n",
    "    def rotate_right(self, s):\n",
    "        p = s.parent\n",
    "        g = p.parent\n",
    "        if s.right is not None:\n",
    "            s.right.parent = p\n",
    "        if g is not None:\n",
    "            if p is g.left:\n",
    "                g.left = s\n",
    "            else: # p is g.right\n",
    "                g.right = s\n",
    "        p.left = s.right\n",
    "        s.parent = g\n",
    "        p.parent = s\n",
    "        s.right = p\n",
    "                       \n",
    "    def rotate_left(self, s):\n",
    "        p = s.parent\n",
    "        g = p.parent\n",
    "        if s.left is not None:\n",
    "            s.left.parent = p\n",
    "        if g is not None:\n",
    "            if p is g.left:\n",
    "                g.left = s\n",
    "            else: # p is g.right\n",
    "                g.right = s\n",
    "        p.right = s.left\n",
    "        s.parent = g\n",
    "        p.parent = s\n",
    "        s.left = p"
   ]
  },
  {
   "cell_type": "markdown",
   "metadata": {},
   "source": [
    "<hr>\n",
    "### 2.3 Skopplisti\n",
    "Skopplistinn hefur þann kost að lág lyklagildi eru framarlega, en engu að síður er nokkuð hraðvirkt að finna hærri gildi.\n",
    "\n",
    "Ókosturinn er sá að af þessum gagnagrindum reyndist hönnunin á skopplistanum vera mesta mausið (mögulega af því maður er vanari að hugsa um tré); oft hefði verið gott að hafa bendi upp á næsta lista fyrir ofan, og hefði það mögulega orðið hraðvirkara, en það brýtur skilgreininguna á skopplista. \n",
    "\n",
    "Það er einn galli í útfærslunni, en hann er í aðgerðinni `updateAbove`. Þar þarf stundum að ýtra um nokkur gildi í listanum fyrir neðan til að passa að hnúturinn bendi rétt niður, og getur þetta því aukið tímann örlítið fyrir hvera innsetningu. Þetta ætti að vera hjákvæmilegt, en höfundi tókst ekki að breyta þessari útfærslu skopplista án þess að þurfa að endursmíða hann frá grunni með hugmyndum annara. Engu að síður þá ætti þetta ekki að hafa áhrif á uppflettingartíma, sem kemur þó slakari út en vonast var eftir.\n",
    "\n",
    "Aftast í skýrslunni (í undirkafla 7.5) má finna `main()` aðferðir og fleiri til að skoða og prófa gagnagrindirnar. Sér í lagi var útfærð aðferðin `printSkiplist()` til að athuga að allir bendlar séu réttir, auk þess var bætt prent-skipunum inn í `insert()` og `contains()` til að ganga úr skugga um að leitin færi í rétta braut í hverri ítrun, og allt leit vel út. Þrátt fyrir það þá kemur í ljós að skopplistinn er yfirleitt slakari en hin tvö lyklasöfnin."
   ]
  },
  {
   "cell_type": "code",
   "execution_count": 7,
   "metadata": {},
   "outputs": [],
   "source": [
    "class ListNode():\n",
    "    \n",
    "    def __init__(self, key, right, down=None):\n",
    "        self.key = key\n",
    "        self.right = right\n",
    "        self.down = down\n",
    "\n",
    "\n",
    "class SortedLinkedList():\n",
    "    \n",
    "    def __init__(self):\n",
    "        self.tail = ListNode(math.inf, None)\n",
    "        self.head = ListNode(-math.inf, self.tail)\n",
    "        \n",
    "\n",
    "class SkipList():\n",
    "\n",
    "    def __init__(self):\n",
    "        self.layers = 0\n",
    "        self.sortedLists = [SortedLinkedList()]\n",
    "\n",
    "\n",
    "    def contains(self, x):\n",
    "        v = self.sortedLists[self.layers].head\n",
    "        while v is not None and v.key != x:\n",
    "            if v.right.key > x:\n",
    "                v = v.down\n",
    "            else:\n",
    "                v = v.right\n",
    "        return v is not None and v.key == x\n",
    "\n",
    "\n",
    "    def insert(self, x):\n",
    "        h = self.layers\n",
    "        L = self.sortedLists[h]\n",
    "        v = L.head\n",
    "        rVs = []\n",
    "        while True: # Could put 'v.right.key == x' here instead of True\n",
    "            if v.right.key < x:\n",
    "                v = v.right\n",
    "            elif v.down is not None:\n",
    "                rVs.append(v)\n",
    "                v = v.down\n",
    "            elif v.right.key == x: # but fewer comparisons if kept here\n",
    "                return\n",
    "            else: # v.right.key > x and v.down is None. We are here!\n",
    "                v.right = ListNode(x, v.right, v.down)\n",
    "                self.updateAbove(x, rVs)\n",
    "                break\n",
    "\n",
    "\n",
    "    def updateAbove(self, x, rVs):\n",
    "        i, n = 0, len(rVs)\n",
    "        b = self.flipCoin() # flip coin\n",
    "        while i < n and b: # add x to above layers\n",
    "            rv = rVs[n-i-1]\n",
    "            d = rv.down\n",
    "            while x != d.key: # make sure x is pointing down to itself\n",
    "                d = d.right\n",
    "            rv.right = ListNode(x, rv.right, d)\n",
    "            b = b and self.flipCoin()\n",
    "            i+=1\n",
    "        if i == n and b: # already added to top layer, add another?\n",
    "            L = SortedLinkedList()\n",
    "            L.head.down = self.sortedLists[self.layers].head\n",
    "            L.tail.down = self.sortedLists[self.layers].tail\n",
    "            self.layers += 1\n",
    "            self.sortedLists.append(L)\n",
    "            \n",
    "    def flipCoin(self):\n",
    "        return random.randint(0,1)==1"
   ]
  },
  {
   "cell_type": "markdown",
   "metadata": {},
   "source": [
    "<hr>\n",
    "## 3. Smíði gagna\n",
    "\n",
    "Nú þarf að smíða gögn til að setja inn í gagnagrindurnar. Geymum gögnin í lista sem við vísum í þegar við setjum gögnin í gagnagrindurnar, því við viljum ekki að uppfletting eða smíði gagna hafi áhrif á tímamælinguna meðan innsetningin á sér stað.\n",
    "\n",
    "Á svipaðan máta eru búnir til sex mismunandi listar til að leita með, tveir fyrir hvert gildi á $n_0-n_2$, allir að lengd $m_2=400.000$. Við ítrum svo bara í gegnum $1/4$ og $1/2$ af listanum fyrir lægri gildi á $m$.\n",
    "\n",
    "### 3.1 Föll til notkunar við gerð gagna "
   ]
  },
  {
   "cell_type": "code",
   "execution_count": 9,
   "metadata": {},
   "outputs": [],
   "source": [
    "\"\"\" Búa til gögn fyrir innsetningu \n",
    "Tekur inn (tóma) lista Ss og Rs, auk listans ns\n",
    "Býr til oddatölulista úr gildum á bilunum [1, 2*ns[i]]\n",
    "Setur gildin í listana Ss og Rs, og shuffle'ar og víxlar\n",
    "\"\"\"\n",
    "def SmidaInnsetningarLyklaLista(Ss, Rs, ns):\n",
    "    i = 0\n",
    "    for n in ns:\n",
    "        Ss.append(np.arange(1, 2*n+1, 2))\n",
    "        Rs.append(np.copy(Ss[i]))\n",
    "        random.shuffle(Ss[i])\n",
    "        RandomVixlanir(Rs[i], n)\n",
    "        i+=1\n",
    "\n",
    "\"\"\" Búa til gögn fyrir leit\n",
    "Ef b er True þá mun sérhver listi innihalda öll\n",
    "gildi á bilinu [0, 2*ns[i]], annars bara oddatölur\n",
    "\"\"\"\n",
    "def SmidaLeitarLyklaLista(m, ns, k, b):\n",
    "    Ls = []\n",
    "    for i in range(k):\n",
    "        n = ns[i]\n",
    "        a = np.arange(0, 2*n) if b else np.arange(1, 2*n+1, 2)\n",
    "        Ls.append(a)\n",
    "        while len(Ls[i]) < m:\n",
    "            Ls[i] = np.concatenate((Ls[i], a))\n",
    "        random.shuffle(Ls[i])\n",
    "    return Ls\n",
    "    \n",
    "\n",
    "def RandomVixlanir(X,n):\n",
    "    for i in range(n//10):\n",
    "        a, b = random.randint(0,n-1), random.randint(0,n-1)\n",
    "        X[a], X[b] = X[b], X[a]"
   ]
  },
  {
   "cell_type": "markdown",
   "metadata": {},
   "source": [
    "### 3.2 Föll til notkunar við leit\n",
    "\n",
    "Aðferðin `time.time()` er notuð til að mæla tíma frá því aðgerð hófst þar til hún líður yfir. Kall á aðferðina skilar sekúndum síðan 1. janúar 1970, og mismunur þeirra tveggja er svo reiknaður. Þetta er algeng aðferð til að tímamæla aðgerð, en aðrar mögulegar aðferðir sem voru prófaðar eru `time.process_time()` og `time.thread_time()`, sem telja ekki svefntíma með, en niðurstöður voru svipaðar."
   ]
  },
  {
   "cell_type": "code",
   "execution_count": 10,
   "metadata": {},
   "outputs": [],
   "source": [
    "\"\"\" Tímamæla innsetningar \"\"\"\n",
    "def MaelaInnsetningartima(DSs, Xs, k, Timi):\n",
    "    for i in range(k):\n",
    "        start = time.time()\n",
    "        for x in Xs[i]:\n",
    "            DSs[i].insert(x)\n",
    "        end = time.time()\n",
    "        Timi[i] += (end-start)\n",
    "\n",
    "\n",
    "\"\"\" Tímamæla leit\n",
    "Fyrir:  k er fjöldi gagnagrinda (sem á að leita í)\n",
    "        DSs er k-staka listi af gagnagrindum\n",
    "        Xs er k-staka listi af listum af lyklum\n",
    "        ms er 3ja staka talnalisti (fjöldi leitanna)\n",
    "Eftir:  Timi er listi af listum\n",
    "        Timi[i] inniheldur tímann fyrir ms[0], ms[1] og ms[2] leitanir í DSs[i]\n",
    "\"\"\"\n",
    "def MaelaLeitartima(DSs, Xs, ms, k, Timi):\n",
    "    random.shuffle(Xs)\n",
    "    for i in range(k):\n",
    "        t = [0, 0, 0]\n",
    "        start = time.time()\n",
    "        for j in range(ms[0]):\n",
    "            DSs[i].contains(Xs[i][j])\n",
    "        end = time.time()\n",
    "        t[0] += (end-start)\n",
    "        for j in range(ms[0],ms[1]):\n",
    "            DSs[i].contains(Xs[i][j])\n",
    "        end = time.time()\n",
    "        t[1] += (end-start)\n",
    "        for j in range(ms[1],ms[2]):\n",
    "            DSs[i].contains(Xs[i][j])\n",
    "        end = time.time()\n",
    "        t[2] += (end-start)\n",
    "        Timi[i][0] += t[0]\n",
    "        Timi[i][1] += t[1]\n",
    "        Timi[i][2] += t[2]"
   ]
  },
  {
   "cell_type": "markdown",
   "metadata": {},
   "source": [
    "<hr>\n",
    "### 3.3 Víðværar breytur skilgreindar\n",
    "Skilgreindir eru listar sem halda utan um tímamælingar."
   ]
  },
  {
   "cell_type": "code",
   "execution_count": 11,
   "metadata": {},
   "outputs": [],
   "source": [
    "\"\"\"\"\"\"\"\"\"\"\"\"\"\"\" Víddir \"\"\"\"\"\"\"\"\"\"\"\"\"\"\"\n",
    "k = 3 # Víddir ns og ms til þæginda\n",
    "ns = [500, 2500, 5000] # Fjöldar innsettra staka \n",
    "ms = [100000, 200000, 400000] # Fjöldar leita\n",
    "f = 10 # Fjöldi tímamælinga sem tekið er meðaltal af\n",
    "\n",
    "\"\"\"\"\"\"\"\"\"\"\"\"\"\"\" Listar með innsetningartímum \"\"\"\"\"\"\"\"\"\"\"\"\"\"\"\n",
    "innsetningartimiTreeSlembid = np.zeros(3,dtype=float)\n",
    "innsetningartimiTreeRadad = np.zeros(3,dtype=float)\n",
    "innsetningartimiTreapSlembid = np.zeros(3,dtype=float)\n",
    "innsetningartimiTreapRadad = np.zeros(3,dtype=float)\n",
    "innsetningartimiSkipListSlembid = np.zeros(3,dtype=float)\n",
    "innsetningartimiSkipListRadad = np.zeros(3,dtype=float)\n",
    "# Og setja þá í lista til að geta vísað í þá eftir stuðlum\n",
    "IT = [innsetningartimiTreeSlembid\n",
    ", innsetningartimiTreeRadad\n",
    ", innsetningartimiTreapSlembid\n",
    ", innsetningartimiTreapRadad\n",
    ", innsetningartimiSkipListSlembid\n",
    ", innsetningartimiSkipListRadad]\n",
    "\n",
    "\"\"\"\"\"\"\"\"\"\"\"\"\"\"\" Listar með leitartímum \"\"\"\"\"\"\"\"\"\"\"\"\"\"\"\n",
    "arangursrikurLeitartimiTreeSlembid = np.zeros((3,3),dtype=float)\n",
    "arangursrikurLeitartimiTreeRadad = np.zeros((3,3),dtype=float)\n",
    "arangursrikurLeitartimiTreapSlembid = np.zeros((3,3),dtype=float)\n",
    "arangursrikurLeitartimiTreapRadad = np.zeros((3,3),dtype=float)\n",
    "arangursrikurLeitartimiSkipListSlembid = np.zeros((3,3),dtype=float)\n",
    "arangursrikurLeitartimiSkipListRadad = np.zeros((3,3),dtype=float)\n",
    "arangurslitillLeitartimiTreeSlembid = np.zeros((3,3),dtype=float)\n",
    "arangurslitillLeitartimiTreeRadad = np.zeros((3,3),dtype=float)\n",
    "arangurslitillLeitartimiTreapSlembid = np.zeros((3,3),dtype=float)\n",
    "arangurslitillLeitartimiTreapRadad = np.zeros((3,3),dtype=float)\n",
    "arangurslitillLeitartimiSkipListSlembid = np.zeros((3,3),dtype=float)\n",
    "arangurslitillLeitartimiSkipListRadad = np.zeros((3,3),dtype=float)\n",
    "# Og setja þá í lista til að geta vísað í þá eftir stuðlum\n",
    "LT = [arangursrikurLeitartimiTreeSlembid\n",
    ", arangursrikurLeitartimiTreeRadad\n",
    ", arangursrikurLeitartimiTreapSlembid\n",
    ", arangursrikurLeitartimiTreapRadad\n",
    ", arangursrikurLeitartimiSkipListSlembid\n",
    ", arangursrikurLeitartimiSkipListRadad\n",
    ", arangurslitillLeitartimiTreeSlembid\n",
    ", arangurslitillLeitartimiTreeRadad\n",
    ", arangurslitillLeitartimiTreapSlembid\n",
    ", arangurslitillLeitartimiTreapRadad\n",
    ", arangurslitillLeitartimiSkipListSlembid\n",
    ", arangurslitillLeitartimiSkipListRadad]\n",
    "\n",
    "\n",
    "\"\"\" Smíða gögn til að leita að \"\"\"\n",
    "ArangursrikirLyklar = SmidaLeitarLyklaLista(ms[2], ns, k, False)\n",
    "ArangurslitlirLyklar = SmidaLeitarLyklaLista(ms[2], ns, k, True)"
   ]
  },
  {
   "cell_type": "markdown",
   "metadata": {},
   "source": [
    "### 3.4 Tímamælingar\n",
    "Endurtökum eftirfarandi $f$ sinnum og tökum svo meðalal:\n",
    "- Búa til að lykla til að setja inn. Lyklar eru smíðaðir upp á nýtt í hverri umferð; framkvæmd er eitt `random.shuffle()` á hvern slembinn lista, en $\\frac{n_i}{10}$ handahófskenndar víxlanir á listana sem eru raðaðir í ~_hækkandi_ röð. Það er mikilvægt að setja ekki alltaf inn sömu ~_hækkandi_ listana því ef t.d fyrstu $\\frac{n_i}{10}$ stökin eru alltaf í 100% hækkandi röð, og ef öll stökin eru alltaf í sömu röð, þá er ekki verið að prófa hvort $\\frac{n_i}{10}$ handahófskenndar víxlanir séu nóg til að bjarga tvíleitartréi frá sínu versta tilfelli að meðaltali, heldur bara verið að prófa eina umferð, sem gæti reynst hryllilega illa eða virkilega vel ef maður er _heppinn_. Ef við prófum ekki mismunandi ~_hækkandi_ lista, þá erum við ekki að prófa gagnagrindina, heldur erum við einungis að prófa vinnslutíma (e. _processing time_) tölvunar.\n",
    "- Skilgreinum gagnagrindur upp á nýtt svo þær séu tómar við upphaf hverrar innsetningu. Tvíleitartréin fá að byrja með fremsta stakið innsett, en samt er reynt að setja það stak inn í, svo áhrifin eru hverfandi sérstaklega þar sem framkvæmdar eru $500-5000$ innsetningar.\n",
    "- Mælum innsetningartíma og leggjum við heildartímann sem hefur farið í nákvæmlega þessa aðgerð (t.d. þá er heldur núllta sætið í listanum `innsetningartimiTreeSlembid` utan um tímann sem hefur farið í innsetningu á $n_0=500$ slembiröðuðum stökum í tvíleitartré).\n",
    "- Mælum leitartíma í gagnagrindunum sem við smíðuðum í þessari umferð. Enn og aftur þá er mikilvægt að prófa þetta fyrir mismunandi uppsett lyklasöfn. Við erum ekki að taka meðaltal af vinnslutíma tölvunar.\n",
    "- Eftir $f$ umferðir þá deilum við öllum tímamælingum með $f$ til að fá meðaltal á hverja aðgerð."
   ]
  },
  {
   "cell_type": "code",
   "execution_count": 12,
   "metadata": {},
   "outputs": [],
   "source": [
    "for i in range(f):\n",
    "    \"\"\" Smíða gögn til innsetningar \"\"\"\n",
    "    SlembnirLyklar = []\n",
    "    RadadirLyklar = []\n",
    "    SmidaInnsetningarLyklaLista(SlembnirLyklar, RadadirLyklar, ns)\n",
    "    \n",
    "    \"\"\"\"\"\"\"\"\"\"\"\"\"\"\" Mælingar á innsetningartíma \"\"\"\"\"\"\"\"\"\"\"\"\"\"\"\n",
    "    \"\"\" Setja gögn í gagnagrindur \"\"\"\n",
    "    TreeS = [Tree(SlembnirLyklar[0][0]), Tree(SlembnirLyklar[1][0]), Tree(SlembnirLyklar[2][0])]\n",
    "    TreeR = [Tree(RadadirLyklar[0][0]), Tree(RadadirLyklar[1][0]), Tree(RadadirLyklar[2][0])]\n",
    "    MaelaInnsetningartima(TreeS,SlembnirLyklar,k,innsetningartimiTreeSlembid)\n",
    "    MaelaInnsetningartima(TreeR,RadadirLyklar,k,innsetningartimiTreeRadad)\n",
    "    \n",
    "    TreapS = [Treap(),Treap(),Treap()]\n",
    "    TreapR = [Treap(),Treap(),Treap()]\n",
    "    MaelaInnsetningartima(TreapS,SlembnirLyklar,k,innsetningartimiTreapSlembid)\n",
    "    MaelaInnsetningartima(TreapR,RadadirLyklar,k,innsetningartimiTreapRadad)\n",
    "    \n",
    "    \n",
    "    SkipListS = [SkipList(), SkipList(), SkipList()]\n",
    "    SkipListR = [SkipList(), SkipList(), SkipList()]\n",
    "    MaelaInnsetningartima(SkipListS,SlembnirLyklar,k,innsetningartimiSkipListSlembid)\n",
    "    MaelaInnsetningartima(SkipListR,RadadirLyklar,k,innsetningartimiSkipListRadad)\n",
    "    \n",
    "    \n",
    "    \"\"\"\"\"\"\"\"\"\"\"\"\"\"\" Mælingar á leitartíma \"\"\"\"\"\"\"\"\"\"\"\"\"\"\"\n",
    "    \"\"\" Leitad ad lyklum sem eru i gagnagrindunum \"\"\"\n",
    "    MaelaLeitartima(TreeS, ArangursrikirLyklar, ms, k, arangursrikurLeitartimiTreeSlembid)\n",
    "    MaelaLeitartima(TreeR, ArangursrikirLyklar, ms, k, arangursrikurLeitartimiTreeRadad)\n",
    "    \n",
    "    MaelaLeitartima(TreapS, ArangursrikirLyklar, ms, k, arangursrikurLeitartimiTreapSlembid)\n",
    "    MaelaLeitartima(TreapR, ArangursrikirLyklar, ms, k, arangursrikurLeitartimiTreapRadad)\n",
    "    \n",
    "    MaelaLeitartima(SkipListS, ArangursrikirLyklar, ms, k, arangursrikurLeitartimiSkipListSlembid)\n",
    "    MaelaLeitartima(SkipListR, ArangursrikirLyklar, ms, k, arangursrikurLeitartimiSkipListRadad)\n",
    "    \n",
    "    \n",
    "    \"\"\" Leitad ad lyklum þar sem helmingur er i gagnagrindunum \"\"\"\n",
    "    MaelaLeitartima(TreeS, ArangurslitlirLyklar, ms, k, arangurslitillLeitartimiTreeSlembid)\n",
    "    MaelaLeitartima(TreeR, ArangurslitlirLyklar, ms, k, arangurslitillLeitartimiTreeRadad)\n",
    "    \n",
    "    MaelaLeitartima(TreapS, ArangurslitlirLyklar, ms, k, arangurslitillLeitartimiTreapSlembid)\n",
    "    MaelaLeitartima(TreapR, ArangurslitlirLyklar, ms, k, arangurslitillLeitartimiTreapRadad)\n",
    "    \n",
    "    MaelaLeitartima(SkipListS, ArangurslitlirLyklar, ms, k, arangurslitillLeitartimiSkipListSlembid)\n",
    "    MaelaLeitartima(SkipListR, ArangurslitlirLyklar, ms, k, arangurslitillLeitartimiSkipListRadad)\n",
    "    \n",
    "    \n",
    "\"\"\" Deila tímamælingum með fjölda tímamælinga \"\"\"\n",
    "a = np.array([f]*k)\n",
    "b = np.array([[f]*k]*k)\n",
    "for j in range(len(IT)):\n",
    "    IT[j] = IT[j]/a\n",
    "for j in range(len(LT)):\n",
    "    LT[j] = LT[j]/b\n",
    "del(a,b,j)"
   ]
  },
  {
   "cell_type": "markdown",
   "metadata": {},
   "source": [
    "<hr>\n",
    "## 4. Birting mælinga í töflum\n",
    "#### Föll til að breyta töflum og birta þær má finna í undirkafla 7.2"
   ]
  },
  {
   "cell_type": "markdown",
   "metadata": {},
   "source": [
    "#### Upplýsingar um smíði á töflum má finna í undirkafla 7.3"
   ]
  },
  {
   "cell_type": "markdown",
   "metadata": {},
   "source": [
    "<hr>\n",
    "### 4.1 Birting á töflum\n",
    "#### 4.1.1 Innsetningartími"
   ]
  },
  {
   "cell_type": "code",
   "execution_count": 19,
   "metadata": {},
   "outputs": [
    {
     "data": {
      "text/html": [
       "<h6>Lyklar settir inn í slembiröð</h6>"
      ],
      "text/plain": [
       "<IPython.core.display.HTML object>"
      ]
     },
     "metadata": {},
     "output_type": "display_data"
    },
    {
     "data": {
      "text/html": [
       "<table>\n",
       "<tbody>\n",
       "<tr><td>Fjöldi innsetninga</td><td style=\"text-align: right;\">500         </td><td style=\"text-align: right;\">2500        </td><td style=\"text-align: right;\">5000       </td></tr>\n",
       "<tr><td>Tvíleitartré      </td><td style=\"text-align: right;\">  0.00396585</td><td style=\"text-align: right;\">   0.0817714</td><td style=\"text-align: right;\">   0.246402</td></tr>\n",
       "<tr><td>Hrúgutré          </td><td style=\"text-align: right;\">  0.0156407 </td><td style=\"text-align: right;\">   0.124969 </td><td style=\"text-align: right;\">   0.273747</td></tr>\n",
       "<tr><td>Skopplisti        </td><td style=\"text-align: right;\">  0.0216076 </td><td style=\"text-align: right;\">   0.235327 </td><td style=\"text-align: right;\">   0.500678</td></tr>\n",
       "</tbody>\n",
       "</table>"
      ],
      "text/plain": [
       "<IPython.core.display.HTML object>"
      ]
     },
     "metadata": {},
     "output_type": "display_data"
    },
    {
     "data": {
      "text/html": [
       "<h6>Lyklar settir inn í <i>~hækkandi</i> röð</h6>"
      ],
      "text/plain": [
       "<IPython.core.display.HTML object>"
      ]
     },
     "metadata": {},
     "output_type": "display_data"
    },
    {
     "data": {
      "text/html": [
       "<table>\n",
       "<tbody>\n",
       "<tr><td>Fjöldi innsetninga</td><td style=\"text-align: right;\">500        </td><td style=\"text-align: right;\">2500       </td><td style=\"text-align: right;\">5000       </td></tr>\n",
       "<tr><td>Tvíleitartré      </td><td style=\"text-align: right;\">  0.0285928</td><td style=\"text-align: right;\">   0.264889</td><td style=\"text-align: right;\">   0.489795</td></tr>\n",
       "<tr><td>Hrúgutré          </td><td style=\"text-align: right;\">  0.0156214</td><td style=\"text-align: right;\">   0.186223</td><td style=\"text-align: right;\">   0.288222</td></tr>\n",
       "<tr><td>Skopplisti        </td><td style=\"text-align: right;\">  0.0196307</td><td style=\"text-align: right;\">   0.338891</td><td style=\"text-align: right;\">   0.562545</td></tr>\n",
       "</tbody>\n",
       "</table>"
      ],
      "text/plain": [
       "<IPython.core.display.HTML object>"
      ]
     },
     "metadata": {},
     "output_type": "display_data"
    }
   ],
   "source": [
    "BirtaTofluHTML(TaflaInnsetningartimiSlembid, \"Lyklar settir inn í slembiröð\")\n",
    "BirtaTofluHTML(TaflaInnsetningartimiRadad, \"Lyklar settir inn í <i>~hækkandi</i> röð\")"
   ]
  },
  {
   "cell_type": "markdown",
   "metadata": {},
   "source": [
    "Hér sést að það tekur rúmlega tvöfalt lengri tíma að setja inn 5000 gildi en 2500 gildi í öllum tilfellum, nema tvíleitartré í ~_hækkandi_ röð, sem er verst fyrir tvíleitartré. Einnig tekur rúmlega fimmfalt lengri tíma að setja inn 2500 en 500 gildi. Þetta er eins og búast mátti við, því innsetning tekur lengri tíma eftir því sem tréin stækka hvort sem nýju gildin eru stór eða lítil (í samanburði við hin gildin í gagnagrindunum).\n",
    "\n",
    "Það þarf að setja gildin inn sem lauf, og framkvæma snúninga í hrúgutrénu til að viðhalda hrúguskilyrðunum, sem veldur því að innsetningin í hrúgutré er aðeins hægvirkari en venjulegt tvíleitartré ef gildin eru sett inn í slembinni röð.\n",
    "\n",
    "Innsetning á litlum gildum í skopplistanum ætti hins vegar að taka skemmri tíma en innsetning á stórum gildum, svo það hefði verið áhugavert að skoða líka innsetningartíma lykla í ~_lækkandi_ röð."
   ]
  },
  {
   "cell_type": "markdown",
   "metadata": {},
   "source": [
    "<hr>\n",
    "#### 4.1.2 Leitartími \n",
    "##### Einungis leitað að lyklum sem eru í gagnagrindunum"
   ]
  },
  {
   "cell_type": "code",
   "execution_count": 20,
   "metadata": {},
   "outputs": [
    {
     "data": {
      "text/html": [
       "<h6>Gagnagrindur með <i>n</i> lyklum sem voru settir inn í slembinni röð</h6>"
      ],
      "text/plain": [
       "<IPython.core.display.HTML object>"
      ]
     },
     "metadata": {},
     "output_type": "display_data"
    },
    {
     "data": {
      "text/html": [
       "<h6>n=500</h6>"
      ],
      "text/plain": [
       "<IPython.core.display.HTML object>"
      ]
     },
     "metadata": {},
     "output_type": "display_data"
    },
    {
     "data": {
      "text/html": [
       "<table>\n",
       "<tbody>\n",
       "<tr><td>Fjöldi leita</td><td style=\"text-align: right;\">100000      </td><td style=\"text-align: right;\">200000      </td><td style=\"text-align: right;\">400000      </td></tr>\n",
       "<tr><td>Tvíleitartré</td><td style=\"text-align: right;\">     1.62932</td><td style=\"text-align: right;\">     3.20868</td><td style=\"text-align: right;\">     6.43697</td></tr>\n",
       "<tr><td>Hrúgutré    </td><td style=\"text-align: right;\">     2.17839</td><td style=\"text-align: right;\">     4.311  </td><td style=\"text-align: right;\">     8.58756</td></tr>\n",
       "<tr><td>Skopplisti  </td><td style=\"text-align: right;\">     7.65869</td><td style=\"text-align: right;\">    15.3611 </td><td style=\"text-align: right;\">    30.6218 </td></tr>\n",
       "</tbody>\n",
       "</table>"
      ],
      "text/plain": [
       "<IPython.core.display.HTML object>"
      ]
     },
     "metadata": {},
     "output_type": "display_data"
    },
    {
     "data": {
      "text/html": [
       "<h6>n=2500</h6>"
      ],
      "text/plain": [
       "<IPython.core.display.HTML object>"
      ]
     },
     "metadata": {},
     "output_type": "display_data"
    },
    {
     "data": {
      "text/html": [
       "<table>\n",
       "<tbody>\n",
       "<tr><td>Fjöldi leita</td><td style=\"text-align: right;\">100000      </td><td style=\"text-align: right;\">200000      </td><td style=\"text-align: right;\">400000      </td></tr>\n",
       "<tr><td>Tvíleitartré</td><td style=\"text-align: right;\">     2.45707</td><td style=\"text-align: right;\">     4.90999</td><td style=\"text-align: right;\">     9.86287</td></tr>\n",
       "<tr><td>Hrúgutré    </td><td style=\"text-align: right;\">     2.75585</td><td style=\"text-align: right;\">     5.4794 </td><td style=\"text-align: right;\">    11.0385 </td></tr>\n",
       "<tr><td>Skopplisti  </td><td style=\"text-align: right;\">     8.37612</td><td style=\"text-align: right;\">    16.8206 </td><td style=\"text-align: right;\">    33.6289 </td></tr>\n",
       "</tbody>\n",
       "</table>"
      ],
      "text/plain": [
       "<IPython.core.display.HTML object>"
      ]
     },
     "metadata": {},
     "output_type": "display_data"
    },
    {
     "data": {
      "text/html": [
       "<h6>n=5000</h6>"
      ],
      "text/plain": [
       "<IPython.core.display.HTML object>"
      ]
     },
     "metadata": {},
     "output_type": "display_data"
    },
    {
     "data": {
      "text/html": [
       "<table>\n",
       "<tbody>\n",
       "<tr><td>Fjöldi leita</td><td style=\"text-align: right;\">100000      </td><td style=\"text-align: right;\">200000      </td><td style=\"text-align: right;\">400000     </td></tr>\n",
       "<tr><td>Tvíleitartré</td><td style=\"text-align: right;\">     2.83745</td><td style=\"text-align: right;\">     5.67789</td><td style=\"text-align: right;\">    11.3762</td></tr>\n",
       "<tr><td>Hrúgutré    </td><td style=\"text-align: right;\">     3.10508</td><td style=\"text-align: right;\">     6.26227</td><td style=\"text-align: right;\">    12.629 </td></tr>\n",
       "<tr><td>Skopplisti  </td><td style=\"text-align: right;\">     7.00802</td><td style=\"text-align: right;\">    14.0817 </td><td style=\"text-align: right;\">    28.3125</td></tr>\n",
       "</tbody>\n",
       "</table>"
      ],
      "text/plain": [
       "<IPython.core.display.HTML object>"
      ]
     },
     "metadata": {},
     "output_type": "display_data"
    }
   ],
   "source": [
    "display(HTML(\"<h6>\" + \"Gagnagrindur með <i>n</i> lyklum sem voru settir inn í slembinni röð\" + \"</h6>\"))\n",
    "BirtaToflurHTML(TaflaArangursrikurLeitartimiSlembid, ns, \"n=%d\")"
   ]
  },
  {
   "cell_type": "markdown",
   "metadata": {},
   "source": [
    "Hér sést að leit í tvíleitartré tekur minnstan tíma ef lyklarnir eru settir inn í slembinni röð. Þetta kemur lítið á óvart. Það er einmitt styrkleiki tvíleitartrésins: að aðgerðir eru fljótlegar vegna lítils innviðis. Sér í lagi er minna innviði í tvíleitartrénu en í hrúgutrénu, og hér sjáum við nefnilega áhrif þessarar einu auka aðgerðar í hverri leit í hrúgutrénu: að það þarf að gá hvort tréið sé tómt, og hefja leit frá rótinni. Tíminn er þó rosalega svipaður, en það væri áhugavert að skoða leitartíma í minni tréum, þar sem þessi eina auka aðgerð verður stærra hlutfall af heildarfjölda aðgerða í hverri leit.\n",
    "\n",
    "Svo framarlega sem það er vitað að gögnin verði í slembinni röð þegar þau verða sett inn, þá hentar venjulegt tvíleitartré mjög vel (nema notandinn sé virkilega óheppinn).\n",
    "\n",
    "Útfærsla vor af skopplista virðist vonlaus í samanburði við hinar ef lyklarnir voru settir inn í slembinni röð."
   ]
  },
  {
   "cell_type": "code",
   "execution_count": 21,
   "metadata": {},
   "outputs": [
    {
     "data": {
      "text/html": [
       "<h6>Gagnagrindur með <i>n</i> lyklum sem voru settir inn í ~hækkandi röð</h6>"
      ],
      "text/plain": [
       "<IPython.core.display.HTML object>"
      ]
     },
     "metadata": {},
     "output_type": "display_data"
    },
    {
     "data": {
      "text/html": [
       "<h6>n=500</h6>"
      ],
      "text/plain": [
       "<IPython.core.display.HTML object>"
      ]
     },
     "metadata": {},
     "output_type": "display_data"
    },
    {
     "data": {
      "text/html": [
       "<table>\n",
       "<tbody>\n",
       "<tr><td>Fjöldi leita</td><td style=\"text-align: right;\">100000      </td><td style=\"text-align: right;\">200000      </td><td style=\"text-align: right;\">400000      </td></tr>\n",
       "<tr><td>Tvíleitartré</td><td style=\"text-align: right;\">     3.5915 </td><td style=\"text-align: right;\">     7.14191</td><td style=\"text-align: right;\">    14.1591 </td></tr>\n",
       "<tr><td>Hrúgutré    </td><td style=\"text-align: right;\">     1.78364</td><td style=\"text-align: right;\">     3.63986</td><td style=\"text-align: right;\">     7.27853</td></tr>\n",
       "<tr><td>Skopplisti  </td><td style=\"text-align: right;\">     8.36133</td><td style=\"text-align: right;\">    16.7946 </td><td style=\"text-align: right;\">    33.6161 </td></tr>\n",
       "</tbody>\n",
       "</table>"
      ],
      "text/plain": [
       "<IPython.core.display.HTML object>"
      ]
     },
     "metadata": {},
     "output_type": "display_data"
    },
    {
     "data": {
      "text/html": [
       "<h6>n=2500</h6>"
      ],
      "text/plain": [
       "<IPython.core.display.HTML object>"
      ]
     },
     "metadata": {},
     "output_type": "display_data"
    },
    {
     "data": {
      "text/html": [
       "<table>\n",
       "<tbody>\n",
       "<tr><td>Fjöldi leita</td><td style=\"text-align: right;\">100000      </td><td style=\"text-align: right;\">200000      </td><td style=\"text-align: right;\">400000     </td></tr>\n",
       "<tr><td>Tvíleitartré</td><td style=\"text-align: right;\">     9.15954</td><td style=\"text-align: right;\">    18.3376 </td><td style=\"text-align: right;\">    36.6565</td></tr>\n",
       "<tr><td>Hrúgutré    </td><td style=\"text-align: right;\">     2.76907</td><td style=\"text-align: right;\">     5.55954</td><td style=\"text-align: right;\">    11.1201</td></tr>\n",
       "<tr><td>Skopplisti  </td><td style=\"text-align: right;\">     8.87663</td><td style=\"text-align: right;\">    17.7287 </td><td style=\"text-align: right;\">    35.5446</td></tr>\n",
       "</tbody>\n",
       "</table>"
      ],
      "text/plain": [
       "<IPython.core.display.HTML object>"
      ]
     },
     "metadata": {},
     "output_type": "display_data"
    },
    {
     "data": {
      "text/html": [
       "<h6>n=5000</h6>"
      ],
      "text/plain": [
       "<IPython.core.display.HTML object>"
      ]
     },
     "metadata": {},
     "output_type": "display_data"
    },
    {
     "data": {
      "text/html": [
       "<table>\n",
       "<tbody>\n",
       "<tr><td>Fjöldi leita</td><td style=\"text-align: right;\">100000      </td><td style=\"text-align: right;\">200000      </td><td style=\"text-align: right;\">400000     </td></tr>\n",
       "<tr><td>Tvíleitartré</td><td style=\"text-align: right;\">    16.3405 </td><td style=\"text-align: right;\">    32.5703 </td><td style=\"text-align: right;\">    65.1613</td></tr>\n",
       "<tr><td>Hrúgutré    </td><td style=\"text-align: right;\">     3.28538</td><td style=\"text-align: right;\">     6.62191</td><td style=\"text-align: right;\">    13.2794</td></tr>\n",
       "<tr><td>Skopplisti  </td><td style=\"text-align: right;\">     7.31636</td><td style=\"text-align: right;\">    14.5027 </td><td style=\"text-align: right;\">    28.9998</td></tr>\n",
       "</tbody>\n",
       "</table>"
      ],
      "text/plain": [
       "<IPython.core.display.HTML object>"
      ]
     },
     "metadata": {},
     "output_type": "display_data"
    }
   ],
   "source": [
    "display(HTML(\"<h6>\" + \"Gagnagrindur með <i>n</i> lyklum sem voru settir inn í ~hækkandi röð\" + \"</h6>\"))\n",
    "BirtaToflurHTML(TaflaArangursrikurLeitartimiRadad, ns, \"n=%d\")"
   ]
  },
  {
   "cell_type": "markdown",
   "metadata": {},
   "source": [
    "Tvíleitartré eru hins vegar vonlaus þegar lyklar hafa verið settir inn í ~_hækkandi_ röð, og sést það vel á leitartímanum. Það er meira að segja sneggra að fletta upp í stórum skopplistum en í stórum tvíleitartréum sem eru ekki í jafnvægi. Það er eins og vænta má, því þessi tvíleitartré eru í raun í laginu eins og næstum því raðaðir beintengdir listar, með nokkrum frávikum. Skopplistinn er svo einmitt raðaður beintengdur listi, með nokkrum styttri leiðum.\n",
    "\n",
    "Hér eru loks að koma fram kostir skopplistans fram yfir tvíleitartréið, þar sem uppflettitími skopplistans er lægri en hjá tvíleitartréinu fyrir $n=2500$ og $n=5000$ staka gagnagrindur."
   ]
  },
  {
   "cell_type": "markdown",
   "metadata": {},
   "source": [
    "##### Helmingur leita er að lyklum sem eru ekki í gagnagrindunum"
   ]
  },
  {
   "cell_type": "code",
   "execution_count": 22,
   "metadata": {},
   "outputs": [
    {
     "data": {
      "text/html": [
       "<h6>Gagnagrindur með <i>n</i> lyklum sem voru settir inn í slembinni röð</h6>"
      ],
      "text/plain": [
       "<IPython.core.display.HTML object>"
      ]
     },
     "metadata": {},
     "output_type": "display_data"
    },
    {
     "data": {
      "text/html": [
       "<h6>n=500</h6>"
      ],
      "text/plain": [
       "<IPython.core.display.HTML object>"
      ]
     },
     "metadata": {},
     "output_type": "display_data"
    },
    {
     "data": {
      "text/html": [
       "<table>\n",
       "<tbody>\n",
       "<tr><td>Fjöldi leita</td><td style=\"text-align: right;\">100000      </td><td style=\"text-align: right;\">200000      </td><td style=\"text-align: right;\">400000      </td></tr>\n",
       "<tr><td>Tvíleitartré</td><td style=\"text-align: right;\">     1.6242 </td><td style=\"text-align: right;\">     3.21715</td><td style=\"text-align: right;\">     6.48362</td></tr>\n",
       "<tr><td>Hrúgutré    </td><td style=\"text-align: right;\">     2.00379</td><td style=\"text-align: right;\">     4.00488</td><td style=\"text-align: right;\">     7.98735</td></tr>\n",
       "<tr><td>Skopplisti  </td><td style=\"text-align: right;\">     9.23107</td><td style=\"text-align: right;\">    18.519  </td><td style=\"text-align: right;\">    36.9876 </td></tr>\n",
       "</tbody>\n",
       "</table>"
      ],
      "text/plain": [
       "<IPython.core.display.HTML object>"
      ]
     },
     "metadata": {},
     "output_type": "display_data"
    },
    {
     "data": {
      "text/html": [
       "<h6>n=2500</h6>"
      ],
      "text/plain": [
       "<IPython.core.display.HTML object>"
      ]
     },
     "metadata": {},
     "output_type": "display_data"
    },
    {
     "data": {
      "text/html": [
       "<table>\n",
       "<tbody>\n",
       "<tr><td>Fjöldi leita</td><td style=\"text-align: right;\">100000      </td><td style=\"text-align: right;\">200000      </td><td style=\"text-align: right;\">400000     </td></tr>\n",
       "<tr><td>Tvíleitartré</td><td style=\"text-align: right;\">     2.60025</td><td style=\"text-align: right;\">     5.21839</td><td style=\"text-align: right;\">    10.4369</td></tr>\n",
       "<tr><td>Hrúgutré    </td><td style=\"text-align: right;\">     2.87455</td><td style=\"text-align: right;\">     5.76319</td><td style=\"text-align: right;\">    11.5268</td></tr>\n",
       "<tr><td>Skopplisti  </td><td style=\"text-align: right;\">     8.00838</td><td style=\"text-align: right;\">    16.011  </td><td style=\"text-align: right;\">    32.0591</td></tr>\n",
       "</tbody>\n",
       "</table>"
      ],
      "text/plain": [
       "<IPython.core.display.HTML object>"
      ]
     },
     "metadata": {},
     "output_type": "display_data"
    },
    {
     "data": {
      "text/html": [
       "<h6>n=5000</h6>"
      ],
      "text/plain": [
       "<IPython.core.display.HTML object>"
      ]
     },
     "metadata": {},
     "output_type": "display_data"
    },
    {
     "data": {
      "text/html": [
       "<table>\n",
       "<tbody>\n",
       "<tr><td>Fjöldi leita</td><td style=\"text-align: right;\">100000      </td><td style=\"text-align: right;\">200000      </td><td style=\"text-align: right;\">400000     </td></tr>\n",
       "<tr><td>Tvíleitartré</td><td style=\"text-align: right;\">     2.97437</td><td style=\"text-align: right;\">     5.97247</td><td style=\"text-align: right;\">    11.8481</td></tr>\n",
       "<tr><td>Hrúgutré    </td><td style=\"text-align: right;\">     3.27195</td><td style=\"text-align: right;\">     6.52897</td><td style=\"text-align: right;\">    13.0835</td></tr>\n",
       "<tr><td>Skopplisti  </td><td style=\"text-align: right;\">     7.26861</td><td style=\"text-align: right;\">    14.5416 </td><td style=\"text-align: right;\">    29.17  </td></tr>\n",
       "</tbody>\n",
       "</table>"
      ],
      "text/plain": [
       "<IPython.core.display.HTML object>"
      ]
     },
     "metadata": {},
     "output_type": "display_data"
    }
   ],
   "source": [
    "display(HTML(\"<h6>\" + \"Gagnagrindur með <i>n</i> lyklum sem voru settir inn í slembinni röð\" + \"</h6>\"))\n",
    "BirtaToflurHTML(TaflaArangurslitillLeitartimiSlembid, ns, \"n=%d\")"
   ]
  },
  {
   "cell_type": "markdown",
   "metadata": {},
   "source": [
    "Leitartíminn er svipaður hvort sem leitin bar árangur eða ekki. Þetta er sjálfsagt vegna þess að það tekur jafn langan tíma að athuga hvort t.d. lykillinn $800$ sé í gagnagrindinni, eins og $801$, hvort sem þeir eru þar eða ekki, ef gagnagrindin inniheldur oddatölur á bilinu $[1,999]$. Hins vegar hefði skopplistinn fengið betra tækifæri til að skína ef leitað hefði verið að neikvæðum stökum (sem eru ekki í gagnagrindunum), því þar sem skopplistinn er raðaður í hækkandi röð, þá væri hann fljótur að útiloka slíkt. "
   ]
  },
  {
   "cell_type": "code",
   "execution_count": 23,
   "metadata": {},
   "outputs": [
    {
     "data": {
      "text/html": [
       "<h6>Gagnagrindur með <i>n</i> lyklum sem voru settir inn í ~hækkandi röð</h6>"
      ],
      "text/plain": [
       "<IPython.core.display.HTML object>"
      ]
     },
     "metadata": {},
     "output_type": "display_data"
    },
    {
     "data": {
      "text/html": [
       "<h6>n=500</h6>"
      ],
      "text/plain": [
       "<IPython.core.display.HTML object>"
      ]
     },
     "metadata": {},
     "output_type": "display_data"
    },
    {
     "data": {
      "text/html": [
       "<table>\n",
       "<tbody>\n",
       "<tr><td>Fjöldi leita</td><td style=\"text-align: right;\">100000      </td><td style=\"text-align: right;\">200000      </td><td style=\"text-align: right;\">400000      </td></tr>\n",
       "<tr><td>Tvíleitartré</td><td style=\"text-align: right;\">     3.50865</td><td style=\"text-align: right;\">     6.98769</td><td style=\"text-align: right;\">    14.0088 </td></tr>\n",
       "<tr><td>Hrúgutré    </td><td style=\"text-align: right;\">     1.93748</td><td style=\"text-align: right;\">     3.8627 </td><td style=\"text-align: right;\">     7.82303</td></tr>\n",
       "<tr><td>Skopplisti  </td><td style=\"text-align: right;\">     9.08718</td><td style=\"text-align: right;\">    18.1627 </td><td style=\"text-align: right;\">    36.3057 </td></tr>\n",
       "</tbody>\n",
       "</table>"
      ],
      "text/plain": [
       "<IPython.core.display.HTML object>"
      ]
     },
     "metadata": {},
     "output_type": "display_data"
    },
    {
     "data": {
      "text/html": [
       "<h6>n=2500</h6>"
      ],
      "text/plain": [
       "<IPython.core.display.HTML object>"
      ]
     },
     "metadata": {},
     "output_type": "display_data"
    },
    {
     "data": {
      "text/html": [
       "<table>\n",
       "<tbody>\n",
       "<tr><td>Fjöldi leita</td><td style=\"text-align: right;\">100000      </td><td style=\"text-align: right;\">200000      </td><td style=\"text-align: right;\">400000     </td></tr>\n",
       "<tr><td>Tvíleitartré</td><td style=\"text-align: right;\">     9.61894</td><td style=\"text-align: right;\">    19.2346 </td><td style=\"text-align: right;\">    38.5336</td></tr>\n",
       "<tr><td>Hrúgutré    </td><td style=\"text-align: right;\">     2.85592</td><td style=\"text-align: right;\">     5.68948</td><td style=\"text-align: right;\">    11.4042</td></tr>\n",
       "<tr><td>Skopplisti  </td><td style=\"text-align: right;\">     8.42745</td><td style=\"text-align: right;\">    16.8937 </td><td style=\"text-align: right;\">    33.7215</td></tr>\n",
       "</tbody>\n",
       "</table>"
      ],
      "text/plain": [
       "<IPython.core.display.HTML object>"
      ]
     },
     "metadata": {},
     "output_type": "display_data"
    },
    {
     "data": {
      "text/html": [
       "<h6>n=5000</h6>"
      ],
      "text/plain": [
       "<IPython.core.display.HTML object>"
      ]
     },
     "metadata": {},
     "output_type": "display_data"
    },
    {
     "data": {
      "text/html": [
       "<table>\n",
       "<tbody>\n",
       "<tr><td>Fjöldi leita</td><td style=\"text-align: right;\">100000      </td><td style=\"text-align: right;\">200000     </td><td style=\"text-align: right;\">400000     </td></tr>\n",
       "<tr><td>Tvíleitartré</td><td style=\"text-align: right;\">    15.9179 </td><td style=\"text-align: right;\">    31.8718</td><td style=\"text-align: right;\">    63.777 </td></tr>\n",
       "<tr><td>Hrúgutré    </td><td style=\"text-align: right;\">     3.2529 </td><td style=\"text-align: right;\">     6.432 </td><td style=\"text-align: right;\">    12.8532</td></tr>\n",
       "<tr><td>Skopplisti  </td><td style=\"text-align: right;\">     7.19273</td><td style=\"text-align: right;\">    14.2784</td><td style=\"text-align: right;\">    28.5313</td></tr>\n",
       "</tbody>\n",
       "</table>"
      ],
      "text/plain": [
       "<IPython.core.display.HTML object>"
      ]
     },
     "metadata": {},
     "output_type": "display_data"
    }
   ],
   "source": [
    "display(HTML(\"<h6>\" + \"Gagnagrindur með <i>n</i> lyklum sem voru settir inn í ~hækkandi röð\" + \"</h6>\"))\n",
    "BirtaToflurHTML(TaflaArangurslitillLeitartimiRadad, ns, \"n=%d\")"
   ]
  },
  {
   "cell_type": "markdown",
   "metadata": {},
   "source": [
    "Tvíleitartréið heldur áfram að standa sig illa við svona óákjósanlega röð gilda við innsetningu. Skopplistinn mætti vera betri en hrúgutréið hefur staðið sig best við langflestar aðstæður, og reynist vera gríðarlega áreiðanlegt."
   ]
  },
  {
   "cell_type": "markdown",
   "metadata": {},
   "source": [
    "<hr>\n",
    "## 5. Línurit og frekari túlkun á niðurstöðum\n",
    "#### Aðferðir notaðar til að gera línurit má finna í undirkafla 7.4\n",
    "Þar má sjá að bætt var inn tveimur svörtum ferlum á línuritin sem sýna leitartíma, en efri ferillinn er línan $10^{-5}m$ og neðri ferillinn er logrinn $\\frac{ln(m)}{20}$, þar sem m samsvarar fjölda mælinga. Þessir ferlar eru teiknaðir inn til að hafa til samanburðar við leitartímann."
   ]
  },
  {
   "cell_type": "markdown",
   "metadata": {},
   "source": [
    "<hr>\n",
    "### 5.1 Birting á línuritum\n",
    "#### 5.1.1 Innsetningartími"
   ]
  },
  {
   "cell_type": "code",
   "execution_count": 24,
   "metadata": {},
   "outputs": [
    {
     "data": {
      "image/png": "[encoded data removed]",
      "text/plain": [
       "<Figure size 432x288 with 1 Axes>"
      ]
     },
     "metadata": {
      "needs_background": "light"
     },
     "output_type": "display_data"
    }
   ],
   "source": [
    "grafInnsetningartimi(LinuheitiInnsetning,[IT[0], IT[2], IT[4]],\n",
    "                    [IT[1], IT[3], IT[5]], k, ns)"
   ]
  },
  {
   "cell_type": "markdown",
   "metadata": {},
   "source": [
    "Myndræn framsetning er gagnleg til að túlka niðurstöður betur. Hér sést betur að skopplistinn er ekki vonlaus, og er sannarlega mikið betri en tvíleitartréið þegar gildin eru sett inn í ~_hækkandi_ röð, því þá getur hann tekið mörg stór skref nánast alla leið út í enda."
   ]
  },
  {
   "cell_type": "markdown",
   "metadata": {},
   "source": [
    "<hr>\n",
    "#### 5.1.1 Leitartími\n",
    "##### Einungis leitað í að lyklum sem eru í gagnagrindunum"
   ]
  },
  {
   "cell_type": "code",
   "execution_count": 25,
   "metadata": {},
   "outputs": [
    {
     "ename": "TypeError",
     "evalue": "grafLeitartimi() missing 1 required positional argument: 'c'",
     "output_type": "error",
     "traceback": [
      "\u001b[1;31m---------------------------------------------------------------------------\u001b[0m",
      "\u001b[1;31mTypeError\u001b[0m                                 Traceback (most recent call last)",
      "\u001b[1;32m<ipython-input-25-b54ab30db56c>\u001b[0m in \u001b[0;36m<module>\u001b[1;34m()\u001b[0m\n\u001b[0;32m      2\u001b[0m     grafLeitartimi(TaflaArangursrikurLeitartimiSlembid[i],\n\u001b[0;32m      3\u001b[0m                \u001b[0mTaflaArangursrikurLeitartimiRadad\u001b[0m\u001b[1;33m[\u001b[0m\u001b[0mi\u001b[0m\u001b[1;33m]\u001b[0m\u001b[1;33m,\u001b[0m \u001b[0mk\u001b[0m\u001b[1;33m,\u001b[0m \u001b[0mms\u001b[0m\u001b[1;33m,\u001b[0m \u001b[0mns\u001b[0m\u001b[1;33m[\u001b[0m\u001b[0mi\u001b[0m\u001b[1;33m]\u001b[0m\u001b[1;33m,\u001b[0m\u001b[1;33m\u001b[0m\u001b[0m\n\u001b[1;32m----> 4\u001b[1;33m                'Árangursrík leit í %d-staka gagnagrindum',i)\n\u001b[0m",
      "\u001b[1;31mTypeError\u001b[0m: grafLeitartimi() missing 1 required positional argument: 'c'"
     ]
    }
   ],
   "source": [
    "for i in range(k):\n",
    "    grafLeitartimi(TaflaArangursrikurLeitartimiSlembid[i],\n",
    "               TaflaArangursrikurLeitartimiRadad[i], k, ms, ns[i],\n",
    "               'Árangursrík leit í %d-staka gagnagrindum',i)"
   ]
  },
  {
   "cell_type": "markdown",
   "metadata": {},
   "source": [
    "Með ágiskun fannst fall sem vex álíka hratt og leitartíminn, þó gera mætti betur. Á línuritunum sést þetta fall, $\\frac{\\sqrt{m}*ln(m)}{3000}$, en lograföll með fastastuðli virtust vaxa of hægt. \n",
    "Það eru nokkrar mögulegar ástæður fyrir því:\n",
    "- Útfærslur gagnagrindanna eru ekki óaðfinnanlegar.\n",
    "- Tímaflækja er fjöldi aðgerða, ekki raunverulegur tími. Fleiri hlutir en fjöldi aðgerða hefur áhrif á tímamælingar í tölvu. Áhugavert væri að prófa aðrar aðferðir til að tímamæla.\n",
    "- Skala þarf lograföllin og stærðirnar til, mögulega þarf að tímamæla fleiri aðgerðir. Það er alls ekki víst að eitt og sama lografallið passi við allar aðgerðirnar."
   ]
  },
  {
   "cell_type": "markdown",
   "metadata": {},
   "source": [
    "#####  Helmingur leita er að lyklum sem eru ekki í gagnagrindunum"
   ]
  },
  {
   "cell_type": "code",
   "execution_count": 26,
   "metadata": {},
   "outputs": [
    {
     "ename": "TypeError",
     "evalue": "grafLeitartimi() missing 1 required positional argument: 'c'",
     "output_type": "error",
     "traceback": [
      "\u001b[1;31m---------------------------------------------------------------------------\u001b[0m",
      "\u001b[1;31mTypeError\u001b[0m                                 Traceback (most recent call last)",
      "\u001b[1;32m<ipython-input-26-1b4310439382>\u001b[0m in \u001b[0;36m<module>\u001b[1;34m()\u001b[0m\n\u001b[0;32m      2\u001b[0m     grafLeitartimi(TaflaArangurslitillLeitartimiSlembid[i],\n\u001b[0;32m      3\u001b[0m                \u001b[0mTaflaArangurslitillLeitartimiRadad\u001b[0m\u001b[1;33m[\u001b[0m\u001b[0mi\u001b[0m\u001b[1;33m]\u001b[0m\u001b[1;33m,\u001b[0m \u001b[0mk\u001b[0m\u001b[1;33m,\u001b[0m \u001b[0mms\u001b[0m\u001b[1;33m,\u001b[0m \u001b[0mns\u001b[0m\u001b[1;33m[\u001b[0m\u001b[0mi\u001b[0m\u001b[1;33m]\u001b[0m\u001b[1;33m,\u001b[0m\u001b[1;33m\u001b[0m\u001b[0m\n\u001b[1;32m----> 4\u001b[1;33m                'Hálf-árangurslaus leit í %d-staka gagnagrindum', k+i)\n\u001b[0m",
      "\u001b[1;31mTypeError\u001b[0m: grafLeitartimi() missing 1 required positional argument: 'c'"
     ]
    }
   ],
   "source": [
    "for i in range(k):\n",
    "    grafLeitartimi(TaflaArangurslitillLeitartimiSlembid[i],\n",
    "               TaflaArangurslitillLeitartimiRadad[i], k, ms, ns[i],\n",
    "               'Hálf-árangurslaus leit í %d-staka gagnagrindum', k+i)"
   ]
  },
  {
   "cell_type": "markdown",
   "metadata": {},
   "source": [
    "<hr>\n",
    "## 6. Niðurstaða og samantekt\n",
    "\n",
    "Það hefði verið hægt að gera fleiri töflur til að bera saman mælingar á aðra vegu án þess að breyta gögnunum. T.d. væri hægt að skoða leitartíma með fast $m=100.000$ og skoða breytileg $n$, til að sjá betur að jafnmargar leitir í stærri lyklasöfnum taka örlítið lengri tíma, en það sést vel þegar mismunandi gröf eru borin saman. Svipaða hluti væri hægt að gera með gröfin, en heildarmyndin er skýr eins og er.\n",
    "\n",
    "Það er ljóst að hrúgutréið kemur best út úr tímamælingunum í heild. Það virðist vera áreiðanlegt lyklasafn sem virkar vel undir hvers kyns kringumstæðum. \n",
    "\n",
    "Tvíleitartréið stendur sig best af þessum lyklasöfnum þegar notandinn getur verið viss um að innsetningin verði slembin og að valin sé góð rót, þannig að það vaxi jafnt. Hins vegar fellur tvíleitartréið aftur úr ef gildin eru sett inn í næstum því hækkandi röð, og $n/2$ víxlanir voru alls ekki nóg til að bjarga því frá því að haga sér eins og í sínu versta tilfelli.\n",
    "\n",
    "Það væri sannarlega áhugavert að skoða skopplistann betur. Hann fékk ekki að sína styrkleika sína, t.d. ef framkvæmd yrði leit að lykli sem er minni en minnsti lykillinn í lyklasöfnunum, eða ef innsetning væri í lækkandi röð þá myndi skopplistinn sleppa við gríðarlega margar ítranir. Með endurnýtanlegum aðferðum úr skýrslunni má auðveldlega útfæra módúl sem myndi gera þetta. Eina sem þyrfti að bæta inn, væri að snúa við listunum í `RadadirLyklar` eftir að þeir hefur verið smíðaðir, áður en þeir eru settir inn í lyklasöfnin.\n",
    "\n",
    "Það var virkilega skemmtilegt að útfæra svona verkefni. Það er flott að sjá hvað Python er öflugt tól og hvað það er hægt að vinna auðveldlega úr gögnum í því. Það var áhugavert að gera svona margar stórar mælingar og taka svo meðaltal þeirra allra, því það kvafðist þess að heildarmyndin yrði skoðuð og ég hefði yfirsýn á verkefninu sem eitt stórt verkefni með mörg undirverkefni, en ekki sem mörg lítil verkefni sem framkvæmd eru í röð. Fyrst var verkefnið leyst miðað við eina mælingu, og hver leitaraðferð átti að hafa þann möguleika að endurtaka sig $f$ sinnum og reikna sitt meðaltal, en þá kom í ljós að í seinni ítrunum yrði alltaf reynt að setja sömu gögn í sömu röð inn í full lyklasöfn, og svo yrði alltaf framkvæmd leit í sömu lyklasöfnunum. Útkoman væri sú að við værum einfaldlega að reikna meðaltal á vinnslutíma tölvunnar yfir $f$ aðgerðir á sömu lyklasöfnunum."
   ]
  },
  {
   "cell_type": "markdown",
   "metadata": {},
   "source": [
    "## 7. Fleiri aðgerðir og viðbætur"
   ]
  },
  {
   "cell_type": "markdown",
   "metadata": {},
   "source": [
    "###### 7.1 Viðbót var færð upp í kafla 3"
   ]
  },
  {
   "cell_type": "markdown",
   "metadata": {},
   "source": [
    "### 7.2 Föll til að smíða og birta töflur"
   ]
  },
  {
   "cell_type": "code",
   "execution_count": 13,
   "metadata": {},
   "outputs": [],
   "source": [
    "from IPython.display import HTML, display\n",
    "import tabulate\n",
    "\n",
    "# Skeytir línuheiti L fram fyrir hverja línu í T\n",
    "def TaflaLinuheiti(L,T):\n",
    "    for i in range(len(L)):\n",
    "        T[i] = np.concatenate((np.array([L[i]]),T[i]))\n",
    "    return T\n",
    "\n",
    "# Býr til lista af gildum með leitartíma til að birta í töflu\n",
    "def LeitartimaToflur(L,T,ms):\n",
    "    Ts = []\n",
    "    for i in range(len(T[0])):\n",
    "        Ts.append(\n",
    "            TaflaLinuheiti(L, [ms\n",
    "                ,T[0][i],T[1][i],T[2][i]]))\n",
    "    return Ts\n",
    "\n",
    "# Birtir staka töflu sem HTML Table í Jupyter Notebook\n",
    "def BirtaTofluHTML(T,H=\"\"):\n",
    "    display(HTML(\"<h6>\" + H + \"</h6>\"))\n",
    "    display(HTML(tabulate.tabulate(T, tablefmt='html')))\n",
    "    \n",
    "# Birtir lista af töflum sem HTML Table í Jupyter Notebook\n",
    "def BirtaToflurHTML(Ts,ns,H):\n",
    "    for i in range(len(ns)):\n",
    "        BirtaTofluHTML(Ts[i],H%ns[i])\n"
   ]
  },
  {
   "cell_type": "markdown",
   "metadata": {},
   "source": [
    "### 7.3 Módúll til að smíða töflur"
   ]
  },
  {
   "cell_type": "code",
   "execution_count": 14,
   "metadata": {},
   "outputs": [],
   "source": [
    "LinuheitiInnsetning = ['Fjöldi innsetninga','Tvíleitartré','Hrúgutré','Skopplisti']\n",
    "\n",
    "TaflaInnsetningartimiSlembid = TaflaLinuheiti(LinuheitiInnsetning,\n",
    "                            [ns,innsetningartimiTreeSlembid,\n",
    "                                innsetningartimiTreapSlembid,\n",
    "                                innsetningartimiSkipListSlembid])\n",
    "\n",
    "TaflaInnsetningartimiRadad = TaflaLinuheiti(LinuheitiInnsetning,\n",
    "                            [ns,innsetningartimiTreeRadad,\n",
    "                                innsetningartimiTreapRadad,\n",
    "                                innsetningartimiSkipListRadad])\n",
    "\n",
    "LinuheitiLeit = ['Fjöldi leita','Tvíleitartré','Hrúgutré','Skopplisti']\n",
    "\n",
    "tempT = [arangursrikurLeitartimiTreeSlembid, arangursrikurLeitartimiTreapSlembid, arangursrikurLeitartimiSkipListSlembid]\n",
    "TaflaArangursrikurLeitartimiSlembid = LeitartimaToflur(LinuheitiLeit, tempT,ms)\n",
    "\n",
    "tempT = [arangursrikurLeitartimiTreeRadad,arangursrikurLeitartimiTreapRadad,arangursrikurLeitartimiSkipListRadad]\n",
    "TaflaArangursrikurLeitartimiRadad = LeitartimaToflur(LinuheitiLeit, tempT,ms)\n",
    "\n",
    "tempT = [arangurslitillLeitartimiTreeSlembid, arangurslitillLeitartimiTreapSlembid, arangurslitillLeitartimiSkipListSlembid]\n",
    "TaflaArangurslitillLeitartimiSlembid = LeitartimaToflur(LinuheitiLeit, tempT,ms)\n",
    "\n",
    "tempT = [arangurslitillLeitartimiTreeRadad, arangurslitillLeitartimiTreapRadad, arangurslitillLeitartimiSkipListRadad]\n",
    "TaflaArangurslitillLeitartimiRadad = LeitartimaToflur(LinuheitiLeit, tempT,ms)\n",
    "del(tempT)"
   ]
  },
  {
   "cell_type": "markdown",
   "metadata": {},
   "source": [
    "### 7.4 Föll til að smíða gröf"
   ]
  },
  {
   "cell_type": "code",
   "execution_count": 15,
   "metadata": {},
   "outputs": [],
   "source": [
    "\"\"\" LH línuheiti, TIS TímiInnsetningarSlembið, TIR ...Random \"\"\"\n",
    "def grafInnsetningartimi(LH,TIS, TIR, k, ns):\n",
    "    figInnsetning, axisInnsetning = plt.subplots()\n",
    "    litir1 = ['green', 'darkred', 'blue']\n",
    "    litir2 = ['lightgreen', 'red', 'lightblue']\n",
    "    merki = ['o', 'x', '^']\n",
    "    titlarB = [' slembiröð', ' ~hækkandi röð'] \n",
    "    \n",
    "    for i in range(k):\n",
    "        axisInnsetning.plot(ns,TIS[i],\n",
    "        marker=merki[i], linestyle='dashed', color=litir1[i], \n",
    "        linewidth=(k-i)/2+2, label=LH[i+1]+titlarB[0])\n",
    "    \n",
    "    for i in range(k):\n",
    "        axisInnsetning.plot(ns,TIR[i],\n",
    "        marker=merki[i], linestyle='dashed', color=litir2[i],\n",
    "        linewidth=(k-i)/2+1, label=LH[i+1]+titlarB[1])\n",
    "    axisInnsetning.set(xlabel='Fjöldi Innsetninga', \n",
    "                    ylabel='Tími (s)',\n",
    "                    title = 'Fjöldi innsetninga á móti tíma')\n",
    "    \n",
    "    xs = np.arange(500, 5000, 10)\n",
    "    lg = lambda x: np.log1p(x)/1000\n",
    "    ys = lg(xs)\n",
    "    axisInnsetning.plot(xs, ys, color='black', linewidth=1)\n",
    "    \n",
    "    lin = lambda x: x/100000\n",
    "    ys = lin(xs)\n",
    "    axisInnsetning.plot(xs, ys, color='black', linewidth=1)\n",
    "    \n",
    "    axisInnsetning.set_ylim([0,0.1])\n",
    "    plt.yticks(np.arange(0, 0.1, 0.01))\n",
    "    plt.xticks(np.arange(0, 5500, 500))\n",
    "    axisInnsetning.legend()\n",
    "    axisInnsetning.grid()\n",
    "    plt.show()\n",
    "    figInnsetning.savefig('GrafInnsetningartimi.png')\n",
    "\n",
    "\n",
    "\"\"\" LH línuheiti, TS TímiSlembið, TR ...Random \"\"\"\n",
    "def grafLeitartimi(LH, TS, TR, k, ms, n, t, c):\n",
    "    fig, axis = plt.subplots()\n",
    "    litir1 = ['green', 'darkred', 'blue']\n",
    "    litir2 = ['lightgreen', 'red', 'lightblue']\n",
    "    merki = ['o', 'x', '^']\n",
    "    titlarB = [' slembiröð', ' ~hækkandi röð'] \n",
    "    for i in range(k):\n",
    "        axis.plot(ms,TS[i],\n",
    "        marker=merki[i], linestyle='dashed', color=litir1[i], \n",
    "        linewidth=(k-i)/2+2, label=LH[i+1]+titlarB[0])\n",
    "    \n",
    "    for i in range(k):\n",
    "        axis.plot(ms,TR[i],\n",
    "        marker=merki[i], linestyle='dashed', color=litir2[i],\n",
    "        linewidth=(k-i)/2+1, label=LH[i+1]+titlarB[1])\n",
    "    axis.set(xlabel='Fjöldi Leita', \n",
    "                    ylabel='Tími (s)',\n",
    "                    title = t%n)\n",
    "    \n",
    "    xs = np.arange(ms[0], ms[2]+ms[0]//2, ms[0]//2)\n",
    "    lg = lambda x: np.log1p(x)/20\n",
    "    ys = lg(xs)\n",
    "    axis.plot(xs, ys, color='black', linewidth=1)\n",
    "    \n",
    "    lin = lambda x: x/100000\n",
    "    ys = lin(xs)\n",
    "    axis.plot(xs, ys, color='black', linewidth=1)\n",
    "    \n",
    "    plt.xticks(np.arange(0, ms[2], ms[0]))\n",
    "    axis.legend()\n",
    "    axis.grid()\n",
    "    plt.show()\n",
    "    fig.savefig('GrafLeitartimi%d-%d.png'%(n,c))"
   ]
  },
  {
   "cell_type": "markdown",
   "metadata": {},
   "source": [
    "### 7.5 Meira um SkipList"
   ]
  },
  {
   "cell_type": "code",
   "execution_count": 28,
   "metadata": {},
   "outputs": [
    {
     "ename": "IndentationError",
     "evalue": "unexpected indent (<ipython-input-28-4c158c6bd7de>, line 3)",
     "output_type": "error",
     "traceback": [
      "\u001b[1;36m  File \u001b[1;32m\"<ipython-input-28-4c158c6bd7de>\"\u001b[1;36m, line \u001b[1;32m3\u001b[0m\n\u001b[1;33m    \"\"\" prentar hvern layer af listum L í SkipList á forminu:\u001b[0m\n\u001b[1;37m    ^\u001b[0m\n\u001b[1;31mIndentationError\u001b[0m\u001b[1;31m:\u001b[0m unexpected indent\n"
     ]
    }
   ],
   "source": [
    "# class SkipList:\n",
    "# ...\n",
    "    \"\"\" prentar hvern layer af listum L í SkipList á forminu:\n",
    "        L[0].key (L[0].down.key) -> L[1] (L[1].down.key)...\n",
    "    \"\"\"\n",
    "    def printSkipList(self):\n",
    "        h = self.layers\n",
    "        SL = self.sortedLists\n",
    "        for i in range(h,-1,-1):\n",
    "            L = SL[i]\n",
    "            v = L.head\n",
    "            l = ''\n",
    "            d = ''\n",
    "            while v is not None:\n",
    "                d = str(v.down.key) if v.down is not None else ''\n",
    "                l += str(v.key)  + ' (' + d + ') ' + '-> '\n",
    "                v = v.right\n",
    "            print(l)\n",
    "            print(d)\n",
    "            print()\n",
    "\n",
    "def mainSkipList():\n",
    "    skiplist = SkipList()\n",
    "    \n",
    "    for i in range(15):\n",
    "        r = 2*i-1 # random.randint(0,100)\n",
    "        skiplist.insert(r)\n",
    "\n",
    "    skiplist.printSkipList()\n",
    "    \n",
    "    c=0\n",
    "    for i in range(30):\n",
    "        if not skiplist.contains(i):\n",
    "            c+=1\n",
    "    print(c)\n"
   ]
  }
 ],
 "metadata": {
  "kernelspec": {
   "display_name": "Python 3",
   "language": "python",
   "name": "python3"
  },
  "language_info": {
   "codemirror_mode": {
    "name": "ipython",
    "version": 3
   },
   "file_extension": ".py",
   "mimetype": "text/x-python",
   "name": "python",
   "nbconvert_exporter": "python",
   "pygments_lexer": "ipython3",
   "version": "3.6.5"
  }
 },
 "nbformat": 4,
 "nbformat_minor": 2
}
