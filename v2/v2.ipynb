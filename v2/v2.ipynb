{
 "cells": [
  {
   "cell_type": "markdown",
   "metadata": {},
   "source": [
    "#### Style Block\n",
    "<style>\n",
    "* { max-width = 800px; }\n",
    "    \n",
    ".column {\n",
    "  float: left;\n",
    "  width: 50%;\n",
    "}\n",
    "\n",
    "/* Clear floats after the columns */\n",
    ".row:after {\n",
    "  content: \"\";\n",
    "  display: table;\n",
    "  clear: both;\n",
    "}\n",
    "</style>"
   ]
  },
  {
   "cell_type": "markdown",
   "metadata": {},
   "source": [
    "# Verkefni IIA\n",
    "## Samanburður á tímaflækju aðgerða í þremur útfærslum af lyklasöfnum\n",
    "### Höfundur: Erling Óskar Kristjánsson\n",
    "<hr>\n",
    "#### Námskeið: Greining Reiknirita\n",
    "#### Umsjónarmaður: Hjálmtýr Hafsteinsson\n",
    "#### Stofnun: Háskóli Íslands\n",
    "#### Vor 2019\n",
    "<hr>"
   ]
  },
  {
   "cell_type": "markdown",
   "metadata": {},
   "source": [
    "## 1. Inngangur\n",
    "\n",
    "Fyrirfinnast ýmiss konar gerðir af gagnagrindum sem nota má sem lyklasöfn. Margar hafa þær sína kosti og galla og geta nýst vel undir mismunandi kringumstæðum. Kostirnir geta falist í því að vera hraðvirk, einföld í útfærslu, áreiðanleg, eða nota lítið geymslupláss, svo dæmi séu nefnd.\n",
    "\n",
    "Ein af þessum lyklasöfnum eru tvíleitartré og afbrigði þeirra, sem er frægt fyrir að vera hálfgerður _jack of all trades_, þar sem allar vinsælustu aðferðirnar á lyklasafnið nota $O(lg(n))$ í versta fall eða að jafnaði, sérstaklega svo framarlega sem tréið sé í jafnvægi. Í þessari skýrslu verður skoðað bæði venjulegt tvíleitartré og afbrigði þessi, sem á ensku kallast _Treap_, en verður hér nefnt Hrúgutré. Hrúgutré, eins og nafnið gefur til kynna, uppfyllir bæði skilyrði hrúgu, og trés. Útfærslan notast við slembitölugjafa til að úthluta hnútum forgang við innsetningu, og hnútar með hærri forgang færast ofar í tréið.\n",
    "\n",
    "Raðaður beintengdur listi er svo annað lyklasafn sem er þó ekkert sérstaklega hraðvirkt, en með því að tengja saman nokkra raðaða beintengda lista þá má búa til aðra gagnagrind sem kallast á ensku _Skip List_, en verður hér kallað Skopplisti. Skopplisti virkar þannig að í grunninn er einn raðaður beintengdur listi með hnútum sem innihalda lykil og bendi til hægri. Svo eftir því sem listinn lengist er búinn til annar beintengdur listi þar sem hver hnútur hefur t.d. 50% líkur á að vera í þessum nýja lista fyrir ofan, sama gerist svo við þann lista þegar hann lengist, o.s.frv. Hver hnútur í þessum styttri aukalistum hefur svo bendi niður á þann hnút með sama lykil í listanum _fyrir neðan sig_. Afleiðing þessa er sú að leit verður mun sneggri, því það þarf ekki að ítra í gegnum allan upprunalega listann til að finna rétta staðsetningu, heldur er hægt að taka stór skref í efri listum og fara svo niður í neðri lista.\n",
    "\n",
    "Hrúgutré og skopplistar hafa bæði þann eiginleika að nýta slembigjafa í hönnun sinni. Er áreiðanlegt að reiða sig á slembigjafa í hönnun lyklasafna? Hefur stærð gagnagrindanna áhrif á áreiðanleika þeirra?\n",
    "\n",
    "### 1.1 Verkefnalýsing \n",
    "Í þessu verkefni verða útfærðar og bornar saman þrjár gagnagrindur til að útfæra lyklasöfn.\n",
    "\n",
    "Gagnagrindurnar eru:\n",
    "\n",
    "1. Tvíleitartré (_Binary Search Tree_)\n",
    "2. Hrúgutré (_Treap_)\n",
    "3. Skopplisti (_Skip List_)\n",
    "\n",
    "Gagnagrindurnar verða útfærðar (e. _implemented_) í Python með aðgerðunum:\n",
    "\n",
    "- Innsetning (`insert()`)\n",
    "- Uppfletting/Leit (`contains()`)\n",
    "\n",
    "Smíðaðar verða gagnagrindur og gögn.\n",
    "\n",
    "Aðferðirnar verða svo tímamældar á eftirfarandi máta.\n",
    "\n",
    "Innsetningin á $n_0=500$, $n_1=2500$ og $n_2=5000$ lyklum þar sem gildi lyklana verður $1, 3, 5, ..., 2n_i-1$ (s.s. oddatölur). Til þæginda verða lyklasöfnin gjarnan kölluð _lítið_, _meðalstórt_ og _stórt_ hér eftir, þó það gæti veitt gott innsæi að skoða bæði stærri og minni gagnagrindur, og þó $n_2=5000$ sé alls ekkert sérlega stórt.\n",
    "\n",
    "Röðun lyklanna við innsetingu verður tvenns konar:\n",
    "\n",
    "- Lyklarnir eru í slembiröð.\n",
    "- Lyklarnir eru í hækkandi röð, burtséð frá $\\frac{n_i}{10}$ handahófskenndum víxlunum (hér eftir: '~_hækkandi_ röð')\n",
    "\n",
    "Fyrir hvora gerð af innsetningu verða svo framkvæmdar þrjár mismunandi tímamælingar á leit að $m_0=100.000$, $m_1=200.000$ og svo $m_2=400.000$ lyklum. Í öllum tilfellum verða allir lyklar jafnlíklegir til að verða fyrir leitinni, en ýmist verður\n",
    "\n",
    "- Einungis leitið að lyklum sem eru í gagnagrindinni (s.s. oddatölum á bilinu $[1, 2n_i-1]$), eða\n",
    "- Helmingur leitana verða að gildum sem eru ekki í gagnagrindinni (s.s. allar heiltölur á bilinu $[0, 2n_i]$).\n",
    "\n",
    "Því má taka saman tímamælingar á leit í tilvikin:\n",
    "\n",
    "- Slembin innsetning, allar leitir bera árangur\n",
    "- Slembin innsetning, helmingur leitana árangurslaus\n",
    "- Náröðuð innsetning, allar leitir bera árangur\n",
    "- Náröðuð innsetning, helmingur leitana árangurslaus\n",
    "\n",
    "\n",
    "Niðurstöður verða svo birtar í töflum og línuritum, og verða þær bornar saman og túlkaðar.\n",
    "\n",
    "Verkefnið verður að öllu leiti unnið í Python og Jupyter, og allur kóði verður birtur og útskýrður.\n",
    "<hr>"
   ]
  },
  {
   "cell_type": "markdown",
   "metadata": {},
   "source": [
    "<hr>\n",
    "## 2. Útfærsla á Gagnagrindum\n",
    "\n",
    "Notast var við hlutbundna hönnun á öllum gagnagrindum og nóðum þeirra. Gagnagrindaklasarnir heita `Tree`, `Treap` og `SkipList`."
   ]
  },
  {
   "cell_type": "code",
   "execution_count": 3,
   "metadata": {},
   "outputs": [],
   "source": [
    "\"\"\"\"\"\"\"\"\" global imports \"\"\"\"\"\"\"\"\"\n",
    "import math, random, timeit\n",
    "import numpy as np\n",
    "import matplotlib.pyplot as plt"
   ]
  },
  {
   "cell_type": "markdown",
   "metadata": {},
   "source": [
    "<hr>\n",
    "### 2.1 Tvíleitartré\n",
    "Tvíleitartré er klassísk lyklasafn. Styrkleiki tvíleitartrésins er sá að útfærslan er auðveld. Það þarf ekki að hafa sérstakan klasa fyrir tré með rót, og annan fyrir nóður, því rótin breytist aldrei (nema henni sé eytt, en þessi útfærsla bíður ekki upp á eyðingar). Ef tréið er í jafnvægi þá eru innsetningar- og leitartímar fyrirsjáanlegir."
   ]
  },
  {
   "cell_type": "code",
   "execution_count": 4,
   "metadata": {},
   "outputs": [],
   "source": [
    "# Tvíleitartré\n",
    "class Tree:\n",
    "\n",
    "    # Smiður\n",
    "    def __init__(self, data):\n",
    "        self.data = data\n",
    "        self.left = None\n",
    "        self.right = None\n",
    "\n",
    "    # Innseting\n",
    "    def insert(self, data):\n",
    "        if self.data:\n",
    "            if data < self.data:\n",
    "                if self.left is None:\n",
    "                    self.left = Tree(data)\n",
    "                else:\n",
    "                    self.left.insert(data)\n",
    "            elif data > self.data:\n",
    "                if self.right is None:\n",
    "                    self.right = Tree(data)\n",
    "                else:\n",
    "                    self.right.insert(data)\n",
    "        else:\n",
    "            self.data = data\n",
    "\n",
    "    # Uppfletting    \n",
    "    def contains(self, key):\n",
    "        if key < self.data:\n",
    "            if self.left is None:\n",
    "                return False\n",
    "            return self.left.contains(key)\n",
    "        elif key > self.data:\n",
    "            if self.right is None:\n",
    "                return False\n",
    "            return self.right.contains(key)\n",
    "        else:\n",
    "            return True"
   ]
  },
  {
   "cell_type": "markdown",
   "metadata": {},
   "source": [
    "<hr>\n",
    "### 2.2 Hrúgutré\n",
    "Hrúgutréið hefur sér klasa fyrir tréið sjálft þar sem haldið er utan um hvaða nóða er rót. Aðgerðir eru framkvæmdar á tréið, sem geymir nóður.\n",
    "\n",
    "Hrúgutréið uppfyllir hrúguskilyrði þar sem nóður með hærri forgang (lægra gildi á `self.priority`) eru ofar í trénu. Útfærslan bíður ekki upp á að hægt sé að velja forgang á innsetta gildið, en í staðinn er framkölluð handahófskennd fleytitala á bilinu $[0,1)$ sem eru u.þ.b. $2^{53}$ ólík gildi, og líkurnar á að fá þá sömu tvisvar því gríðarlega litlar. Annars væri t.a.m. hægt að upphafsstilla mengi (Python `set`) af tölum við smíði trésins og fjarlægja gildi úr því mengi og nota sem forgang. Þetta mengi þyrfti þó að að vera að endanlegri stærð, sem myndi takmarka stærð trésins.\n",
    "\n",
    "Leitin er mjög lík leitinni í tvíleitartré, fyrir utan að fyrst þarf að gá hvort hrúgutréið sé tómt, og ef ekki, þá skal hefja leit eins og í tvíleitartrénu út frá rótinni. Það lengir leitartíma örlítið, en hefur minni áhrif eftir því sem tréið verður stærra (því það verða fleiri aðgerðir í hverri leit og þessi eina aðgerð er hverfandi).\n",
    "\n",
    "Sama á svo við um innsetningu í hrúgutréið, nema að þar þarf einnig að laga hrúguskilyrðin eftir hverja innsetningu. Því er haldið fram í bókinni að snúningarnir taki bara fastan tíma, en við munum sjá á tímamælingunum t.d. hvort innsetning á gildum með lyklum í slembinni röð sé þá raunverulega jafn snöggur í hrúgutréum og í tvíleitartréi."
   ]
  },
  {
   "cell_type": "code",
   "execution_count": 5,
   "metadata": {},
   "outputs": [],
   "source": [
    "class TreapNode():\n",
    "    # Smiður nóðu\n",
    "    def __init__(self, data, parent = None):\n",
    "        self.data = data\n",
    "        self.priority = random.random()\n",
    "        self.parent = parent\n",
    "        self.left = None\n",
    "        self.right = None\n",
    "\n",
    "\n",
    "class Treap():\n",
    "    # Smiður hrúgutrés\n",
    "    def __init__(self):\n",
    "        self.root = None\n",
    "\n",
    "    # Uppfletting\n",
    "    def contains(self, data):\n",
    "        if self.root is None:\n",
    "            return False\n",
    "        return self._contains(data, self.root)\n",
    "    \n",
    "    def _contains(self, data, r):\n",
    "        if data < r.data:\n",
    "            if r.left is None:\n",
    "                return False\n",
    "            return self._contains(data, r.left)\n",
    "        elif data > r.data:\n",
    "            if r.right is None:\n",
    "                return False\n",
    "            return self._contains(data, r.right)\n",
    "        else:\n",
    "            return True\n",
    "\n",
    "    # Innsetning\n",
    "    def insert(self, data):\n",
    "        if self.root is None:\n",
    "            self.root = TreapNode(data)\n",
    "            return\n",
    "        self._insert(data, self.root)\n",
    "        \n",
    "    def _insert(self, data, r):\n",
    "        if data < r.data:\n",
    "            if r.left is None:\n",
    "                r.left = TreapNode(data, r)\n",
    "                self._balance(r.left)\n",
    "            else:\n",
    "                self._insert(data, r.left)\n",
    "        elif data > r.data:\n",
    "            if r.right is None:\n",
    "                r.right = TreapNode(data, r)\n",
    "                self._balance(r.right)\n",
    "            else:\n",
    "                self._insert(data, r.right)\n",
    "        else: # data == r.data\n",
    "            return\n",
    "\n",
    "    # laga hrúguskilyrði\n",
    "    def _balance(self, s):\n",
    "        while s.parent is not None and s.priority < s.parent.priority:\n",
    "            if s.data < s.parent.data:\n",
    "                self._rotate_right(s)\n",
    "            else: # self.data > self.parent.data\n",
    "                self._rotate_left(s)\n",
    "        if s.parent is None:\n",
    "            self.root = s\n",
    "         \n",
    "    def _rotate_right(self, s):\n",
    "        p = s.parent\n",
    "        g = p.parent\n",
    "        if s.right is not None:\n",
    "            s.right.parent = p\n",
    "        if g is not None:\n",
    "            if p is g.left:\n",
    "                g.left = s\n",
    "            else: # p is g.right\n",
    "                g.right = s\n",
    "        p.left = s.right\n",
    "        s.parent = g\n",
    "        p.parent = s\n",
    "        s.right = p\n",
    "                       \n",
    "    def _rotate_left(self, s):\n",
    "        p = s.parent\n",
    "        g = p.parent\n",
    "        if s.left is not None:\n",
    "            s.left.parent = p\n",
    "        if g is not None:\n",
    "            if p is g.left:\n",
    "                g.left = s\n",
    "            else: # p is g.right\n",
    "                g.right = s\n",
    "        p.right = s.left\n",
    "        s.parent = g\n",
    "        p.parent = s\n",
    "        s.left = p"
   ]
  },
  {
   "cell_type": "markdown",
   "metadata": {},
   "source": [
    "<hr>\n",
    "### 2.3 Skopplisti\n",
    "Skopplistinn hefur þann kost að lág lyklagildi eru framarlega, en engu að síður er nokkuð hraðvirkt að finna hærri gildi.\n",
    "\n",
    "Ókosturinn er sá að af þessum gagnagrindum reyndist hönnunin á skopplistanum vera mesta mausið (mögulega af því höfundur er vanari að hugsa um tré); oft hefði verið gott að hafa bendi upp á næsta lista fyrir ofan, og hefði það mögulega orðið hraðvirkara, en það brýtur skilgreininguna á skopplista. \n",
    "\n",
    "Það er einn annmarki í útfærslunni, en hann er í aðgerðinni `updateAbove`. Þar þarf stundum að ýtra um nokkur gildi í listanum fyrir neðan til að passa að hnúturinn bendi rétt niður, og getur þetta því aukið tímann örlítið fyrir hvera innsetningu. Þetta ætti að vera hjákvæmilegt, en höfundi tókst ekki að breyta þessari útfærslu skopplista án þess að þurfa að endursmíða hann frá grunni með hugmyndum annara. Engu að síður þá ætti þetta ekki að hafa áhrif á uppflettingartíma.\n",
    "\n",
    "Í undirkafla 7.5 (aftast í skýrslunni) má finna `main()` aðferðir og fleiri til að skoða og prófa gagnagrindirnar. Sér í lagi var útfærð aðferðin `printSkiplist()` til að athuga að allir bendlar séu réttir, auk þess var bætt prent-skipunum inn í `insert()` og `contains()` til að ganga úr skugga um að leitin færi í rétta braut í hverri ítrun, og allt leit vel út. Þessar línur hafa einungis verið _kommentaðar_ út, til að auðvelda yfirferð."
   ]
  },
  {
   "cell_type": "code",
   "execution_count": 6,
   "metadata": {},
   "outputs": [],
   "source": [
    "class ListNode():\n",
    "    \n",
    "    def __init__(self, key, right, down=None):\n",
    "        self.key = key\n",
    "        self.right = right\n",
    "        self.down = down\n",
    "\n",
    "\n",
    "class SortedLinkedList():\n",
    "    \n",
    "    def __init__(self):\n",
    "        self.tail = ListNode(math.inf, None)\n",
    "        self.head = ListNode(-math.inf, self.tail)\n",
    "        \n",
    "\n",
    "class SkipList():\n",
    "\n",
    "    def __init__(self):\n",
    "        self.layers = 0\n",
    "        self.sortedLists = [SortedLinkedList()]\n",
    "\n",
    "\n",
    "    def contains(self, x):\n",
    "        h = self.layers\n",
    "        v = self.sortedLists[h].head\n",
    "#        print('byrja leit á', x)\n",
    "        while v is not None and v.key != x:\n",
    "            if v.right.key > x:\n",
    "#                a = str(v.down.key) if v.down is not None else 'None'\n",
    "#                b = str(v.right.key) if v.right is not None else 'None'\n",
    "#                print('fór niður úr hæð '+ str(h) + ' frá '+ str(v.key) + ' til ' + a + ' en til hægri er ' + b)\n",
    "#                h-=1\n",
    "                v = v.down\n",
    "            else:\n",
    "#                print('fór til hægri á hæð '+ str(h) + ' frá ' + str(v.key) + ' til ' + str(v.right.key))\n",
    "                v = v.right\n",
    "#            print()\n",
    "        return v is not None and v.key == x\n",
    "\n",
    "\n",
    "    def insert(self, x):\n",
    "        h = self.layers\n",
    "        L = self.sortedLists[h]\n",
    "        v = L.head\n",
    "        rVs = []\n",
    "        while True: # Could put 'v.right.key == x' here instead of True\n",
    "            if v.right.key < x:\n",
    "                v = v.right\n",
    "            elif v.down is not None:\n",
    "                rVs.append(v)\n",
    "                v = v.down\n",
    "            elif v.right.key == x: # but fewer comparisons if kept here\n",
    "                return\n",
    "            else: # v.right.key > x and v.down is None. We are here!\n",
    "                v.right = ListNode(x, v.right, v.down)\n",
    "                self.updateAbove(x, rVs)\n",
    "                break\n",
    "\n",
    "\n",
    "    def updateAbove(self, x, rVs):\n",
    "        i, n = 0, len(rVs)\n",
    "        b = self.flipCoin() # flip coin\n",
    "        while i < n and b: # add x to above layers\n",
    "            rv = rVs[n-i-1]\n",
    "            d = rv.down\n",
    "            while x != d.key: # make sure x is pointing down to itself\n",
    "                d = d.right\n",
    "#            print(x, 'inserted with', d.key, 'below')\n",
    "            rv.right = ListNode(x, rv.right, d)\n",
    "            b = b and self.flipCoin()\n",
    "            i+=1\n",
    "        if i == n and b: # already added to top layer, add another?\n",
    "            L = SortedLinkedList()\n",
    "            L.head.down = self.sortedLists[self.layers].head\n",
    "            L.tail.down = self.sortedLists[self.layers].tail\n",
    "            self.layers += 1\n",
    "            self.sortedLists.append(L)\n",
    "\n",
    "    \"\"\" prentar hvern layer af listum L í SkipList á forminu:\n",
    "        L[0].key (L[0].down.key) -> L[1] (L[1].down.key)...\n",
    "    \"\"\"\n",
    "    def printSkipList(self):\n",
    "        h = self.layers\n",
    "        SL = self.sortedLists\n",
    "        for i in range(h,-1,-1):\n",
    "            L = SL[i]\n",
    "            v = L.head\n",
    "            l = ''\n",
    "            d = ''\n",
    "            while v is not None:\n",
    "                d = str(v.down.key) if v.down is not None else ''\n",
    "                l += str(v.key)  + ' (' + d + ') ' + '-> '\n",
    "                v = v.right\n",
    "            print(l)\n",
    "        #    print(d)\n",
    "            print()\n",
    "\n",
    "    def flipCoin(self):\n",
    "        return random.randint(0,1)==1"
   ]
  },
  {
   "cell_type": "markdown",
   "metadata": {},
   "source": [
    "<hr>\n",
    "## 3. Smíði gagna\n",
    "\n",
    "Nú þarf að smíða gögn til að setja inn í gagnagrindurnar. Gögnin eru geymd í lista sem vísað er í þegar gögnin eru sett í gagnagrindurnar. Auðvelt væri að búa gögnin til jafnóðum og þau eru sett inn, en þetta er gert til að koma í veg fyrir að smíði gagna hafi áhrif á tímamælinguna meðan innsetningin á sér stað.\n",
    "\n",
    "Á svipaðan máta eru búnir til sex mismunandi listar til að leita með, tveir fyrir hvert gildi á $n_0-n_2$, allir að lengd $m_2=400.000$. Þá er einfaldlega ítrað í gegnum $1/4$ og $1/2$ af listanum fyrir lægri gildi á $m_i$.\n",
    "\n",
    "Leitað verður s.s. $100.000$ til $400.000$ sinnum í hverjum lista, en af stökum á bilinu $0$ til $1.000$, $5.000$ eða $10.000$ eftir tilviki. Því verður leitað mjög oft að hverri tölu. Leitarlistarnir eru stokkaðir (`shuffle`) en það hefur lítil áhrif því hver tala verður u.þ.b. jafn oft fyrir leitinni.\n",
    "\n",
    "Skilgreinum hér víddir sem vísað er í. Allir kóðabútar eins og þessi merktur `Fjöldi mælinga` tilheyra einni einingu sem púsla má saman og keyra í heild til að herma verkefnið. Á `import` skipununum sést hvert þarf að sitja hvert fall sem birt verða í köflum."
   ]
  },
  {
   "cell_type": "markdown",
   "metadata": {},
   "source": [
    "```Python\n",
    "\"\"\"\"\"\"\"\"\"\"\"\"\"\"\" local imports \"\"\"\"\"\"\"\"\"\"\"\"\"\"\"\n",
    "from Treap import Treap\n",
    "from Tree import Tree\n",
    "from SkipList import SkipList\n",
    "from FunctionsV2 import SmidaInnsetningarLyklaLista, SmidaLeitarLyklaLista\n",
    "from FunctionsV2 import MaelaInnsetningartima, MaelaLeitartima\n",
    "from TablesV2 import TaflaLinuheiti, LeitartimaToflur, BirtaTofluHTML, BirtaToflurHTML\n",
    "from GraphsV2 import GrafInnsetningartimi, GrafLeitartimi, GrafLeitartimi_mFast\n",
    "\n",
    "\"\"\"\"\"\"\"\"\"\"\"\"\"\"\" Fjöldi mælinga \"\"\"\"\"\"\"\"\"\"\"\"\"\"\"\n",
    "k = 3\n",
    "ns = [500, 2500, 5000]\n",
    "ms = [100000, 200000, 400000]\n",
    "f = 50 # fjöldi mælinga\n",
    "```"
   ]
  },
  {
   "cell_type": "markdown",
   "metadata": {},
   "source": [
    "<hr>\n",
    "### 3.1 Föll til notkunar við gerð gagna "
   ]
  },
  {
   "cell_type": "code",
   "execution_count": 7,
   "metadata": {},
   "outputs": [],
   "source": [
    "\"\"\"\"\"\"\"\"\" Búa til gögn fyrir innsetningu \"\"\"\"\"\"\"\"\"\n",
    "def SmidaInnsetningarLyklaLista(Ss, Rs, ns):\n",
    "    i = 0\n",
    "    for n in ns:\n",
    "        Ss.append(np.arange(1, 2*n+1, 2))\n",
    "        Rs.append(np.copy(Ss[i]))\n",
    "        random.shuffle(Ss[i])\n",
    "        RandomVixlanir(Rs[i], n)\n",
    "        i+=1\n",
    "\n",
    "\"\"\"\"\"\"\"\"\" Búa til gögn fyrir leit \"\"\"\"\"\"\"\"\"\n",
    "\"\"\" Ef b þá verður búinn til heiltölulisti á bilinu [0,2n]\n",
    "    en annars bara oddatölur \"\"\"\n",
    "def SmidaLeitarLyklaLista(m, ns, k, b):\n",
    "    Ls = []\n",
    "    for i in range(k):\n",
    "        n = ns[i]\n",
    "        a = np.arange(0, 2*n) if b else np.arange(1, 2*n+1, 2)\n",
    "        Ls.append(a)\n",
    "        while len(Ls[i]) < m:\n",
    "            Ls[i] = np.concatenate((Ls[i], a))\n",
    "        random.shuffle(Ls[i])\n",
    "    return Ls\n",
    "    \n",
    "\"\"\" Framkvæmir n/10 staðsetningavíxlanir í listanum X \"\"\"\n",
    "def RandomVixlanir(X,n):\n",
    "    for i in range(n//10):\n",
    "        a, b = random.randint(0,n-1), random.randint(0,n-1)\n",
    "        X[a], X[b] = X[b], X[a]"
   ]
  },
  {
   "cell_type": "markdown",
   "metadata": {},
   "source": [
    "Gögnin eru svo upphafssett á eftirfarandi máta. Leitarlyklar eru einungis smíðaðir einu sinni, en innsetningargögn verða smíðuð í hverri ítrun eins og útskýrt verður rétt að neðan."
   ]
  },
  {
   "cell_type": "markdown",
   "metadata": {},
   "source": [
    "```Python\n",
    "\"\"\"\"\"\"\"\"\"\"\"\"\"\"\" Listar undir innsetningartíma \"\"\"\"\"\"\"\"\"\"\"\"\"\"\"\n",
    "innsetningartimiTreeSlembid = np.zeros(3,dtype=float)\n",
    "innsetningartimiTreeRadad = np.zeros(3,dtype=float)\n",
    "innsetningartimiTreapSlembid = np.zeros(3,dtype=float)\n",
    "innsetningartimiTreapRadad = np.zeros(3,dtype=float)\n",
    "innsetningartimiSkipListSlembid = np.zeros(3,dtype=float)\n",
    "innsetningartimiSkipListRadad = np.zeros(3,dtype=float)\n",
    "# Og setja þá í lista til að geta vísað í þá eftir stuðlum\n",
    "\n",
    "\"\"\"\"\"\"\"\"\"\"\"\"\"\"\" Listar undir leitartíma \"\"\"\"\"\"\"\"\"\"\"\"\"\"\"\n",
    "arangursrikurLeitartimiTreeSlembid = np.zeros((3,3),dtype=float)\n",
    "arangursrikurLeitartimiTreeRadad = np.zeros((3,3),dtype=float)\n",
    "arangursrikurLeitartimiTreapSlembid = np.zeros((3,3),dtype=float)\n",
    "arangursrikurLeitartimiTreapRadad = np.zeros((3,3),dtype=float)\n",
    "arangursrikurLeitartimiSkipListSlembid = np.zeros((3,3),dtype=float)\n",
    "arangursrikurLeitartimiSkipListRadad = np.zeros((3,3),dtype=float)\n",
    "arangurslitillLeitartimiTreeSlembid = np.zeros((3,3),dtype=float)\n",
    "arangurslitillLeitartimiTreeRadad = np.zeros((3,3),dtype=float)\n",
    "arangurslitillLeitartimiTreapSlembid = np.zeros((3,3),dtype=float)\n",
    "arangurslitillLeitartimiTreapRadad = np.zeros((3,3),dtype=float)\n",
    "arangurslitillLeitartimiSkipListSlembid = np.zeros((3,3),dtype=float)\n",
    "arangurslitillLeitartimiSkipListRadad = np.zeros((3,3),dtype=float)\n",
    "\n",
    "\"\"\" Smíða gögn til að leita að \"\"\"\n",
    "ArangursrikirLyklar = SmidaLeitarLyklaLista(ms[2], ns, k, False)\n",
    "ArangurslitlirLyklar = SmidaLeitarLyklaLista(ms[2], ns, k, True)\n",
    "```"
   ]
  },
  {
   "cell_type": "markdown",
   "metadata": {},
   "source": [
    "### 3.2 Föll til notkunar við leit\n",
    "\n",
    "Notast er við eininguna (e. _module_) `timeit` sem notar `time.perf_counter()` (`perf` fyrir _performance_), sem skilar fleytitölu og er nákvæmasti kosturinn í stuttar mælingar samkvæmt [Python Docs](https://docs.python.org/3/library/time.html#time.perf_counter). Mælingin inniheldur tímann sem líður þegar þráðurinn sefur, en það sýnir góða mynd af notkun í raunveruleikanum. Þetta er svipað og að taka mismun á tveimur mælingum af tímanum sem hefur liðið síðan _epoch_, en `timeit.timeit()` á að vera nákvæmari sér í lagi á Windows stýrikerfum. Að auki þá er aðferðin gríðarlega þægileg í notkun.\n",
    "\n",
    "Mælingin á innsetningartímanum útskýrir sig svolítið sjálf og með hjálp fallslýsingarinnar.\n",
    "\n",
    "Mælingin á leitartímanum fer þannig fyrir sig að ítrað er yfir `i` frá $0$ til $k=3$ sem er fjöldi gagnagrinda sem á að leita í.\n",
    "- Hver slík gagnagrind `DSs[i]` getur til dæmis verið `Treap()` með $n_i$ lyklum sem voru settir inn í slembinni röð.\n",
    "- Fyrst eru framkvæmdar leitir að fyrstu $100.000$ stökunum í `Xs[i]`, og það gildi bætt við töluna í listasætinu `Timi[i][0]`, svo er leitað að næstu $100.000$ stökunum í `Xs[i]`, og það gildi lagt við fyrra tímagildi og bætt við töluna í listasætinu `Timi[i][1]`, og að lokum síðustu $200.000$ stökin og tíminn lagður við og bætt við tímann listasætinu `Timi[i][2]`. \n",
    "- Í módúlnum sem sér um að kalla á þetta falla er skilgreind breitan `f`$=50$, sem táknar fjölda tímamælinga. Tímanum verður því deilt með $50$ til að ákvarða meðal leitartíma á $50$ mælingum."
   ]
  },
  {
   "cell_type": "code",
   "execution_count": 8,
   "metadata": {},
   "outputs": [],
   "source": [
    "\"\"\" Tímamæla innsetningar    # Lýsing m.v. **k = 3**\n",
    "DSs: Listi með 3 gagnagrindum af sömu gerð\n",
    "Xs: Listi með 3 listum (af lengdum ns) með sömu gerð af röðun gagna\n",
    "Timi: Listi með 3 stökum sem halda utan um tíma sem hafa farið í sérhverja aðgerð hingað til\n",
    "\"\"\"\n",
    "def MaelaInnsetningartima(DSs, Xs, k, Timi):\n",
    "    for i in range(k):\n",
    "        Timi[i] += timeit.timeit(\"for x in Xs[i]: DSs[i].insert(x)\", \n",
    "            globals=locals(), number=1)\n",
    "\n",
    "\"\"\" Tímamæla leit\n",
    "Fyrir:  k er fjöldi gagnagrinda (sem á að leita í)\n",
    "        DSs er k-staka listi af gagnagrindum\n",
    "        Xs er k-staka listi af listum af lyklum\n",
    "        ms er 3ja staka talnalisti (fjöldi leitanna)\n",
    "Eftir:  Timi er listi af listum\n",
    "        Timi[i] inniheldur tímann fyrir ms[0], ms[1] og ms[2] leitanir í DSs[i]\n",
    "\"\"\"\n",
    "def MaelaLeitartima(DSs, Xs, ms, k, Timi):\n",
    "    for i in range(k): # fyrir sérhverja stærð af gagnagrind n0, n1 og n2\n",
    "        t = timeit.timeit(\"for j in range(ms[0]): DSs[i].contains(Xs[i][j])\",\n",
    "                   globals=locals(), number=1)\n",
    "        Timi[i][0] += t # fyrstu 100.000 leitanir\n",
    "        t += timeit.timeit(\"for j in range(ms[0],ms[1]): DSs[i].contains(Xs[i][j])\",\n",
    "                    globals=locals(), number=1)\n",
    "        Timi[i][1] += t # fyrstu 200.000 leitanir\n",
    "        t += timeit.timeit(\"for j in range(ms[1],ms[2]): DSs[i].contains(Xs[i][j])\",\n",
    "                    globals=locals(), number=1)\n",
    "        Timi[i][2] += t # fyrstu 400.000 leitanir"
   ]
  },
  {
   "cell_type": "markdown",
   "metadata": {},
   "source": [
    "<hr>\n",
    "### 3.3 Framkvæma tímamælingar\n",
    "\n",
    "Eftirfarandi eining er endurtekin `f`$=50$ sinnum. Tími hverrar mælingar er alltaf lagður við tímann sem hefur farið í þá mælingu, og að lokum er þeim öllum deilt með $50$. Ástæðan fyrir valinu á `f` voru frávik í mælingum þegar þetta var einungis endurtekið einu sinni eða þrisvar. Stundum getur maður verið einstaklega óheppin með þessar $n/10$ handahófskenndu víxlanir í `RadadirLyklar` sem eru s.s. í ~_hækkandi_ röð, og það bitnar þá mest á tvíleitartréunum og aðeins á skopplistunum. Til að fá hugmynd um hversu vel hver gagnagrind stendur sig að jafnaði í raunveruleikanum þá er mikilvægt að framkvæma margar mælingar og taka meðaltal þeirra.\n",
    "\n",
    "```Python\n",
    "\"\"\" Mælingar geta hafist \"\"\"\n",
    "for i in range(f):\n",
    "    \"\"\" Smíða gögn til innsetningar \"\"\"\n",
    "    SlembnirLyklar = []\n",
    "    RadadirLyklar = []\n",
    "    SmidaInnsetningarLyklaLista(SlembnirLyklar, RadadirLyklar, ns)\n",
    "    \n",
    "    \"\"\"\"\"\"\"\"\"\"\"\"\"\"\" Mælingar á innsetningartíma \"\"\"\"\"\"\"\"\"\"\"\"\"\"\"\n",
    "    \"\"\" Setja gögn í gagnagrindur \"\"\"\n",
    "    TreeS = [Tree(SlembnirLyklar[0][0]), Tree(SlembnirLyklar[1][0]), Tree(SlembnirLyklar[2][0])]\n",
    "    TreeR = [Tree(RadadirLyklar[0][0]), Tree(RadadirLyklar[1][0]), Tree(RadadirLyklar[2][0])]\n",
    "    MaelaInnsetningartima(TreeS,SlembnirLyklar,k,innsetningartimiTreeSlembid)\n",
    "    MaelaInnsetningartima(TreeR,RadadirLyklar,k,innsetningartimiTreeRadad)\n",
    "    \n",
    "    TreapS = [Treap(),Treap(),Treap()]\n",
    "    TreapR = [Treap(),Treap(),Treap()]\n",
    "    MaelaInnsetningartima(TreapS,SlembnirLyklar,k,innsetningartimiTreapSlembid)\n",
    "    MaelaInnsetningartima(TreapR,RadadirLyklar,k,innsetningartimiTreapRadad)\n",
    "    \n",
    "    SkipListS = [SkipList(), SkipList(), SkipList()]\n",
    "    SkipListR = [SkipList(), SkipList(), SkipList()]\n",
    "    MaelaInnsetningartima(SkipListS,SlembnirLyklar,k,innsetningartimiSkipListSlembid)\n",
    "    MaelaInnsetningartima(SkipListR,RadadirLyklar,k,innsetningartimiSkipListRadad)\n",
    "    \n",
    "    \"\"\"\"\"\"\"\"\"\"\"\"\"\"\" Mælingar á leitartíma \"\"\"\"\"\"\"\"\"\"\"\"\"\"\"\n",
    "    \"\"\" Leitad ad lyklum sem eru i gagnagrindunum \"\"\"\n",
    "    MaelaLeitartima(TreeS, ArangursrikirLyklar, ms, k, arangursrikurLeitartimiTreeSlembid)\n",
    "    MaelaLeitartima(TreeR, ArangursrikirLyklar, ms, k, arangursrikurLeitartimiTreeRadad)\n",
    "    \n",
    "    MaelaLeitartima(TreapS, ArangursrikirLyklar, ms, k, arangursrikurLeitartimiTreapSlembid)\n",
    "    MaelaLeitartima(TreapR, ArangursrikirLyklar, ms, k, arangursrikurLeitartimiTreapRadad)\n",
    "    \n",
    "    MaelaLeitartima(SkipListS, ArangursrikirLyklar, ms, k, arangursrikurLeitartimiSkipListSlembid)\n",
    "    MaelaLeitartima(SkipListR, ArangursrikirLyklar, ms, k, arangursrikurLeitartimiSkipListRadad)\n",
    "\n",
    "    \"\"\" Leitad ad lyklum þar sem helmingur er i gagnagrindunum \"\"\"\n",
    "    MaelaLeitartima(TreeS, ArangurslitlirLyklar, ms, k, arangurslitillLeitartimiTreeSlembid)\n",
    "    MaelaLeitartima(TreeR, ArangurslitlirLyklar, ms, k, arangurslitillLeitartimiTreeRadad)\n",
    "    \n",
    "    MaelaLeitartima(TreapS, ArangurslitlirLyklar, ms, k, arangurslitillLeitartimiTreapSlembid)\n",
    "    MaelaLeitartima(TreapR, ArangurslitlirLyklar, ms, k, arangurslitillLeitartimiTreapRadad)\n",
    "    \n",
    "    MaelaLeitartima(SkipListS, ArangurslitlirLyklar, ms, k, arangurslitillLeitartimiSkipListSlembid)\n",
    "    MaelaLeitartima(SkipListR, ArangurslitlirLyklar, ms, k, arangurslitillLeitartimiSkipListRadad)\n",
    "\n",
    "\n",
    "\"\"\" Deila tímamælingum með fjölda tímamælinga \"\"\"\n",
    "innsetningartimiTreeSlembid *= (1/f)\n",
    "innsetningartimiTreeRadad *= (1/f)\n",
    "innsetningartimiTreapSlembid *= (1/f)\n",
    "innsetningartimiTreapRadad *= (1/f)\n",
    "innsetningartimiSkipListSlembid *= (1/f)\n",
    "innsetningartimiSkipListRadad *= (1/f)\n",
    "\n",
    "arangursrikurLeitartimiTreeSlembid *= (1/f)\n",
    "arangursrikurLeitartimiTreeRadad *= (1/f)\n",
    "arangursrikurLeitartimiTreapSlembid *= (1/f)\n",
    "arangursrikurLeitartimiTreapRadad *= (1/f)\n",
    "arangursrikurLeitartimiSkipListSlembid *= (1/f)\n",
    "arangursrikurLeitartimiSkipListRadad *= (1/f)\n",
    "arangurslitillLeitartimiTreeSlembid *= (1/f)\n",
    "arangurslitillLeitartimiTreeRadad *= (1/f)\n",
    "arangurslitillLeitartimiTreapSlembid *= (1/f)\n",
    "arangurslitillLeitartimiTreapRadad *= (1/f)\n",
    "arangurslitillLeitartimiSkipListSlembid *= (1/f)\n",
    "arangurslitillLeitartimiSkipListRadad *= (1/f)\n",
    "```\n",
    "\n",
    "Það er gott að setja tímamælingarnar í lista sem er auðvelt að vísa í, sérstaklega nú þegar gögnin eru tilbúin. Gerum það.\n",
    "\n",
    "```Python\n",
    "IT = [innsetningartimiTreeSlembid\n",
    ", innsetningartimiTreeRadad\n",
    ", innsetningartimiTreapSlembid\n",
    ", innsetningartimiTreapRadad\n",
    ", innsetningartimiSkipListSlembid\n",
    ", innsetningartimiSkipListRadad]\n",
    "\n",
    "LT = [arangursrikurLeitartimiTreeSlembid\n",
    ", arangursrikurLeitartimiTreeRadad\n",
    ", arangursrikurLeitartimiTreapSlembid\n",
    ", arangursrikurLeitartimiTreapRadad\n",
    ", arangursrikurLeitartimiSkipListSlembid\n",
    ", arangursrikurLeitartimiSkipListRadad\n",
    ", arangurslitillLeitartimiTreeSlembid\n",
    ", arangurslitillLeitartimiTreeRadad\n",
    ", arangurslitillLeitartimiTreapSlembid\n",
    ", arangurslitillLeitartimiTreapRadad\n",
    ", arangurslitillLeitartimiSkipListSlembid\n",
    ", arangurslitillLeitartimiSkipListRadad]\n",
    "```"
   ]
  },
  {
   "cell_type": "markdown",
   "metadata": {},
   "source": [
    "Forritið var hins vegar keyrt (með `f`$=50$) í Spyder og gögnin flutt út með einingunni `pickle`, og flutt inn í Jupyter með eftirfarandi kóðabút, sem er ekki hluti af forritinu."
   ]
  },
  {
   "cell_type": "code",
   "execution_count": 11,
   "metadata": {},
   "outputs": [],
   "source": [
    "import pickle \n",
    "with open('50f.pickle', 'rb') as f:\n",
    "    IT, LT, LinuheitiInnsetning, LinuheitiLeit, ns, ms, k = pickle.load(f)\n",
    "    \n",
    "# Notað í línurit\n",
    "LTarangursrikurS = [LT[0],LT[2],LT[4]]\n",
    "LTarangursrikurR = [LT[1],LT[3],LT[5]]\n",
    "LTarangurslitillS = [LT[6],LT[8],LT[10]]\n",
    "LTarangurslitillR = [LT[7],LT[9],LT[11]]"
   ]
  },
  {
   "cell_type": "markdown",
   "metadata": {},
   "source": [
    "<hr>\n",
    "## 4. Birting mælinga í töflum\n",
    "##### Föll til að breyta listum í töflur og birta þær má finna í undirkafla 7.1\n",
    "\n",
    "Með þeim aðferðum eru smíðaðar eftirfarandi töflur. Þær eru svo birtar og túlkaðar í kafla 4."
   ]
  },
  {
   "cell_type": "code",
   "execution_count": 17,
   "metadata": {},
   "outputs": [],
   "source": [
    "\"\"\"\"\"\"\"\"\" Búa til töflur \"\"\"\"\"\"\"\"\"\n",
    "TaflaInnsetningartimiSlembid = TaflaLinuheiti(LinuheitiInnsetning,[ns,IT[0],IT[2],IT[4]])\n",
    "TaflaInnsetningartimiRadad = TaflaLinuheiti(LinuheitiInnsetning,[ns,IT[1],IT[3],IT[5]])\n",
    "TaflaArangursrikurLeitartimiSlembid = LeitartimaToflur(LinuheitiLeit, [LT[0], LT[2], LT[4]],ms)\n",
    "TaflaArangursrikurLeitartimiRadad = LeitartimaToflur(LinuheitiLeit, [LT[1], LT[3], LT[5]],ms)\n",
    "TaflaArangurslitillLeitartimiSlembid = LeitartimaToflur(LinuheitiLeit, [LT[6], LT[8], LT[10]],ms)\n",
    "TaflaArangurslitillLeitartimiRadad = LeitartimaToflur(LinuheitiLeit, [LT[7], LT[9], LT[11]],ms)"
   ]
  },
  {
   "cell_type": "markdown",
   "metadata": {},
   "source": [
    "<hr>\n",
    "### 4.1 Birting á töflum\n",
    "#### 4.1.1 Innsetningartími"
   ]
  },
  {
   "cell_type": "code",
   "execution_count": 18,
   "metadata": {},
   "outputs": [
    {
     "data": {
      "text/html": [
       "<h5>Tafla 1: Lyklar settir inn í slembiröð</h5>"
      ],
      "text/plain": [
       "<IPython.core.display.HTML object>"
      ]
     },
     "metadata": {},
     "output_type": "display_data"
    },
    {
     "data": {
      "text/html": [
       "<table>\n",
       "<thead>\n",
       "<tr><th>Fjöldi innsetninga  </th><th style=\"text-align: right;\">       500</th><th style=\"text-align: right;\">      2500</th><th style=\"text-align: right;\">     5000</th></tr>\n",
       "</thead>\n",
       "<tbody>\n",
       "<tr><td>Tvíleitartré        </td><td style=\"text-align: right;\">0.0012446 </td><td style=\"text-align: right;\">0.00805619</td><td style=\"text-align: right;\">0.0176823</td></tr>\n",
       "<tr><td>Hrúgutré            </td><td style=\"text-align: right;\">0.00199833</td><td style=\"text-align: right;\">0.0119704 </td><td style=\"text-align: right;\">0.0259311</td></tr>\n",
       "<tr><td>Skopplisti          </td><td style=\"text-align: right;\">0.00377574</td><td style=\"text-align: right;\">0.0200113 </td><td style=\"text-align: right;\">0.041654 </td></tr>\n",
       "</tbody>\n",
       "</table>"
      ],
      "text/plain": [
       "<IPython.core.display.HTML object>"
      ]
     },
     "metadata": {},
     "output_type": "display_data"
    },
    {
     "data": {
      "text/html": [
       "<h5>Lyklar settir inn í <i>~hækkandi</i> röð</h5>"
      ],
      "text/plain": [
       "<IPython.core.display.HTML object>"
      ]
     },
     "metadata": {},
     "output_type": "display_data"
    },
    {
     "data": {
      "text/html": [
       "<table>\n",
       "<thead>\n",
       "<tr><th>Fjöldi innsetninga  </th><th style=\"text-align: right;\">       500</th><th style=\"text-align: right;\">     2500</th><th style=\"text-align: right;\">     5000</th></tr>\n",
       "</thead>\n",
       "<tbody>\n",
       "<tr><td>Tvíleitartré        </td><td style=\"text-align: right;\">0.00338873</td><td style=\"text-align: right;\">0.0229061</td><td style=\"text-align: right;\">0.051469 </td></tr>\n",
       "<tr><td>Hrúgutré            </td><td style=\"text-align: right;\">0.00190274</td><td style=\"text-align: right;\">0.0115455</td><td style=\"text-align: right;\">0.0244053</td></tr>\n",
       "<tr><td>Skopplisti          </td><td style=\"text-align: right;\">0.00423993</td><td style=\"text-align: right;\">0.0228196</td><td style=\"text-align: right;\">0.0480201</td></tr>\n",
       "</tbody>\n",
       "</table>"
      ],
      "text/plain": [
       "<IPython.core.display.HTML object>"
      ]
     },
     "metadata": {},
     "output_type": "display_data"
    }
   ],
   "source": [
    "BirtaTofluHTML(TaflaInnsetningartimiSlembid, \"Tafla 1: Lyklar settir inn í slembiröð\")\n",
    "BirtaTofluHTML(TaflaInnsetningartimiRadad, \"Lyklar settir inn í <i>~hækkandi</i> röð\")"
   ]
  },
  {
   "cell_type": "markdown",
   "metadata": {},
   "source": [
    "Það tekur rétt rúmlega tvöfalt lengri tíma að setja inn 5000 gildi en 2500 gildi í öllum tilfellum. Einnig tekur rúmlega fimmfalt lengri tíma að setja inn 2500 en 500 gildi. Þetta er eins og búast mátti við, því innsetning tekur lengri tíma eftir því sem gagnagrindirnar stækka, alltaf í hlutfalli við stærð gagnagrindanna. Það sem stendur mest út úr er að innsetning í tvíleitartré tekur u.þ.b. tvöfalt lengri tíma ef lyklarnir eru raðaðir í ~_hækkandi_ röð við innsetningu. Þessar raðanir hafa lítil áhrif á skopplistann og hrúgutréið, en hið síðarnefnda virðist jafnvel græða (pínu pínu lítið) á að lyklarnir séu **ekki** í slembinni röð!\n",
    "\n",
    "Innsetning slembiraðaðra lykla í hrúgutréin er tekur um $33-40\\%$ meiri tíma en í venjulegu tvíleitartréin. Það sem veldur þessu er að það þarf að setja gildin inn sem lauf, og framkvæma snúninga í hrúgutrénu til að viðhalda hrúguskilyrðunum. Þetta gerir það að verkum að tvíleitartréið hefur lægsta innsetningartímann á lyklum í slembinni röð, sem er einmitt ummerki um að slembiröðun lyklanna fyrir innsetningu (sem tekur $O(n)$ tíma með [Fisher-Yates](https://en.wikipedia.org/wiki/Fisher%E2%80%93Yates_shuffle)) sé nóg til að gera tvíleitartréið að góðum kosti fyrir gagnagrind sem á ekki að breyta. Sér í lagi ef það heldur þessum hraða við leit, sem kemur í ljós von bráðar. \n",
    "\n",
    "Skopplistinn er hér slakastur, en hann hefur ennþá tækifæri til að sanna sig. Innsetning á litlum gildum í skopplistanum ætti hins vegar að taka skemmri tíma en innsetning á stórum gildum (því hann er raðaður í hækkandi röð), svo það hefði verið áhugavert að skoða líka innsetningartíma lykla í ~_lækkandi_ röð. Það er auðvelt verkefni að smíða forrit sem prófar það út frá þessu verkefni: Í raun þarf bara að láta fallið `RandomVixlanir` beita viðsnúningsfalli á listann."
   ]
  },
  {
   "cell_type": "markdown",
   "metadata": {},
   "source": [
    "<hr>\n",
    "#### 4.1.2 Leitartími \n",
    "#### Einungis leitað að lyklum sem eru í gagnagrindunum"
   ]
  },
  {
   "cell_type": "code",
   "execution_count": 29,
   "metadata": {},
   "outputs": [
    {
     "data": {
      "text/html": [
       "<h5>Tafla 2: Gagnagrindur með <i>n</i> lyklum sem voru settir inn í slembinni röð</h5>"
      ],
      "text/plain": [
       "<IPython.core.display.HTML object>"
      ]
     },
     "metadata": {},
     "output_type": "display_data"
    },
    {
     "data": {
      "text/html": [
       "<h5>n=500</h5>"
      ],
      "text/plain": [
       "<IPython.core.display.HTML object>"
      ]
     },
     "metadata": {},
     "output_type": "display_data"
    },
    {
     "data": {
      "text/html": [
       "<table>\n",
       "<thead>\n",
       "<tr><th>Fjöldi leita  </th><th style=\"text-align: right;\">  100000</th><th style=\"text-align: right;\">  200000</th><th style=\"text-align: right;\">  400000</th></tr>\n",
       "</thead>\n",
       "<tbody>\n",
       "<tr><td>Tvíleitartré  </td><td style=\"text-align: right;\">0.206306</td><td style=\"text-align: right;\">0.412309</td><td style=\"text-align: right;\">0.827776</td></tr>\n",
       "<tr><td>Hrúgutré      </td><td style=\"text-align: right;\">0.23311 </td><td style=\"text-align: right;\">0.465792</td><td style=\"text-align: right;\">0.9359  </td></tr>\n",
       "<tr><td>Skopplisti    </td><td style=\"text-align: right;\">0.595609</td><td style=\"text-align: right;\">1.19045 </td><td style=\"text-align: right;\">2.38019 </td></tr>\n",
       "</tbody>\n",
       "</table>"
      ],
      "text/plain": [
       "<IPython.core.display.HTML object>"
      ]
     },
     "metadata": {},
     "output_type": "display_data"
    },
    {
     "data": {
      "text/html": [
       "<h5>n=2500</h5>"
      ],
      "text/plain": [
       "<IPython.core.display.HTML object>"
      ]
     },
     "metadata": {},
     "output_type": "display_data"
    },
    {
     "data": {
      "text/html": [
       "<table>\n",
       "<thead>\n",
       "<tr><th>Fjöldi leita  </th><th style=\"text-align: right;\">  100000</th><th style=\"text-align: right;\">  200000</th><th style=\"text-align: right;\">  400000</th></tr>\n",
       "</thead>\n",
       "<tbody>\n",
       "<tr><td>Tvíleitartré  </td><td style=\"text-align: right;\">0.274757</td><td style=\"text-align: right;\">0.548968</td><td style=\"text-align: right;\"> 1.09607</td></tr>\n",
       "<tr><td>Hrúgutré      </td><td style=\"text-align: right;\">0.316126</td><td style=\"text-align: right;\">0.632202</td><td style=\"text-align: right;\"> 1.26123</td></tr>\n",
       "<tr><td>Skopplisti    </td><td style=\"text-align: right;\">0.66026 </td><td style=\"text-align: right;\">1.32305 </td><td style=\"text-align: right;\"> 2.6428 </td></tr>\n",
       "</tbody>\n",
       "</table>"
      ],
      "text/plain": [
       "<IPython.core.display.HTML object>"
      ]
     },
     "metadata": {},
     "output_type": "display_data"
    },
    {
     "data": {
      "text/html": [
       "<h5>n=5000</h5>"
      ],
      "text/plain": [
       "<IPython.core.display.HTML object>"
      ]
     },
     "metadata": {},
     "output_type": "display_data"
    },
    {
     "data": {
      "text/html": [
       "<table>\n",
       "<thead>\n",
       "<tr><th>Fjöldi leita  </th><th style=\"text-align: right;\">  100000</th><th style=\"text-align: right;\">  200000</th><th style=\"text-align: right;\">  400000</th></tr>\n",
       "</thead>\n",
       "<tbody>\n",
       "<tr><td>Tvíleitartré  </td><td style=\"text-align: right;\">0.305942</td><td style=\"text-align: right;\">0.611225</td><td style=\"text-align: right;\"> 1.21871</td></tr>\n",
       "<tr><td>Hrúgutré      </td><td style=\"text-align: right;\">0.342439</td><td style=\"text-align: right;\">0.684055</td><td style=\"text-align: right;\"> 1.37671</td></tr>\n",
       "<tr><td>Skopplisti    </td><td style=\"text-align: right;\">0.702961</td><td style=\"text-align: right;\">1.40731 </td><td style=\"text-align: right;\"> 2.81013</td></tr>\n",
       "</tbody>\n",
       "</table>"
      ],
      "text/plain": [
       "<IPython.core.display.HTML object>"
      ]
     },
     "metadata": {},
     "output_type": "display_data"
    }
   ],
   "source": [
    "display(HTML(\"<h5>\" + \"Tafla 2: Gagnagrindur með <i>n</i> lyklum sem voru settir inn í slembinni röð\" + \"</h5>\"))\n",
    "BirtaToflurHTML(TaflaArangursrikurLeitartimiSlembid, ns, \"n=%d\")"
   ]
  },
  {
   "cell_type": "markdown",
   "metadata": {},
   "source": [
    "Hér sést að leit í tvíleitartré tekur minnstan tíma ef lyklarnir eru settir inn í slembinni röð. Þetta kemur lítið á óvart. Það er einmitt styrkleiki tvíleitartrésins: að aðgerðir eru fljótlegar vegna lítils innviðis. Sér í lagi er minna innviði í tvíleitartrénu en í hrúgutrénu, og hér sjáum við nefnilega áhrif þessarar einu auka aðgerðar í hverri leit í hrúgutrénu: að það þarf að gá hvort tréið sé tómt, og hefja leit frá rótinni. Sú eina aðgerð ætti þó ekki að duga til að valda þessum $10-20\\%$ mun. Það er möguleiki að Fisher-Yates stokkunin á inntaksgildunum dugi til að setja tvíleitartréið í ennþá betra jafnvægi en slembitölugjafinn og hrúguskilyrðin í hrúgutrénu gera fyrir hrúgutréið. Það væri áhugavert að skoða leitartíma í minni tréum, þar sem þessi eina auka aðgerð verður stærra hlutfall af heildarfjölda aðgerða í hverri leit.\n",
    "\n",
    "Hér má þá draga þá ályktun að svo framarlega sem það er vitað að gögnin verði í slembinni röð þegar þau verða sett inn, og að einungis verði leitað að lyklum sem eru í lyklasafninu, þá hentar venjulegt tvíleitartré best þessara þriggja.\n",
    "\n",
    "Hingað til þá virðist útfærsla höfunds af skopplista vera vonlaus í samanburði við hinar."
   ]
  },
  {
   "cell_type": "code",
   "execution_count": 30,
   "metadata": {},
   "outputs": [
    {
     "data": {
      "text/html": [
       "<h5>Tafla 3: Gagnagrindur með <i>n</i> lyklum sem voru settir inn í ~hækkandi röð</h5>"
      ],
      "text/plain": [
       "<IPython.core.display.HTML object>"
      ]
     },
     "metadata": {},
     "output_type": "display_data"
    },
    {
     "data": {
      "text/html": [
       "<h5>n=500</h5>"
      ],
      "text/plain": [
       "<IPython.core.display.HTML object>"
      ]
     },
     "metadata": {},
     "output_type": "display_data"
    },
    {
     "data": {
      "text/html": [
       "<table>\n",
       "<thead>\n",
       "<tr><th>Fjöldi leita  </th><th style=\"text-align: right;\">  100000</th><th style=\"text-align: right;\">  200000</th><th style=\"text-align: right;\">  400000</th></tr>\n",
       "</thead>\n",
       "<tbody>\n",
       "<tr><td>Tvíleitartré  </td><td style=\"text-align: right;\">0.59498 </td><td style=\"text-align: right;\">1.19147 </td><td style=\"text-align: right;\">2.38808 </td></tr>\n",
       "<tr><td>Hrúgutré      </td><td style=\"text-align: right;\">0.232397</td><td style=\"text-align: right;\">0.464073</td><td style=\"text-align: right;\">0.928361</td></tr>\n",
       "<tr><td>Skopplisti    </td><td style=\"text-align: right;\">0.604776</td><td style=\"text-align: right;\">1.20815 </td><td style=\"text-align: right;\">2.41456 </td></tr>\n",
       "</tbody>\n",
       "</table>"
      ],
      "text/plain": [
       "<IPython.core.display.HTML object>"
      ]
     },
     "metadata": {},
     "output_type": "display_data"
    },
    {
     "data": {
      "text/html": [
       "<h5>n=2500</h5>"
      ],
      "text/plain": [
       "<IPython.core.display.HTML object>"
      ]
     },
     "metadata": {},
     "output_type": "display_data"
    },
    {
     "data": {
      "text/html": [
       "<table>\n",
       "<thead>\n",
       "<tr><th>Fjöldi leita  </th><th style=\"text-align: right;\">  100000</th><th style=\"text-align: right;\">  200000</th><th style=\"text-align: right;\">  400000</th></tr>\n",
       "</thead>\n",
       "<tbody>\n",
       "<tr><td>Tvíleitartré  </td><td style=\"text-align: right;\">0.815328</td><td style=\"text-align: right;\">1.63337 </td><td style=\"text-align: right;\"> 3.26864</td></tr>\n",
       "<tr><td>Hrúgutré      </td><td style=\"text-align: right;\">0.305966</td><td style=\"text-align: right;\">0.611241</td><td style=\"text-align: right;\"> 1.22195</td></tr>\n",
       "<tr><td>Skopplisti    </td><td style=\"text-align: right;\">0.673395</td><td style=\"text-align: right;\">1.34918 </td><td style=\"text-align: right;\"> 2.6988 </td></tr>\n",
       "</tbody>\n",
       "</table>"
      ],
      "text/plain": [
       "<IPython.core.display.HTML object>"
      ]
     },
     "metadata": {},
     "output_type": "display_data"
    },
    {
     "data": {
      "text/html": [
       "<h5>n=5000</h5>"
      ],
      "text/plain": [
       "<IPython.core.display.HTML object>"
      ]
     },
     "metadata": {},
     "output_type": "display_data"
    },
    {
     "data": {
      "text/html": [
       "<table>\n",
       "<thead>\n",
       "<tr><th>Fjöldi leita  </th><th style=\"text-align: right;\">  100000</th><th style=\"text-align: right;\">  200000</th><th style=\"text-align: right;\">  400000</th></tr>\n",
       "</thead>\n",
       "<tbody>\n",
       "<tr><td>Tvíleitartré  </td><td style=\"text-align: right;\">0.911207</td><td style=\"text-align: right;\">1.82544 </td><td style=\"text-align: right;\"> 3.65138</td></tr>\n",
       "<tr><td>Hrúgutré      </td><td style=\"text-align: right;\">0.336693</td><td style=\"text-align: right;\">0.672402</td><td style=\"text-align: right;\"> 1.34618</td></tr>\n",
       "<tr><td>Skopplisti    </td><td style=\"text-align: right;\">0.721086</td><td style=\"text-align: right;\">1.44344 </td><td style=\"text-align: right;\"> 2.88886</td></tr>\n",
       "</tbody>\n",
       "</table>"
      ],
      "text/plain": [
       "<IPython.core.display.HTML object>"
      ]
     },
     "metadata": {},
     "output_type": "display_data"
    }
   ],
   "source": [
    "display(HTML(\"<h5>\" + \"Tafla 3: Gagnagrindur með <i>n</i> lyklum sem voru settir inn í ~hækkandi röð\" + \"</h5>\"))\n",
    "BirtaToflurHTML(TaflaArangursrikurLeitartimiRadad, ns, \"n=%d\")"
   ]
  },
  {
   "cell_type": "markdown",
   "metadata": {},
   "source": [
    "Tvíleitartré eru hins vegar vonlaus þegar lyklar hafa verið settir inn í ~_hækkandi_ röð, og það sannar sig á þessum mælingum. Það er meira að segja sneggra að fletta upp í skopplistum en í tvíleitartréum undir þessum kringumstæðum, að minnstu útgáfunum undanskildum. Það er eins og vænta má, því þessi tvíleitartré eru í raun í laginu eins og næstum því raðaðir beintengdir listar, með nokkrum frávikum. Skopplistinn er svo einmitt raðaður beintengdur listi, með nokkrum flýtileiðum. Hér eru því loks að koma fram kostir skopplistans fram yfir tvíleitartréið, þar sem uppflettitími í skopplistanum er lægri en hjá tvíleitartréinu fyrir $n=2500$ og $n=5000$ staka gagnagrindur."
   ]
  },
  {
   "cell_type": "markdown",
   "metadata": {},
   "source": [
    "#### Helmingur leita er að lyklum sem eru ekki í gagnagrindunum"
   ]
  },
  {
   "cell_type": "code",
   "execution_count": 31,
   "metadata": {},
   "outputs": [
    {
     "data": {
      "text/html": [
       "<h5>Tafla 4: Gagnagrindur með <i>n</i> lyklum sem voru settir inn í slembinni röð.</h5>"
      ],
      "text/plain": [
       "<IPython.core.display.HTML object>"
      ]
     },
     "metadata": {},
     "output_type": "display_data"
    },
    {
     "data": {
      "text/html": [
       "<h5>n=500</h5>"
      ],
      "text/plain": [
       "<IPython.core.display.HTML object>"
      ]
     },
     "metadata": {},
     "output_type": "display_data"
    },
    {
     "data": {
      "text/html": [
       "<table>\n",
       "<thead>\n",
       "<tr><th>Fjöldi leita  </th><th style=\"text-align: right;\">  100000</th><th style=\"text-align: right;\">  200000</th><th style=\"text-align: right;\">  400000</th></tr>\n",
       "</thead>\n",
       "<tbody>\n",
       "<tr><td>Tvíleitartré  </td><td style=\"text-align: right;\">0.216135</td><td style=\"text-align: right;\">0.431537</td><td style=\"text-align: right;\">0.862903</td></tr>\n",
       "<tr><td>Hrúgutré      </td><td style=\"text-align: right;\">0.243389</td><td style=\"text-align: right;\">0.486371</td><td style=\"text-align: right;\">0.974535</td></tr>\n",
       "<tr><td>Skopplisti    </td><td style=\"text-align: right;\">0.606416</td><td style=\"text-align: right;\">1.21481 </td><td style=\"text-align: right;\">2.42702 </td></tr>\n",
       "</tbody>\n",
       "</table>"
      ],
      "text/plain": [
       "<IPython.core.display.HTML object>"
      ]
     },
     "metadata": {},
     "output_type": "display_data"
    },
    {
     "data": {
      "text/html": [
       "<h5>n=2500</h5>"
      ],
      "text/plain": [
       "<IPython.core.display.HTML object>"
      ]
     },
     "metadata": {},
     "output_type": "display_data"
    },
    {
     "data": {
      "text/html": [
       "<table>\n",
       "<thead>\n",
       "<tr><th>Fjöldi leita  </th><th style=\"text-align: right;\">  100000</th><th style=\"text-align: right;\">  200000</th><th style=\"text-align: right;\">  400000</th></tr>\n",
       "</thead>\n",
       "<tbody>\n",
       "<tr><td>Tvíleitartré  </td><td style=\"text-align: right;\">0.28415 </td><td style=\"text-align: right;\">0.56707 </td><td style=\"text-align: right;\"> 1.13385</td></tr>\n",
       "<tr><td>Hrúgutré      </td><td style=\"text-align: right;\">0.326143</td><td style=\"text-align: right;\">0.651654</td><td style=\"text-align: right;\"> 1.30164</td></tr>\n",
       "<tr><td>Skopplisti    </td><td style=\"text-align: right;\">0.670044</td><td style=\"text-align: right;\">1.34156 </td><td style=\"text-align: right;\"> 2.68228</td></tr>\n",
       "</tbody>\n",
       "</table>"
      ],
      "text/plain": [
       "<IPython.core.display.HTML object>"
      ]
     },
     "metadata": {},
     "output_type": "display_data"
    },
    {
     "data": {
      "text/html": [
       "<h5>n=5000</h5>"
      ],
      "text/plain": [
       "<IPython.core.display.HTML object>"
      ]
     },
     "metadata": {},
     "output_type": "display_data"
    },
    {
     "data": {
      "text/html": [
       "<table>\n",
       "<thead>\n",
       "<tr><th>Fjöldi leita  </th><th style=\"text-align: right;\">  100000</th><th style=\"text-align: right;\">  200000</th><th style=\"text-align: right;\">  400000</th></tr>\n",
       "</thead>\n",
       "<tbody>\n",
       "<tr><td>Tvíleitartré  </td><td style=\"text-align: right;\">0.313506</td><td style=\"text-align: right;\">0.627529</td><td style=\"text-align: right;\"> 1.25609</td></tr>\n",
       "<tr><td>Hrúgutré      </td><td style=\"text-align: right;\">0.355265</td><td style=\"text-align: right;\">0.7121  </td><td style=\"text-align: right;\"> 1.42793</td></tr>\n",
       "<tr><td>Skopplisti    </td><td style=\"text-align: right;\">0.716227</td><td style=\"text-align: right;\">1.43114 </td><td style=\"text-align: right;\"> 2.8603 </td></tr>\n",
       "</tbody>\n",
       "</table>"
      ],
      "text/plain": [
       "<IPython.core.display.HTML object>"
      ]
     },
     "metadata": {},
     "output_type": "display_data"
    }
   ],
   "source": [
    "display(HTML(\"<h5>\" + \"Tafla 4: Gagnagrindur með <i>n</i> lyklum sem voru settir inn í slembinni röð.\" + \"</h5>\"))\n",
    "BirtaToflurHTML(TaflaArangurslitillLeitartimiSlembid, ns, \"n=%d\")"
   ]
  },
  {
   "cell_type": "markdown",
   "metadata": {},
   "source": [
    "Leitartíminn er mjög svipaður hvort sem leitin bar árangur eða ekki. Þetta er sjálfsagt vegna þess að það tekur jafn langan tíma að athuga hvort t.d. lykillinn $800$ sé í gagnagrindinni, eins og $801$, hvort sem þeir eru þar eða ekki, ef gagnagrindin inniheldur oddatölur á bilinu $[1,801+]$. Hins vegar hefði skopplistinn fengið betra tækifæri til að láta ljós sitt skína ef leitað hefði verið að neikvæðum stökum (sem eru ekki í gagnagrindunum), því þar sem skopplistinn er raðaður í hækkandi röð, þá væri hann fljótur að útiloka slíkt.\n",
    "\n",
    "Tölurnar eru því skiljanlega nauðalíkar þeim í Töflu 1, almennt aðeins um $1-2\\%$ hærri."
   ]
  },
  {
   "cell_type": "code",
   "execution_count": 32,
   "metadata": {},
   "outputs": [
    {
     "data": {
      "text/html": [
       "<h5>Tafla 5: Gagnagrindur með <i>n</i> lyklum sem voru settir inn í ~hækkandi röð</h5>"
      ],
      "text/plain": [
       "<IPython.core.display.HTML object>"
      ]
     },
     "metadata": {},
     "output_type": "display_data"
    },
    {
     "data": {
      "text/html": [
       "<h5>n=500</h5>"
      ],
      "text/plain": [
       "<IPython.core.display.HTML object>"
      ]
     },
     "metadata": {},
     "output_type": "display_data"
    },
    {
     "data": {
      "text/html": [
       "<table>\n",
       "<thead>\n",
       "<tr><th>Fjöldi leita  </th><th style=\"text-align: right;\">  100000</th><th style=\"text-align: right;\">  200000</th><th style=\"text-align: right;\">  400000</th></tr>\n",
       "</thead>\n",
       "<tbody>\n",
       "<tr><td>Tvíleitartré  </td><td style=\"text-align: right;\">0.613018</td><td style=\"text-align: right;\">1.23213 </td><td style=\"text-align: right;\">2.44826 </td></tr>\n",
       "<tr><td>Hrúgutré      </td><td style=\"text-align: right;\">0.242445</td><td style=\"text-align: right;\">0.484673</td><td style=\"text-align: right;\">0.969702</td></tr>\n",
       "<tr><td>Skopplisti    </td><td style=\"text-align: right;\">0.616744</td><td style=\"text-align: right;\">1.23401 </td><td style=\"text-align: right;\">2.46913 </td></tr>\n",
       "</tbody>\n",
       "</table>"
      ],
      "text/plain": [
       "<IPython.core.display.HTML object>"
      ]
     },
     "metadata": {},
     "output_type": "display_data"
    },
    {
     "data": {
      "text/html": [
       "<h5>n=2500</h5>"
      ],
      "text/plain": [
       "<IPython.core.display.HTML object>"
      ]
     },
     "metadata": {},
     "output_type": "display_data"
    },
    {
     "data": {
      "text/html": [
       "<table>\n",
       "<thead>\n",
       "<tr><th>Fjöldi leita  </th><th style=\"text-align: right;\">  100000</th><th style=\"text-align: right;\">  200000</th><th style=\"text-align: right;\">  400000</th></tr>\n",
       "</thead>\n",
       "<tbody>\n",
       "<tr><td>Tvíleitartré  </td><td style=\"text-align: right;\">0.828604</td><td style=\"text-align: right;\">1.66114 </td><td style=\"text-align: right;\"> 3.32509</td></tr>\n",
       "<tr><td>Hrúgutré      </td><td style=\"text-align: right;\">0.315804</td><td style=\"text-align: right;\">0.632272</td><td style=\"text-align: right;\"> 1.26586</td></tr>\n",
       "<tr><td>Skopplisti    </td><td style=\"text-align: right;\">0.68461 </td><td style=\"text-align: right;\">1.37072 </td><td style=\"text-align: right;\"> 2.74502</td></tr>\n",
       "</tbody>\n",
       "</table>"
      ],
      "text/plain": [
       "<IPython.core.display.HTML object>"
      ]
     },
     "metadata": {},
     "output_type": "display_data"
    },
    {
     "data": {
      "text/html": [
       "<h5>n=5000</h5>"
      ],
      "text/plain": [
       "<IPython.core.display.HTML object>"
      ]
     },
     "metadata": {},
     "output_type": "display_data"
    },
    {
     "data": {
      "text/html": [
       "<table>\n",
       "<thead>\n",
       "<tr><th>Fjöldi leita  </th><th style=\"text-align: right;\">  100000</th><th style=\"text-align: right;\">  200000</th><th style=\"text-align: right;\">  400000</th></tr>\n",
       "</thead>\n",
       "<tbody>\n",
       "<tr><td>Tvíleitartré  </td><td style=\"text-align: right;\">0.929417</td><td style=\"text-align: right;\"> 1.85551</td><td style=\"text-align: right;\"> 3.70428</td></tr>\n",
       "<tr><td>Hrúgutré      </td><td style=\"text-align: right;\">0.347354</td><td style=\"text-align: right;\"> 0.69438</td><td style=\"text-align: right;\"> 1.3886 </td></tr>\n",
       "<tr><td>Skopplisti    </td><td style=\"text-align: right;\">0.736139</td><td style=\"text-align: right;\"> 1.46992</td><td style=\"text-align: right;\"> 2.94107</td></tr>\n",
       "</tbody>\n",
       "</table>"
      ],
      "text/plain": [
       "<IPython.core.display.HTML object>"
      ]
     },
     "metadata": {},
     "output_type": "display_data"
    }
   ],
   "source": [
    "display(HTML(\"<h5>\" + \"Tafla 5: Gagnagrindur með <i>n</i> lyklum sem voru settir inn í ~hækkandi röð\" + \"</h5>\"))\n",
    "BirtaToflurHTML(TaflaArangurslitillLeitartimiRadad, ns, \"n=%d\")"
   ]
  },
  {
   "cell_type": "markdown",
   "metadata": {},
   "source": [
    "Tvíleitartréið heldur áfram að standa sig illa við svona óákjósanlega röðun gilda við innsetningu. Skopplistinn er hér meira að segja orðinn vænlegri kostur fyrir litlar gagnagrindur. Hrúgutréið lætur ekkert á sig fá, og reynist vera gríðarlega áreiðanlegt, óháð röðun gilda við innsetningu eða árangurstíðni leita.\n",
    "\n",
    "Engu að síður er útkoman mjög lík þeirri í Töflu 3."
   ]
  },
  {
   "cell_type": "markdown",
   "metadata": {},
   "source": [
    "<hr>\n",
    "## 5. Línurit og frekari túlkun á niðurstöðum\n",
    "Myndræn framsetning er gagnleg til að túlka niðurstöður betur. Þar er oft auðveldara að sjá hvað er líkt og hvað er ólíkt í mælingunum.\n",
    "\n",
    "##### Aðferðir notaðar til að gera línurit má finna í undirkafla 7.2\n",
    "\n",
    "Það er lítið áhugavert við þær aðferðir, nema að það eru teiknaðir inn á þau tveir ferlar: einn línulegur og hinn logri, til samanburðar við niðurstöður úr mælingum. Á þeim hafa einnig verið _kommentaðar_ út prentskipanir sem geta nýst til að ganga úr skugga um að verið sé að teikna réttan feril."
   ]
  },
  {
   "cell_type": "markdown",
   "metadata": {},
   "source": [
    "### 5.1 Birting á línuritum\n",
    "#### 5.1.1 Innsetningartími"
   ]
  },
  {
   "cell_type": "code",
   "execution_count": 62,
   "metadata": {},
   "outputs": [
    {
     "data": {
      "image/png": "[encoded data removed]",
      "text/plain": [
       "<Figure size 432x288 with 1 Axes>"
      ]
     },
     "metadata": {
      "needs_background": "light"
     },
     "output_type": "display_data"
    }
   ],
   "source": [
    "GrafInnsetningartimi(LinuheitiInnsetning,[IT[0], IT[2], IT[4]],[IT[1], IT[3], IT[5]], k, ns)"
   ]
  },
  {
   "cell_type": "markdown",
   "metadata": {},
   "source": [
    "Efri svarti ferillinn er línulega fallið $f(x) = x/100.000$. Hér sést greinilega að innsetning ~_hækkandi_ gilda í tvíleitartré tekur u.þ.b. línulegan tíma, eins og vænta mátti, þar sem það er næstum því í laginu eins og raðaður beintengdur listi. Skopplistinn er næstum því jafn slæmur, en innsetningartíminn í skopplistann virðist vaxa eins og $x/130.000$, en stuðullinn lækkar hallatölu línunnar. Hinir innsetningatímarnir virðast einnig vaxa línulega, en með lægri stuðul. \n",
    "\n",
    "Neðri svarti ferillinn er lografallið $g(x) = ln(x)/800$, sem virðist vaxa talsvert hægar en hinir ferlarnir. Það eru smá vonbrigði, en mögulega mætti finna logra sem vex hraðar með annari grunntölu eða öðrum stuðli. Það er ýmislegt sem getur valdið því t.d. að innsetningartíminn er í tölvu sé ekki raunverulega af stærðargráðunni $O(log(n))$. T.d. úthlutaði tölvan einungis um 30% af örgjörvaaflinu til keyrslu forritsins, og jafnvel þau 30% deilast með öðrum þráðum sem ku vera í vinnslu. Hvernig sem viðrar þá eru þræðir sem eru í keyrslu stundum svæfðir í nokkrar millisekúndur (ms) því Windows eins og fleiri stýrikerfi nota [Round Robin CPU Scheduling](https://en.wikipedia.org/wiki/Round-robin_scheduling), þar sem þræði er úthlutað svokallaða _time slice/quantum_ sem er gjarnan 40-100ms í senn. Það þýðir að margar þessar aðgerðir voru framkvæmdar á 5 til 120 tímaskömmtum. Eins og áður var nefnt þá eru það fjöldi aðgerða við innsetningu sem er í hlutfalli við $lg(n)$, en tíminn í tölvu getur verið aðeins öðruvísi. Áhugavert væri að prófa aðrar tímamælinga aðferðir sem telja ekki með svefntíma þráða með, þó flestar heimildir hafi mælt með `timeit`.\n",
    "\n",
    "Enn fremur þá eru útfærslur gagnagrindanna eru ekki óaðfinnanlegar. Sérstaklega ekki skopplistinn. \n",
    "\n",
    "Aðal málið er þó væntanlega að hér er ekki verið að bera saman innsetningartíma í gagnagrind sem inniheldur t.d. 5000 stök við aðra sem inniheldur 2500, heldur er verið að bera saman tímann sem það tekur að setja helmingi fleiri stök í gagnagrind. Það er augljóst að það tekur u.þ.b. tvöfalt meiri tíma. Það sem væri verðugast að skoða væri mismunur tímans, sem sést þó ágætlega hér, að í engri að þessum gagnagrindum virðist taka mikið meira en tvöfalt meiri tíma að setja tvöfalt fleiri stök inn, sem þýðir að innsetningartíminn í hlutfalli við stærð gagnagrindarinnar vex lítið eftir því sem gagnagrindirnar stækka."
   ]
  },
  {
   "cell_type": "markdown",
   "metadata": {},
   "source": [
    "<hr>\n",
    "#### 5.1.1 Leitartími í hlutfalli við fjölda leita\n",
    "##### Á næstu sex gröfum eru tvær leitir skoðaðar hlið við hlið:\n",
    "###### Einungis leitað í lyklum í gagnagrindinni Árangursrík leit\n",
    "###### Helmingur leita að lyklum sem eru ekki í gagnagrindunum: Hálf-árangurslaus leit\n",
    "\n",
    "\n",
    "![title](pics_50f/GrafLeitartimi500-0.png)\n",
    "![title](pics_50f/GrafLeitartimi500-3.png)\n",
    "![title](pics_50f/GrafLeitartimi2500-1.png)\n",
    "![title](pics_50f/GrafLeitartimi2500-4.png)\n",
    "![title](pics_50f/GrafLeitartimi5000-2.png)\n",
    "![title](pics_50f/GrafLeitartimi5000-5.png)"
   ]
  },
  {
   "cell_type": "markdown",
   "metadata": {},
   "source": [
    "```Python\n",
    "for j in range(k): # Teiknum gröf af árangursríkri leit fyrir hvert n\n",
    "    GrafLeitartimi(LinuheitiLeit, LTarangursrikurS, LTarangursrikurR, k, ms, ns,\n",
    "               'Árangursrík leit í %d-staka gagnagrindum',j,j)\n",
    "for j in range(k): # Teiknum gröf af árangurslítilli leit fyrir hvert n\n",
    "    GrafLeitartimi(LinuheitiLeit, LTarangurslitillS, LTarangurslitillR, k, ms, ns,\n",
    "               'Hálf-árangurslaus leit í %d-staka gagnagrindum', j, k+j)\n",
    "```"
   ]
  },
  {
   "cell_type": "markdown",
   "metadata": {},
   "source": [
    "Hér sést enn betur að það er álíka hraðvirkt að leita í tvíleitartrjám sem upplifðu innsetningu slembiraðaðra og í hrúgutréum. Ferlar hrúgutré sem voru hlaðin með slembiröðuðum gildum (dökkrauð brotalína) sést varla á neinu grafinu, því þær eru undir ljósrauðu punktalínunum, sem tákna leitartíma í hrúgutrjám þar sem röðun lykla við innsetningu var í ~_hækkandi_ röð. Þetta sýnir enn betur hvað hrúgutréið er áreiðanleg gagnagrind til að nota sem lyklasafn, því leitar- og innsetningartími virðist að mestu leiti óháður röðun lyklanna við innsetningu.\n",
    "\n",
    "Leitartíminn í skopplistunum er einnig svipaður hvernig sem röðun gilda var við innsetningu (bláu ferlarnir). Það kemur í raun ekkert annað til greina, því röðunin á neðsta raðaða listanum er ótvíræð eftir innsetningu sömu gilda, og efri listarnir ættu að vera svipað langir, þó tilvist þeirra sé ákvörðuð með slembigjafa. Engu að síður þá sést að hálf-árangurslausa leitinn (til hægri) er pínulítið hægvirkari, eins og nefnd var í kafla 4.\n",
    "\n",
    "Leitartíminn á tvíleitartrjám sést ekki á $n=500$ grafinu, vegna þess að hann er undir báðum skopplistaferlunum (ótrúlegt en satt!). Þetta má staðfesta með því að skoða gildin í Töflu 5 að ofan. Eins og sést milli grafa þá eykst leitartíminn í illa smíðuðu tvíleitartrénum mest eftir því sem gagnagrindurnar innihalda fleiri lykla. Leitartíminn í skopplistanum eykst tölulega meira en í gagnagrindum sem hafa lægri leitartíma, en er sú aukning hlutfallslega meiri miðað við leitartíma í minni lyklasöfnum? Skoðum það næst."
   ]
  },
  {
   "cell_type": "markdown",
   "metadata": {},
   "source": [
    "<hr>\n",
    "#### 5.1.2 Leitartími í hlutfalli við stærð gagnagrindarinnar\n",
    "##### Á næstu sex gröfum eru skoðaðar árangursrík og hálf-árangurslaus leit hlið við hlið"
   ]
  },
  {
   "cell_type": "markdown",
   "metadata": {},
   "source": [
    "```python\n",
    "for j in range(k): # Teiknum gröf af árangursríkri leit fyrir n með fast m\n",
    "    GrafLeitartimi_mFast(LinuheitiLeit, LTarangursrikurS, LTarangursrikurR, k, ms, ns,\n",
    "               '%d árangursríkar leitir',j,2*k+j)\n",
    "for j in range(k): # Teiknum gröf af árangurslítilli leit fyrir n með fast m\n",
    "    GrafLeitartimi_mFast(LinuheitiLeit, LTarangurslitillS, LTarangurslitillR, k, ms, ns,\n",
    "               '%d hálf-árangurslausar leitir', j, 3*k+j)\n",
    "```\n",
    "![title](pics_50f/GrafLeitartimi0-6.png)\n",
    "![title](pics_50f/GrafLeitartimi0-9.png)\n",
    "![title](pics_50f/GrafLeitartimi1-7.png)\n",
    "![title](pics_50f/GrafLeitartimi1-10.png)\n",
    "![title](pics_50f/GrafLeitartimi2-8.png)\n",
    "![title](pics_50f/GrafLeitartimi2-11.png)"
   ]
  },
  {
   "cell_type": "markdown",
   "metadata": {},
   "source": [
    "Frá þessu sjónarhorni sést loksins að leitartíminn eykst í lograhlutfalli við stærð gagnagrindanna. Þetta virðist gilda um allar gagnagrindurnar, þó það sé ekki gott að halda þessu fram fyrir víst nema skoðaðar væru fleiri gagnagrindur og jafnvel stærri gagnagrindur. Engu að síður þá eiga allar gagnagrindurnar það sameiginlegt að fjöldi staka í gagnagrindinni virðist hækka leitartímann lítið, eins og sást líka á milli taflna í fjórða kafla. Það mætti því vænta þess að tímamunurinn á að leita í gagnagrindum með $10.000$ lyklum og jafnvel $100.000$ lyklum taki ekki mikið lengri tíma, og að munurinn milli $400.000$ leita í gagnagrindum með $100.000$ lyklum taki álíka mikinn tíma og jafn margar leitir í gagnagrindum með $200.000$ lyklum. Til fróðleiks verður forritið keyrt með hærri gildi á $n$, sömu $m$, og `f`$=10$ og línuritin verða birt í kafla 7.5.\n",
    "\n",
    "Hér sést einnig að fjöldi staka í gagnagrindinni virðist hafa minnst jafn lítil eða minni áhrif á leitartímann í skopplistanum og í tréunum. Hins vegar Er grunnleitartíminn hærri (þ.e.a.s. leitartíminn er hár í litlum skopplistum). Það er möguleiki að gagnagrindin henti betur fyrir stærri lyklasöfn, og verður áhugavert að skoða í kafla 7.5."
   ]
  },
  {
   "cell_type": "markdown",
   "metadata": {},
   "source": [
    "<hr>\n",
    "## 6. Niðurstaða og samantekt\n",
    "\n",
    "Það er ljóst að hrúgutréið kemur best út úr tímamælingunum í heild. Það virðist vera áreiðanlegt lyklasafn sem virkar vel undir hvers kyns kringumstæðum. Þetta sýnir að slembnar gagnagrindur geta verið ágætis kostur og sannarlega hægt að mæla með hrúgutrjám sem lyklasafn fram yfir hin tvö.\n",
    "\n",
    "Tvíleitartréið stendur sig best af þessum gagnagrindum þegar notandinn getur verið viss um að innsetningin verði slembin og að valin sé góð rót, þannig að það vaxi jafnt. Það er ljóst að aðferð eins og Fisher-Yates stokkun er nokkuð áreiðanlegar til að skapa þessi tilvik. Það væri því hægt að mæla með venjulegu tvíleitartréi sem lyklasafni sem á að smíða einu sinni og framkvæma fáar breytingar á, en aðallega nota sem uppflettirit. Hins vegar fellur tvíleitartréið aftur úr ef gildin eru sett inn í næstum því hækkandi röð, og $n/2$ víxlanir voru alls ekki nóg til að bjarga því frá því að haga sér nánast eins og í sínu versta tilfelli, en það hefði verið áhugaverður samanburður sem hægt væri að útfæra sem aukaverkefni.\n",
    "\n",
    "Það væri sannarlega áhugavert að skoða skopplistann betur. Hann fékk ekki að sína styrkleika sína, t.d. ef framkvæmdar yrðu leitir að lyklum sem eru minni en minnsti lykillinn í lyklasöfnunum, eða ef innsetning væri í lækkandi röð þá myndi skopplistinn sleppa við gríðarlega margar ítranir (nánast eins og `prepend` listavinnsuaðgerðin). Enn fremur fær hann tækifæri til að láta ljós sitt skína í viðaukanum hér að eftir. Ef hann stendur sig ekki betur þar, þá er enn og aftur möguleiki á að það séu villur í útfærslu höfunds á gagnagrindinni, t.d. að hann sé að byggja of margar hæðir of snemma. Þá mætti skoða þau til, eða minnka líkurnar á að færa hnút í efri lista með smávægilegum breytingum á aðferðinni `flipCoin()`.\n",
    "\n",
    "Í heildina litið þá var þetta áhugavert verkefni að vinna, og ánægjulegt að sjá undir lokin að leitartíminn eykst í lograhlutfalli við fjölda staka í gagnagrindinni.\n",
    "<hr>"
   ]
  },
  {
   "cell_type": "markdown",
   "metadata": {},
   "source": [
    "<hr>\n",
    "## 7. Fleiri aðgerðir og viðbætur"
   ]
  },
  {
   "cell_type": "markdown",
   "metadata": {},
   "source": [
    "### 7.1 Aðferðir til að smíða og birta töflur"
   ]
  },
  {
   "cell_type": "code",
   "execution_count": 14,
   "metadata": {},
   "outputs": [],
   "source": [
    "from IPython.display import HTML, display\n",
    "import tabulate\n",
    "\n",
    "# Skeytir línuheiti L fram fyrir hverja línu í T\n",
    "def TaflaLinuheiti(L,I):\n",
    "    T = []\n",
    "    for i in range(len(L)):\n",
    "        T.append(np.concatenate((np.array([L[i]]),I[i])))\n",
    "    return T\n",
    "\n",
    "# Býr til lista af gildum með leitartíma til að birta í töflu\n",
    "def LeitartimaToflur(L,T,ms):\n",
    "    Ts = []\n",
    "    for i in range(len(T[0])):\n",
    "        Ts.append(\n",
    "            TaflaLinuheiti(L, [ms,T[0][i],T[1][i],T[2][i]]))\n",
    "    return Ts\n",
    "\n",
    "# Birtir staka töflu sem HTML Table í Jupyter Notebook\n",
    "def BirtaTofluHTML(T,H=\"\"):\n",
    "    display(HTML(\"<h5>\" + H + \"</h5>\"))\n",
    "    display(HTML(tabulate.tabulate(T[1:len(T)], T[0], tablefmt='html')))\n",
    "    \n",
    "# Birtir lista af töflum sem HTML Table í Jupyter Notebook\n",
    "def BirtaToflurHTML(Ts,ns,H):\n",
    "    for i in range(len(ns)):\n",
    "        BirtaTofluHTML(Ts[i],H%ns[i])"
   ]
  },
  {
   "cell_type": "markdown",
   "metadata": {},
   "source": [
    "<hr>\n",
    "### 7.2 Aðferðir til að smíða og birta línurit"
   ]
  },
  {
   "cell_type": "code",
   "execution_count": 15,
   "metadata": {},
   "outputs": [],
   "source": [
    "import matplotlib.pyplot as plt\n",
    "\n",
    "def GrafInnsetningartimi(LH,TIS, TIR, k, ns):\n",
    "    figInnsetning, axisInnsetning = plt.subplots()\n",
    "    litir1 = ['green', 'darkred', 'blue']\n",
    "    litir2 = ['lightgreen', 'red', 'lightblue']\n",
    "    merki = ['o', 'x', '^']\n",
    "    titlarB = [' slembiröð', ' ~hækkandi röð'] \n",
    "    \n",
    "    for i in range(k):\n",
    "#        print('Gerum feril með y-as:', ns, ', x-as:', TIS[i], \n",
    "#              'merki', merki[i], 'litur', litir1[i], 'label:', LH[i+1]+titlarB[0])\n",
    "        axisInnsetning.plot(ns,TIS[i],\n",
    "        marker=merki[i], linestyle='--', color=litir1[i], \n",
    "        linewidth=2, label=LH[i+1]+titlarB[0])\n",
    "    \n",
    "    for i in range(k):\n",
    "#        print('Gerum feril með y-as:', ns, ', x-as:', TIR[i], \n",
    "#              'merki', merki[i], 'litur', litir2[i], 'label:', LH[i+1]+titlarB[1])\n",
    "        axisInnsetning.plot(ns,TIR[i],\n",
    "        marker=merki[i], linestyle=':', color=litir2[i],\n",
    "        linewidth=2, label=LH[i+1]+titlarB[1])\n",
    "    axisInnsetning.set(xlabel='Fjöldi Innsetninga', \n",
    "                    ylabel='Tími (s)',\n",
    "                    title = 'Fjöldi innsetninga á móti tíma')\n",
    "    \n",
    "    xs = np.arange(0, 5000, 10)\n",
    "    lg = lambda x: np.log1p(x)/800\n",
    "    ys = lg(xs)\n",
    "    axisInnsetning.plot(xs, ys, color='black', linewidth=1)\n",
    "    \n",
    "    lin = lambda x: x/100000\n",
    "    ys = lin(xs)\n",
    "    axisInnsetning.plot(xs, ys, color='black', linewidth=1)\n",
    "    \n",
    "    plt.xticks(np.arange(0, 5500, 500))\n",
    "    axisInnsetning.legend(fontsize='x-small')\n",
    "    axisInnsetning.grid()\n",
    "    plt.show()\n",
    "    figInnsetning.savefig('GrafInnsetningartimi.png')\n",
    "\n",
    "\n",
    "def GrafLeitartimi(LH, TS, TR, k, ms, ns, titill, j, figNumber):\n",
    "    fig, axis = plt.subplots()\n",
    "    litir1 = ['green', 'darkred', 'blue']\n",
    "    litir2 = ['lightgreen', 'red', 'lightblue']\n",
    "    merki = ['o', 'x', '^']\n",
    "    titlarB = [' slembiröð', ' ~hækkandi röð'] \n",
    "    for i in range(k):\n",
    "#        print('Gerum feril með y-as:', ms, ', x-as:', TS[i][j], \n",
    "#              'merki', merki[i], 'litur', litir1[i], 'label:', LH[i+1]+titlarB[0])\n",
    "        axis.plot(ms,TS[i][j],\n",
    "        marker=merki[i], linestyle='--', color=litir1[i], \n",
    "        linewidth=2, label=LH[i+1]+titlarB[0])\n",
    "    \n",
    "    for i in range(k):\n",
    "#        print('Gerum feril með y-as:', ms, ', x-as:', TR[i][j], \n",
    "#              'merki', merki[i], 'litur', litir2[i], 'label:', LH[i+1]+titlarB[1])\n",
    "        axis.plot(ms,TR[i][j],\n",
    "        marker=merki[i], linestyle=':', color=litir2[i],\n",
    "        linewidth=2, label=LH[i+1]+titlarB[1])\n",
    "    axis.set(xlabel='Fjöldi Leita', \n",
    "                    ylabel='Tími (s)',\n",
    "                    title = titill%ns[j])\n",
    "    \n",
    "    xs = np.arange(0, ms[2]+ms[0]//2, ms[0]//2)\n",
    "    lg = lambda x: np.log1p(x)/20\n",
    "    ys = lg(xs)\n",
    "    axis.plot(xs, ys, color='black', linewidth=1)\n",
    "    \n",
    "    lin = lambda x: x/100000\n",
    "    ys = lin(xs)\n",
    "    axis.plot(xs, ys, color='black', linewidth=1)\n",
    "    \n",
    "    plt.xticks(np.arange(0, ms[2], ms[0]))\n",
    "    axis.legend(fontsize='small')\n",
    "    axis.grid()\n",
    "    plt.show()\n",
    "    fig.savefig('GrafLeitartimi%d-%d.png'%(ns[j],figNumber))\n",
    "    \n",
    "\n",
    "def GrafLeitartimi_mFast(LH, TS, TR, k, ms, ns, titill, j, figNumber):\n",
    "    fig, axis = plt.subplots()\n",
    "    litir1 = ['green', 'darkred', 'blue']\n",
    "    litir2 = ['lightgreen', 'red', 'lightblue']\n",
    "    merki = ['o', 'x', '^']\n",
    "    titlarB = [' slembiröð', ' ~hækkandi röð'] \n",
    "\n",
    "    for i in range(k):\n",
    "#        print('Gerum feril með y-as:', ns, ', x-as:', TS[i].T[j], \n",
    "#              'merki', merki[i], 'litur', litir1[i], 'label:', LH[i+1]+titlarB[0])\n",
    "        axis.plot(ns,TS[i].T[j],\n",
    "        marker=merki[i], linestyle='--', color=litir1[i], \n",
    "        linewidth=2, label=LH[i+1]+titlarB[0])\n",
    "    \n",
    "    for i in range(k):\n",
    "#        print('Gerum feril með y-as:', ns, ', x-as:', TR[i].T[j], \n",
    "#              'merki', merki[i], 'litur', litir2[i], 'label:', LH[i+1]+titlarB[1])\n",
    "        axis.plot(ns,TR[i].T[j],\n",
    "        marker=merki[i], linestyle=':', color=litir2[i],\n",
    "        linewidth=1, label=LH[i+1]+titlarB[1])\n",
    "    axis.set(xlabel='Fjöldi staka í gagnagrind', \n",
    "                    ylabel='Tími (s)',\n",
    "                    title = titill%ms[j])\n",
    "    axis.legend(fontsize='x-small')\n",
    "    axis.grid()\n",
    "    plt.show()\n",
    "    fig.savefig('GrafLeitartimi%d-%d.png'%(j,figNumber))"
   ]
  },
  {
   "cell_type": "markdown",
   "metadata": {},
   "source": [
    "<hr>\n",
    "### 7.4 Meira um SkipList"
   ]
  },
  {
   "cell_type": "markdown",
   "metadata": {},
   "source": [
    "```Python\n",
    "# class SkipList:\n",
    "# ...\n",
    "    \"\"\" prentar hvern layer af listum L í SkipList á forminu:\n",
    "        L[0].key (L[0].down.key) -> L[1] (L[1].down.key)...\n",
    "    \"\"\"\n",
    "    def printSkipList(self):\n",
    "        h = self.layers\n",
    "        SL = self.sortedLists\n",
    "        for i in range(h,-1,-1):\n",
    "            L = SL[i]\n",
    "            v = L.head\n",
    "            l = ''\n",
    "            d = ''\n",
    "            while v is not None:\n",
    "                d = str(v.down.key) if v.down is not None else ''\n",
    "                l += str(v.key)  + ' (' + d + ') ' + '-> '\n",
    "                v = v.right\n",
    "            print(l)\n",
    "            print(d)\n",
    "            print()\n",
    "\n",
    "def mainSkipList():\n",
    "    skiplist = SkipList()\n",
    "    \n",
    "    for i in range(15):\n",
    "        r = 2*i-1 # random.randint(0,100)\n",
    "        skiplist.insert(r)\n",
    "\n",
    "    skiplist.printSkipList()\n",
    "    \n",
    "    c=0\n",
    "    for i in range(30):\n",
    "        if not skiplist.contains(i):\n",
    "            c+=1\n",
    "    print(c)\n",
    "```"
   ]
  },
  {
   "cell_type": "markdown",
   "metadata": {},
   "source": [
    "<hr>\n",
    "### 7.5 Leit í stærri lyklasöfnum\n",
    "Eftirfarandi eru niðurstöður úr eins gagnagrindum, jafn mörgum leitum og áður, og lyklum dreifðum á sama máta.\n",
    "\n",
    "![title](aukagraf0-0.png)\n",
    "![title](aukagraf0-3.png)\n",
    "![title](aukagraf1-1.png)\n",
    "![title](aukagraf1-4.png)\n",
    "![title](aukagraf2-2.png)\n",
    "![title](aukagraf2-5.png)\n",
    "\n",
    "Eins og sést þá eykst leitartíminn vitaskuld, en $400.000$ leitir í gagnagrindum með $400.000$ lyklum taka einungis helmingi meiri tíma en jafn margar leitir í gagnagrindum með $5.000$ stök! Það er stórfínn árangur, og heldur áfram að benda til um að leitartími vaxi í lograhlutfalli við fjölda lykla í gagnagrindinni."
   ]
  }
 ],
 "metadata": {
  "kernelspec": {
   "display_name": "Python 3",
   "language": "python",
   "name": "python3"
  },
  "language_info": {
   "codemirror_mode": {
    "name": "ipython",
    "version": 3
   },
   "file_extension": ".py",
   "mimetype": "text/x-python",
   "name": "python",
   "nbconvert_exporter": "python",
   "pygments_lexer": "ipython3",
   "version": "3.6.5"
  }
 },
 "nbformat": 4,
 "nbformat_minor": 2
}
