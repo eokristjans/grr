{
 "cells": [
  {
   "cell_type": "markdown",
   "metadata": {},
   "source": [
    "#### Style Block\n",
    "<style>\n",
    "* { max-width = 800px; }\n",
    "</style>"
   ]
  },
  {
   "cell_type": "markdown",
   "metadata": {},
   "source": [
    "# Verkefni IIA\n",
    "## Samanburður á þremur útfærslum af lyklasöfnum\n",
    "### Höfundur: Erling Óskar Kristjánsson\n",
    "<hr>\n",
    "#### Námskeið: Greining Reiknirita\n",
    "#### Umsjónamaður: Hjálmtýr Hafsteinsson\n",
    "#### Stofnun: Háskóli Íslands\n",
    "#### Vor 2019\n",
    "<hr>"
   ]
  },
  {
   "cell_type": "markdown",
   "metadata": {},
   "source": [
    "## Lýsing\n",
    "\n",
    "Í þessu verkefni verða útfærðar og bornar saman þrjár gagnagrindur til að útfæra lyklasafn.\n",
    "Gagnagrindurnar eru:\n",
    "\n",
    "1. Tvíleitartré (Binary Search Tree)\n",
    "2. Hrúgutré (Treap)\n",
    "3. Skopplisti (Skip list)\n",
    "\n",
    "Gagnagrindurnar verða útfærðar í Python með aðgerðunum:\n",
    "\n",
    "- Innsetning\n",
    "- Uppfletting\n",
    "\n",
    "Smíðaðar verða gagnagrindur og gögn.\n",
    "\n",
    "Aðferðirnar verða svo tímamældar, niðurstöður birtar í línuritum, bornar saman og túlkaðar.\n",
    "\n",
    "Innsetningin verður tímamæld með bæði með $n_1=2000$ og svo með $n_2=5000$ lyklum þar sem gildi lyklana verður $1, 3, 5, ..., 2n-1$. Röðun lyklanna við innsetingu verður tvenns konar:\n",
    "\n",
    "- Lyklarnir eru í slembiröð.\n",
    "- Lyklarnir eru í hækkandi röð, burtséð frá $\\frac{n}{10}$ handahófskenndum víxlunum.\n",
    "\n",
    "Fyrir hvora gerð af innsetningu verða svo framkvæmdar tvær mismunandi tímamælingar á leit að $m_1=100.000$ og svo $m_2=200.000$ lyklum. Í öllum tilfellum verða allir lyklar jafnlíklegir til að verða fyrir leitinni, en ýmist verður\n",
    "\n",
    "- Einungis leitið að lyklum sem eru í gagnagrindinni, eða\n",
    "- Helmingur leitana eru að gildum sem eru ekki í gagnagrindinni.\n",
    "\n",
    "\n",
    "<hr>\n",
    "Því má summera tímamælingar á leit upp í:\n",
    "\n",
    "- Slembin innsetning, aðeins leitað að lyklum í gagnagrindinni\n",
    "- Slembin innsetning, helmingur leitana árangurslaus\n",
    "- Náröðuð innsetning, aðeins leitað að lyklum í gagnagrindinni\n",
    "- Náröðuð innsetning, helmingur leitana árangurslaus\n",
    "\n",
    "<hr>"
   ]
  },
  {
   "cell_type": "markdown",
   "metadata": {},
   "source": [
    "## Útfærsla á Gagnagrindum"
   ]
  },
  {
   "cell_type": "code",
   "execution_count": 72,
   "metadata": {},
   "outputs": [],
   "source": [
    "\"\"\"\"\"\"\"\"\" global imports \"\"\"\"\"\"\"\"\"\n",
    "import math\n",
    "import random\n",
    "import numpy as np\n",
    "import time"
   ]
  },
  {
   "cell_type": "markdown",
   "metadata": {},
   "source": [
    "<hr>\n",
    "### Tvíleitartré"
   ]
  },
  {
   "cell_type": "code",
   "execution_count": 2,
   "metadata": {},
   "outputs": [],
   "source": [
    "# Tvíleitartré\n",
    "class Tree:\n",
    "\n",
    "    # Smiður\n",
    "    def __init__(self, data):\n",
    "        self.data = data\n",
    "        self.left = None\n",
    "        self.right = None\n",
    "\n",
    "    # Innseting\n",
    "    def insert(self, data):\n",
    "        if self.data:\n",
    "            if data < self.data:\n",
    "                if self.left is None:\n",
    "                    self.left = Tree(data)\n",
    "                else:\n",
    "                    self.left.insert(data)\n",
    "            elif data > self.data:\n",
    "                if self.right is None:\n",
    "                    self.right = Tree(data)\n",
    "                else:\n",
    "                    self.right.insert(data)\n",
    "        else:\n",
    "            self.data = data\n",
    "\n",
    "    # Uppfletting    \n",
    "    def contains(self, key):\n",
    "        if key < self.data:\n",
    "            if self.left is None:\n",
    "                return False\n",
    "            return self.left.contains(key)\n",
    "        elif key > self.data:\n",
    "            if self.right is None:\n",
    "                return False\n",
    "            return self.right.contains(key)\n",
    "        else:\n",
    "            return True\n",
    "\n",
    "    # Prenta tréið. Eyða fyrir skil\n",
    "    def PrintTree(self):\n",
    "        if self.left:\n",
    "            self.left.PrintTree()\n",
    "        print( self.data),\n",
    "        if self.right:\n",
    "            self.right.PrintTree()"
   ]
  },
  {
   "cell_type": "markdown",
   "metadata": {},
   "source": [
    "<hr>\n",
    "### Hrúgutré"
   ]
  },
  {
   "cell_type": "code",
   "execution_count": 1,
   "metadata": {},
   "outputs": [],
   "source": [
    "class TreapNode():\n",
    "    # Smiður\n",
    "    def __init__(self, data, parent = None):\n",
    "        self.data = data\n",
    "        self.priority = random.random()\n",
    "        self.parent = parent\n",
    "        self.left = None\n",
    "        self.right = None\n",
    "\n",
    "\n",
    "class Treap():\n",
    "    # Smiður\n",
    "    def __init__(self):\n",
    "        self.root = None\n",
    "\n",
    "    # Uppfletting    \n",
    "    def contains(self, data, r = None):\n",
    "        if r is None:\n",
    "            if self.root is None:\n",
    "                return False\n",
    "            r = self.root\n",
    "        if data < r.data:\n",
    "            if r.left is None:\n",
    "                return False\n",
    "            return self.contains(data, r.left)\n",
    "        elif data > r.data:\n",
    "            if r.right is None:\n",
    "                return False\n",
    "            return self.contains(data, r.right)\n",
    "        else:\n",
    "            return True\n",
    "\n",
    "    # innsetning\n",
    "    def insert(self, data, r = None):\n",
    "        if r is None:\n",
    "            if self.root is None:\n",
    "                self.root = TreapNode(data)\n",
    "                return\n",
    "            else:\n",
    "                r = self.root\n",
    "        if data < r.data:\n",
    "            if r.left is None:\n",
    "                r.left = TreapNode(data, r)\n",
    "                self.balance(r.left)\n",
    "            else:\n",
    "                self.insert(data, r.left)\n",
    "        elif data > r.data:\n",
    "            if r.right is None:\n",
    "                r.right = TreapNode(data, r)\n",
    "                self.balance(r.right)\n",
    "            else:\n",
    "                self.insert(data, r.right)\n",
    "        else: # data == r.data\n",
    "            return\n",
    "\n",
    "    # laga hrúguskilyrði\n",
    "    def balance(self, s):\n",
    "        while s.parent is not None and s.priority < s.parent.priority:\n",
    "            if s.data < s.parent.data:\n",
    "                self.rotate_right(s)\n",
    "            else: # self.data > self.parent.data\n",
    "                self.rotate_left(s)\n",
    "        if s.parent is None:\n",
    "            self.root = s\n",
    "         \n",
    "    def rotate_right(self, s):\n",
    "        p = s.parent\n",
    "        g = p.parent\n",
    "        if s.right is not None:\n",
    "            s.right.parent = p\n",
    "        if g is not None:\n",
    "            if p is g.left:\n",
    "                g.left = s\n",
    "            else: # p is g.right\n",
    "                g.right = s\n",
    "        p.left = s.right\n",
    "        s.parent = g\n",
    "        p.parent = s\n",
    "        s.right = p\n",
    "                       \n",
    "    def rotate_left(self, s):\n",
    "        p = s.parent\n",
    "        g = p.parent\n",
    "        if s.left is not None:\n",
    "            s.left.parent = p\n",
    "        if g is not None:\n",
    "            if p is g.left:\n",
    "                g.left = s\n",
    "            else: # p is g.right\n",
    "                g.right = s\n",
    "        p.right = s.left\n",
    "        s.parent = g\n",
    "        p.parent = s\n",
    "        s.left = p"
   ]
  },
  {
   "cell_type": "markdown",
   "metadata": {},
   "source": [
    "<hr>\n",
    "### Skip List"
   ]
  },
  {
   "cell_type": "code",
   "execution_count": 3,
   "metadata": {},
   "outputs": [],
   "source": [
    "class ListNode():\n",
    "    \n",
    "    def __init__(self, key, right, down=None):\n",
    "        self.key = key\n",
    "        self.right = right\n",
    "        self.down = down\n",
    "\n",
    "\n",
    "class SortedLinkedList():\n",
    "    \n",
    "    def __init__(self):\n",
    "        self.tail = ListNode(math.inf, None)\n",
    "        self.head = ListNode(-math.inf, self.tail)\n",
    "        \n",
    "\n",
    "class SkipList():\n",
    "\n",
    "    def __init__(self):\n",
    "        self.layers = 0\n",
    "        self.sortedLists = [SortedLinkedList()]\n",
    "\n",
    "\n",
    "    def contains(self, x):\n",
    "        v = self.sortedLists[self.layers].head\n",
    "        while v is not None and v.key != x:\n",
    "            if v.right.key > x:\n",
    "                v = v.down\n",
    "            else:\n",
    "                v = v.right\n",
    "        return v is not None and v.key == x\n",
    "\n",
    "\n",
    "    def insert(self, x):\n",
    "        h = self.layers\n",
    "        L = self.sortedLists[h]\n",
    "        v = L.head\n",
    "        rVs = []\n",
    "        while True: # Could put 'v.right.key == x' here instead of True\n",
    "            if v.right.key < x:\n",
    "                v = v.right\n",
    "            elif v.down is not None:\n",
    "                rVs.append(v)\n",
    "                v = v.down\n",
    "            elif v.right.key == x: # but fewer comparisons if kept here\n",
    "                return\n",
    "            else: # v.right.key > x and v.down is None. We are here!\n",
    "                v.right = ListNode(x, v.right, v.down)\n",
    "                self.updateAbove(x, rVs)\n",
    "                break\n",
    "\n",
    "\n",
    "    def updateAbove(self, x, rVs):\n",
    "        i, n = 0, len(rVs)\n",
    "        b = self.flipCoin() # flip coin\n",
    "        while i < n and b: # add x to above layers\n",
    "            rv = rVs[n-i-1]\n",
    "            d = rv.down\n",
    "            while x >= d.right.key: # make sure x is pointing down to itself\n",
    "                d = d.right\n",
    "            rv.right = ListNode(x, rv.right, d)\n",
    "            b = b and self.flipCoin()\n",
    "            i+=1\n",
    "        if i == n and b: # already added to top layer, add another?\n",
    "            L = SortedLinkedList()\n",
    "            L.head.down = self.sortedLists[self.layers].head\n",
    "            L.tail.down = self.sortedLists[self.layers].tail\n",
    "            self.layers += 1\n",
    "            self.sortedLists.append(L)\n",
    "\n",
    "\n",
    "    def flipCoin(self):\n",
    "        return random.randint(0,1)==1"
   ]
  },
  {
   "cell_type": "markdown",
   "metadata": {},
   "source": [
    "<hr>\n",
    "## Smíði gagna\n",
    "\n",
    "### Föll til notkunar við gerð gagna "
   ]
  },
  {
   "cell_type": "code",
   "execution_count": 63,
   "metadata": {},
   "outputs": [],
   "source": [
    "\"\"\"\"\"\"\"\"\" Búa til gögn fyrir innsetningu \"\"\"\"\"\"\"\"\"\n",
    "def SmidaInnsetningarLyklaLista(Ss, Rs, ns):\n",
    "    i = 0\n",
    "    for n in ns:\n",
    "        Ss.append(np.arange(1, 2*n+1, 2))\n",
    "        Rs.append(np.copy(Ss[i]))\n",
    "        random.shuffle(Ss[i])\n",
    "        RandomVixlanir(Rs[i], n)\n",
    "        i+=1\n",
    "\n",
    "\"\"\"\"\"\"\"\"\" Búa til gögn fyrir leit \"\"\"\"\"\"\"\"\"\n",
    "def SmidaLeitarLyklaLista(m, ns, k, b):\n",
    "    Ls = []\n",
    "    for i in range(k):\n",
    "        n = ns[i]\n",
    "        a = np.arange(0, 2*n) if b else np.arange(1, 2*n+1, 2)\n",
    "        Ls.append(a)\n",
    "        while len(Ls[i]) < m:\n",
    "            Ls[i] = np.concatenate((Ls[i], a))\n",
    "        random.shuffle(Ls[i])\n",
    "    return Ls"
   ]
  },
  {
   "cell_type": "markdown",
   "metadata": {},
   "source": [
    "<hr>\n",
    "### Mælingar á innsetningartíma og leitartíma"
   ]
  },
  {
   "cell_type": "code",
   "execution_count": 70,
   "metadata": {},
   "outputs": [],
   "source": [
    "\"\"\"\"\"\"\"\"\"\"\"\"\"\"\" local imports \"\"\"\"\"\"\"\"\"\"\"\"\"\"\"\n",
    "from Treap import Treap\n",
    "from Tree import Tree\n",
    "from SkipList import SkipList\n",
    "from FunctionsV2 import SmidaInnsetningarLyklaLista, SmidaLeitarLyklaLista\n",
    "from FunctionsV2 import MaelaInnsetningartima, MaelaLeitartima\n",
    "\n",
    "\n",
    "\"\"\"\"\"\"\"\"\"\"\"\"\"\"\" Fjöldi mælinga \"\"\"\"\"\"\"\"\"\"\"\"\"\"\"\n",
    "k = 3\n",
    "ns = [500, 2500, 5000]\n",
    "ms = [100000, 200000, 400000]\n",
    "\n",
    "\n",
    "\n",
    "\"\"\"\"\"\"\"\"\"\"\"\"\"\"\" Mælingar á innsetningartíma \"\"\"\"\"\"\"\"\"\"\"\"\"\"\"\n",
    "\"\"\" Smíða gögn til innsetningar \"\"\"\n",
    "SlembnirLyklar = []\n",
    "RadadirLyklar = []\n",
    "SmidaInnsetningarLyklaLista(SlembnirLyklar, RadadirLyklar, ns)\n",
    "\n",
    "\"\"\" Setja gögn í gagnagrindur \"\"\"\n",
    "TreapS = [Treap(),Treap(),Treap(),Treap()]\n",
    "TreapR = [Treap(),Treap(),Treap(),Treap()]\n",
    "innsetningartimiTreapSlembid = MaelaInnsetningartima(TreapS,SlembnirLyklar,k)\n",
    "innsetningartimiTreapRadad = MaelaInnsetningartima(TreapR,RadadirLyklar,k)\n",
    "\n",
    "TreeS = [Tree(1), Tree(1), Tree(1), Tree(1)]\n",
    "TreeR = [Tree(1), Tree(1), Tree(1), Tree(1)]\n",
    "innsetningartimiTreeSlembid = MaelaInnsetningartima(TreeS,SlembnirLyklar,k)\n",
    "innsetningartimiTreeRadad = MaelaInnsetningartima(TreeR,RadadirLyklar,k)\n",
    "\n",
    "SkipListS = [SkipList(), SkipList(), SkipList(), SkipList()]\n",
    "SkipListR = [SkipList(), SkipList(), SkipList(), SkipList()]\n",
    "innsetningartimiSkipListSlembid = MaelaInnsetningartima(\n",
    "                                    SkipListS,SlembnirLyklar,k)\n",
    "innsetningartimiSkipListRadad = MaelaInnsetningartima(\n",
    "                                    SkipListR,RadadirLyklar,k)\n",
    "\n",
    "\n",
    "\n",
    "\"\"\"\"\"\"\"\"\"\"\"\"\"\"\" Mælingar á leitartíma \"\"\"\"\"\"\"\"\"\"\"\"\"\"\"\n",
    "\"\"\" Smíða gögn til að leita að \"\"\"\n",
    "ArangursrikirLyklar = SmidaLeitarLyklaLista(SlembnirLyklar, ms, ns, k, False)\n",
    "ArangurslitlirLyklar = SmidaLeitarLyklaLista(SlembnirLyklar, ms, ns, k, True)\n",
    "\n",
    "\n",
    "\"\"\" Leitad ad lyklum sem eru i gagnagrindunum \"\"\"\n",
    "arangursrikurLeitartimiTreapSlembid = MaelaLeitartima(\n",
    "                                        TreapS, ArangursrikirLyklar,k)\n",
    "arangursrikurLeitartimiTreapRadad = MaelaLeitartima(\n",
    "                                        TreapR, ArangursrikirLyklar,k)\n",
    "\n",
    "arangursrikurLeitartimiTreeSlembid = MaelaLeitartima(\n",
    "                                        TreeS, ArangursrikirLyklar,k)\n",
    "arangursrikurLeitartimiTreeRadad = MaelaLeitartima(\n",
    "                                        TreeR, ArangursrikirLyklar,k)\n",
    "\n",
    "arangursrikurLeitartimiSkipListSlembid = MaelaLeitartima(\n",
    "                                            SkipListS, ArangursrikirLyklar,k)\n",
    "arangursrikurLeitartimiSkipListRadad = MaelaLeitartima(\n",
    "                                            SkipListR, ArangursrikirLyklar,k)\n",
    "\n",
    "\n",
    "\"\"\" Leitad ad lyklum þar sem helmingur er i gagnagrindunum \"\"\"\n",
    "arangurslitillLeitartimiTreapSlembid = MaelaLeitartima(\n",
    "                                            TreapS, ArangurslitlirLyklar,k)\n",
    "arangurslitillLeitartimiTreapRadad = MaelaLeitartima(\n",
    "                                            TreapR, ArangurslitlirLyklar,k)\n",
    "\n",
    "arangurslitillLeitartimiTreeSlembid = MaelaLeitartima(\n",
    "                                            TreeS, ArangurslitlirLyklar,k)\n",
    "arangurslitillLeitartimiTreeRadad = MaelaLeitartima(\n",
    "                                            TreeR, ArangurslitlirLyklar,k)\n",
    "\n",
    "arangurslitillLeitartimiSkipListSlembid = MaelaLeitartima(\n",
    "                                            SkipListS, ArangurslitlirLyklar,k)\n",
    "arangurslitillLeitartimiSkipListRadad = MaelaLeitartima(\n",
    "                                            SkipListR, ArangurslitlirLyklar,k)"
   ]
  },
  {
   "cell_type": "markdown",
   "metadata": {},
   "source": [
    "## Birting mælinga í töflum\n",
    "### Föll til að breyta töflum og birta þær"
   ]
  },
  {
   "cell_type": "code",
   "execution_count": 81,
   "metadata": {},
   "outputs": [],
   "source": [
    "def TaflaLinuheiti(L,T):\n",
    "    for i in range(len(L)):\n",
    "        T[i] = [L[i]] + T[i]\n",
    "        \n",
    "def BirtaTofluHTML(L,T,H=\"\"):\n",
    "    display(HTML(\"<h5>\" + H + \"</h5>\"))\n",
    "    TaflaLinuheiti(L,T)\n",
    "    display(HTML(tabulate.tabulate(T, tablefmt='html')))"
   ]
  },
  {
   "cell_type": "markdown",
   "metadata": {},
   "source": [
    "### Búum til töflur"
   ]
  },
  {
   "cell_type": "code",
   "execution_count": 88,
   "metadata": {},
   "outputs": [],
   "source": [
    "LinuheitiInnsetning = ['Fjöldi innsetninga','Tvíleitartré','Hrúgutré','Skopplisti']\n",
    "\n",
    "TaflaInnsetningartimiSlembid = [ns,\n",
    "                                innsetningartimiTreeSlembid,\n",
    "                                innsetningartimiTreapSlembid,\n",
    "                                innsetningartimiSkipListSlembid]\n",
    "\n",
    "TaflaInnsetningartimiRadad = [ns,\n",
    "                                innsetningartimiTreeRadad,\n",
    "                                innsetningartimiTreapRadad,\n",
    "                                innsetningartimiSkipListRadad]\n",
    "\n",
    "\n",
    "LinuheitiLeit = ['Fjöldi leita','Tvíleitartré','Hrúgutré','Skopplisti']\n",
    "\n",
    "TaflaArangursrikurLeitartimiSlembid = [ ms\n",
    ",arangursrikurLeitartimiTreeSlembid\n",
    ",arangursrikurLeitartimiTreapSlembid\n",
    ",arangursrikurLeitartimiSkipListSlembid]\n",
    "\n",
    "\n",
    "TaflaArangursrikurLeitartimiRadad = [ ms\n",
    ",arangursrikurLeitartimiTreeRadad\n",
    ",arangursrikurLeitartimiTreapRadad\n",
    ",arangursrikurLeitartimiSkipListRadad]\n",
    "\n",
    "\n",
    "TaflaArangurslitillLeitartimiSlembid = [ ms\n",
    ",arangurslitillLeitartimiTreeSlembid\n",
    ",arangurslitillLeitartimiTreapSlembid\n",
    ",arangurslitillLeitartimiSkipListSlembid]\n",
    "\n",
    "\n",
    "TaflaArangurslitillLeitartimiRadad = [ ms\n",
    ",arangurslitillLeitartimiTreeRadad\n",
    ",arangurslitillLeitartimiTreapRadad\n",
    ",arangurslitillLeitartimiSkipListRadad]"
   ]
  },
  {
   "cell_type": "markdown",
   "metadata": {},
   "source": [
    "### Birtum töflur"
   ]
  },
  {
   "cell_type": "code",
   "execution_count": 89,
   "metadata": {},
   "outputs": [
    {
     "data": {
      "text/html": [
       "<h5>Innsetningartími á lyklum í slembiröð</h5>"
      ],
      "text/plain": [
       "<IPython.core.display.HTML object>"
      ]
     },
     "metadata": {},
     "output_type": "display_data"
    },
    {
     "data": {
      "text/html": [
       "<table>\n",
       "<tbody>\n",
       "<tr><td>Fjöldi innsetninga</td><td style=\"text-align: right;\">500         </td><td style=\"text-align: right;\">2500        </td><td style=\"text-align: right;\">5000        </td></tr>\n",
       "<tr><td>Tvíleitartré      </td><td style=\"text-align: right;\">  0.0019764 </td><td style=\"text-align: right;\">   0.0106927</td><td style=\"text-align: right;\">   0.0248297</td></tr>\n",
       "<tr><td>Hrúgutré          </td><td style=\"text-align: right;\">  0.00231014</td><td style=\"text-align: right;\">   0.0157899</td><td style=\"text-align: right;\">   0.0310988</td></tr>\n",
       "<tr><td>Skopplisti        </td><td style=\"text-align: right;\">  0.00416789</td><td style=\"text-align: right;\">   0.0232852</td><td style=\"text-align: right;\">   0.0860327</td></tr>\n",
       "</tbody>\n",
       "</table>"
      ],
      "text/plain": [
       "<IPython.core.display.HTML object>"
      ]
     },
     "metadata": {},
     "output_type": "display_data"
    },
    {
     "data": {
      "text/html": [
       "<h5>Innsetningartími á lyklum í <i>hækkandi</i> röð</h5>"
      ],
      "text/plain": [
       "<IPython.core.display.HTML object>"
      ]
     },
     "metadata": {},
     "output_type": "display_data"
    },
    {
     "data": {
      "text/html": [
       "<table>\n",
       "<tbody>\n",
       "<tr><td>Fjöldi innsetninga</td><td style=\"text-align: right;\">500         </td><td style=\"text-align: right;\">2500        </td><td style=\"text-align: right;\">5000        </td></tr>\n",
       "<tr><td>Tvíleitartré      </td><td style=\"text-align: right;\">  0.0041638 </td><td style=\"text-align: right;\">   0.0286907</td><td style=\"text-align: right;\">   0.0501047</td></tr>\n",
       "<tr><td>Hrúgutré          </td><td style=\"text-align: right;\">  0.00233732</td><td style=\"text-align: right;\">   0.0124444</td><td style=\"text-align: right;\">   0.0310526</td></tr>\n",
       "<tr><td>Skopplisti        </td><td style=\"text-align: right;\">  0.00460508</td><td style=\"text-align: right;\">   0.0233775</td><td style=\"text-align: right;\">   0.0504577</td></tr>\n",
       "</tbody>\n",
       "</table>"
      ],
      "text/plain": [
       "<IPython.core.display.HTML object>"
      ]
     },
     "metadata": {},
     "output_type": "display_data"
    },
    {
     "data": {
      "text/html": [
       "<h4>Einungis leitað að lyklum sem eru í gagnagrindunum</h4>"
      ],
      "text/plain": [
       "<IPython.core.display.HTML object>"
      ]
     },
     "metadata": {},
     "output_type": "display_data"
    },
    {
     "data": {
      "text/html": [
       "<h5>Leitartími þegar lyklar voru settir inn í slembinni röð</h5>"
      ],
      "text/plain": [
       "<IPython.core.display.HTML object>"
      ]
     },
     "metadata": {},
     "output_type": "display_data"
    },
    {
     "data": {
      "text/html": [
       "<table>\n",
       "<tbody>\n",
       "<tr><td>Fjöldi leita</td><td style=\"text-align: right;\">100000       </td><td style=\"text-align: right;\">200000       </td><td style=\"text-align: right;\">400000      </td></tr>\n",
       "<tr><td>Tvíleitartré</td><td style=\"text-align: right;\">     0.260588</td><td style=\"text-align: right;\">     0.667936</td><td style=\"text-align: right;\">     1.70657</td></tr>\n",
       "<tr><td>Hrúgutré    </td><td style=\"text-align: right;\">     0.258123</td><td style=\"text-align: right;\">     0.787952</td><td style=\"text-align: right;\">     1.77351</td></tr>\n",
       "<tr><td>Skopplisti  </td><td style=\"text-align: right;\">     0.773593</td><td style=\"text-align: right;\">     1.46764 </td><td style=\"text-align: right;\">     3.85107</td></tr>\n",
       "</tbody>\n",
       "</table>"
      ],
      "text/plain": [
       "<IPython.core.display.HTML object>"
      ]
     },
     "metadata": {},
     "output_type": "display_data"
    },
    {
     "data": {
      "text/html": [
       "<h5>Leitartími þegar lyklar voru settir inn í <i>hækkandi</i> röð</h5>"
      ],
      "text/plain": [
       "<IPython.core.display.HTML object>"
      ]
     },
     "metadata": {},
     "output_type": "display_data"
    },
    {
     "data": {
      "text/html": [
       "<table>\n",
       "<tbody>\n",
       "<tr><td>Fjöldi leita</td><td style=\"text-align: right;\">100000       </td><td style=\"text-align: right;\">200000       </td><td style=\"text-align: right;\">400000      </td></tr>\n",
       "<tr><td>Tvíleitartré</td><td style=\"text-align: right;\">     0.728142</td><td style=\"text-align: right;\">     2.11075 </td><td style=\"text-align: right;\">     3.68918</td></tr>\n",
       "<tr><td>Hrúgutré    </td><td style=\"text-align: right;\">     0.264954</td><td style=\"text-align: right;\">     0.698074</td><td style=\"text-align: right;\">     1.61925</td></tr>\n",
       "<tr><td>Skopplisti  </td><td style=\"text-align: right;\">     0.750605</td><td style=\"text-align: right;\">     1.47106 </td><td style=\"text-align: right;\">     2.7612 </td></tr>\n",
       "</tbody>\n",
       "</table>"
      ],
      "text/plain": [
       "<IPython.core.display.HTML object>"
      ]
     },
     "metadata": {},
     "output_type": "display_data"
    },
    {
     "data": {
      "text/html": [
       "<h4>Helmingur lykla sem leitað er að eru í gagnagrindunum</h4>"
      ],
      "text/plain": [
       "<IPython.core.display.HTML object>"
      ]
     },
     "metadata": {},
     "output_type": "display_data"
    },
    {
     "data": {
      "text/html": [
       "<h5>Leitartími þegar lyklar voru settir inn í slembinni röð</h5>"
      ],
      "text/plain": [
       "<IPython.core.display.HTML object>"
      ]
     },
     "metadata": {},
     "output_type": "display_data"
    },
    {
     "data": {
      "text/html": [
       "<table>\n",
       "<tbody>\n",
       "<tr><td>Fjöldi leita</td><td style=\"text-align: right;\">100000       </td><td style=\"text-align: right;\">200000       </td><td style=\"text-align: right;\">400000      </td></tr>\n",
       "<tr><td>Tvíleitartré</td><td style=\"text-align: right;\">     0.206287</td><td style=\"text-align: right;\">     0.448677</td><td style=\"text-align: right;\">     1.09166</td></tr>\n",
       "<tr><td>Hrúgutré    </td><td style=\"text-align: right;\">     0.246984</td><td style=\"text-align: right;\">     0.567569</td><td style=\"text-align: right;\">     1.33886</td></tr>\n",
       "<tr><td>Skopplisti  </td><td style=\"text-align: right;\">     1.10748 </td><td style=\"text-align: right;\">     2.48003 </td><td style=\"text-align: right;\">     5.80236</td></tr>\n",
       "</tbody>\n",
       "</table>"
      ],
      "text/plain": [
       "<IPython.core.display.HTML object>"
      ]
     },
     "metadata": {},
     "output_type": "display_data"
    },
    {
     "data": {
      "text/html": [
       "<h5>Leitartími þegar lyklar voru settir inn í <i>hækkandi</i> röð</h5>"
      ],
      "text/plain": [
       "<IPython.core.display.HTML object>"
      ]
     },
     "metadata": {},
     "output_type": "display_data"
    },
    {
     "data": {
      "text/html": [
       "<table>\n",
       "<tbody>\n",
       "<tr><td>Fjöldi leita</td><td style=\"text-align: right;\">100000       </td><td style=\"text-align: right;\">200000       </td><td style=\"text-align: right;\">400000      </td></tr>\n",
       "<tr><td>Tvíleitartré</td><td style=\"text-align: right;\">     0.536033</td><td style=\"text-align: right;\">     1.18322 </td><td style=\"text-align: right;\">     2.5678 </td></tr>\n",
       "<tr><td>Hrúgutré    </td><td style=\"text-align: right;\">     0.222471</td><td style=\"text-align: right;\">     0.586666</td><td style=\"text-align: right;\">     1.37943</td></tr>\n",
       "<tr><td>Skopplisti  </td><td style=\"text-align: right;\">     1.05818 </td><td style=\"text-align: right;\">     2.21105 </td><td style=\"text-align: right;\">     4.50871</td></tr>\n",
       "</tbody>\n",
       "</table>"
      ],
      "text/plain": [
       "<IPython.core.display.HTML object>"
      ]
     },
     "metadata": {},
     "output_type": "display_data"
    }
   ],
   "source": [
    "BirtaTofluHTML(LinuheitiInnsetning, TaflaInnsetningartimiSlembid, \"Innsetningartími á lyklum í slembiröð\")\n",
    "BirtaTofluHTML(LinuheitiInnsetning, TaflaInnsetningartimiRadad, \"Innsetningartími á lyklum í <i>hækkandi</i> röð\")\n",
    "\n",
    "display(HTML(\"<h4>\" + \"Einungis leitað að lyklum sem eru í gagnagrindunum\" + \"</h4>\"))\n",
    "BirtaTofluHTML(LinuheitiLeit, TaflaArangursrikurLeitartimiSlembid, \"Leitartími þegar lyklar voru settir inn í slembinni röð\")\n",
    "BirtaTofluHTML(LinuheitiLeit, TaflaArangursrikurLeitartimiRadad, \"Leitartími þegar lyklar voru settir inn í <i>hækkandi</i> röð\")\n",
    "\n",
    "display(HTML(\"<h4>\" + \"Helmingur lykla sem leitað er að eru í gagnagrindunum\" + \"</h4>\"))\n",
    "BirtaTofluHTML(LinuheitiLeit, TaflaArangurslitillLeitartimiSlembid, \"Leitartími þegar lyklar voru settir inn í slembinni röð\")\n",
    "BirtaTofluHTML(LinuheitiLeit, TaflaArangurslitillLeitartimiRadad, \"Leitartími þegar lyklar voru settir inn í <i>hækkandi</i> röð\")"
   ]
  },
  {
   "cell_type": "markdown",
   "metadata": {},
   "source": [
    "[Birtum tvær töflur hlið við hlið](https://www.w3schools.com/howto/howto_css_two_columns.asp)"
   ]
  }
 ],
 "metadata": {
  "kernelspec": {
   "display_name": "Python 3",
   "language": "python",
   "name": "python3"
  },
  "language_info": {
   "codemirror_mode": {
    "name": "ipython",
    "version": 3
   },
   "file_extension": ".py",
   "mimetype": "text/x-python",
   "name": "python",
   "nbconvert_exporter": "python",
   "pygments_lexer": "ipython3",
   "version": "3.6.5"
  }
 },
 "nbformat": 4,
 "nbformat_minor": 2
}
